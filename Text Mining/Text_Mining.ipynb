{
 "cells": [
  {
   "cell_type": "markdown",
   "id": "600d716c",
   "metadata": {},
   "source": [
    "# problem statement-1"
   ]
  },
  {
   "cell_type": "code",
   "execution_count": 206,
   "id": "af90e281",
   "metadata": {},
   "outputs": [],
   "source": [
    "import re\n",
    "import numpy as np\n",
    "import pandas as pd\n",
    "import seaborn as sns"
   ]
  },
  {
   "cell_type": "code",
   "execution_count": 207,
   "id": "3a1e37e0",
   "metadata": {},
   "outputs": [
    {
     "name": "stdout",
     "output_type": "stream",
     "text": [
      " Volume in drive C is ssd\n",
      " Volume Serial Number is 344C-651C\n",
      "\n",
      " Directory of C:\\Users\\phoneclicker\\Downloads\\excelr_kd\\ASSIGNMENT\\Text Mining\n",
      "\n",
      "12/31/2022  11:11 AM    <DIR>          .\n",
      "12/31/2022  11:11 AM    <DIR>          ..\n",
      "12/30/2022  12:28 PM    <DIR>          .ipynb_checkpoints\n",
      "11/29/2022  03:33 PM               211 Assignment.txt\n",
      "11/29/2022  03:33 PM           170,848 Elon_musk.csv\n",
      "11/29/2022  03:33 PM            46,299 negative-words.txt\n",
      "11/29/2022  03:33 PM            20,630 positive-words.txt\n",
      "11/29/2022  03:33 PM             4,158 stop.txt\n",
      "12/31/2022  11:11 AM           143,273 Text_Mining.ipynb\n",
      "               6 File(s)        385,419 bytes\n",
      "               3 Dir(s)  23,648,694,272 bytes free\n"
     ]
    }
   ],
   "source": [
    "ls\n"
   ]
  },
  {
   "cell_type": "code",
   "execution_count": 208,
   "id": "e1b9b882",
   "metadata": {},
   "outputs": [],
   "source": [
    "elon=pd.read_csv(\"Elon_musk.csv\",encoding='cp1252')"
   ]
  },
  {
   "cell_type": "markdown",
   "id": "42d905fc",
   "metadata": {},
   "source": [
    "# EDA"
   ]
  },
  {
   "cell_type": "code",
   "execution_count": 209,
   "id": "0edad7f9",
   "metadata": {},
   "outputs": [
    {
     "data": {
      "text/html": [
       "<div>\n",
       "<style scoped>\n",
       "    .dataframe tbody tr th:only-of-type {\n",
       "        vertical-align: middle;\n",
       "    }\n",
       "\n",
       "    .dataframe tbody tr th {\n",
       "        vertical-align: top;\n",
       "    }\n",
       "\n",
       "    .dataframe thead th {\n",
       "        text-align: right;\n",
       "    }\n",
       "</style>\n",
       "<table border=\"1\" class=\"dataframe\">\n",
       "  <thead>\n",
       "    <tr style=\"text-align: right;\">\n",
       "      <th></th>\n",
       "      <th>Unnamed: 0</th>\n",
       "      <th>Text</th>\n",
       "    </tr>\n",
       "  </thead>\n",
       "  <tbody>\n",
       "    <tr>\n",
       "      <th>0</th>\n",
       "      <td>1</td>\n",
       "      <td>@kunalb11 I’m an alien</td>\n",
       "    </tr>\n",
       "    <tr>\n",
       "      <th>1</th>\n",
       "      <td>2</td>\n",
       "      <td>@ID_AA_Carmack Ray tracing on Cyberpunk with HDR is next-level. Have you tried it?</td>\n",
       "    </tr>\n",
       "    <tr>\n",
       "      <th>2</th>\n",
       "      <td>3</td>\n",
       "      <td>@joerogan @Spotify Great interview!</td>\n",
       "    </tr>\n",
       "    <tr>\n",
       "      <th>3</th>\n",
       "      <td>4</td>\n",
       "      <td>@gtera27 Doge is underestimated</td>\n",
       "    </tr>\n",
       "    <tr>\n",
       "      <th>4</th>\n",
       "      <td>5</td>\n",
       "      <td>@teslacn Congratulations Tesla China for amazing execution last year. Now on to the next for even more!!</td>\n",
       "    </tr>\n",
       "  </tbody>\n",
       "</table>\n",
       "</div>"
      ],
      "text/plain": [
       "   Unnamed: 0  \\\n",
       "0           1   \n",
       "1           2   \n",
       "2           3   \n",
       "3           4   \n",
       "4           5   \n",
       "\n",
       "                                                                                                       Text  \n",
       "0                                                                                    @kunalb11 I’m an alien  \n",
       "1                        @ID_AA_Carmack Ray tracing on Cyberpunk with HDR is next-level. Have you tried it?  \n",
       "2                                                                       @joerogan @Spotify Great interview!  \n",
       "3                                                                           @gtera27 Doge is underestimated  \n",
       "4  @teslacn Congratulations Tesla China for amazing execution last year. Now on to the next for even more!!  "
      ]
     },
     "execution_count": 209,
     "metadata": {},
     "output_type": "execute_result"
    }
   ],
   "source": [
    "elon.head()"
   ]
  },
  {
   "cell_type": "code",
   "execution_count": 210,
   "id": "933582e5",
   "metadata": {},
   "outputs": [
    {
     "name": "stdout",
     "output_type": "stream",
     "text": [
      "<class 'pandas.core.frame.DataFrame'>\n",
      "RangeIndex: 1999 entries, 0 to 1998\n",
      "Data columns (total 2 columns):\n",
      " #   Column      Non-Null Count  Dtype \n",
      "---  ------      --------------  ----- \n",
      " 0   Unnamed: 0  1999 non-null   int64 \n",
      " 1   Text        1999 non-null   object\n",
      "dtypes: int64(1), object(1)\n",
      "memory usage: 31.4+ KB\n"
     ]
    }
   ],
   "source": [
    "elon.info()"
   ]
  },
  {
   "cell_type": "markdown",
   "id": "a5612410",
   "metadata": {},
   "source": [
    "# Pre-processing\n",
    "Step 1 : Removing spaces and symbol"
   ]
  },
  {
   "cell_type": "code",
   "execution_count": 211,
   "id": "c8fd04fb",
   "metadata": {},
   "outputs": [],
   "source": [
    "elon.Text=elon.Text.apply(lambda x: re.sub('[^a-zA-Z ]', \"\", x))"
   ]
  },
  {
   "cell_type": "code",
   "execution_count": 212,
   "id": "50d3252e",
   "metadata": {},
   "outputs": [
    {
     "data": {
      "text/plain": [
       "0                                                                                                                         kunalb Im an alien\n",
       "1                                                               IDAACarmack Ray tracing on Cyberpunk with HDR is nextlevel Have you tried it\n",
       "2                                                                                                           joerogan Spotify Great interview\n",
       "3                                                                                                               gtera Doge is underestimated\n",
       "4                                       teslacn Congratulations Tesla China for amazing execution last year Now on to the next for even more\n",
       "                                                                        ...                                                                 \n",
       "1994    flcnhvy True it sounds so surreal but the negative propaganda is still all out there amp easy to find in social me httpstcoWJRzIbKhH\n",
       "1995                                                               PPathole Make sure to read ur terms amp conditions before clicking accept\n",
       "1996                                                                                                       TeslaGong PPathole Samwise Gamgee\n",
       "1997                                                                                                  PPathole Altho Dumb and Dumber is UFUF\n",
       "1998                                                                                                                 Progress update August \n",
       "Name: Text, Length: 1999, dtype: object"
      ]
     },
     "execution_count": 212,
     "metadata": {},
     "output_type": "execute_result"
    }
   ],
   "source": [
    "elon.Text"
   ]
  },
  {
   "cell_type": "code",
   "execution_count": 213,
   "id": "a69d2032",
   "metadata": {},
   "outputs": [
    {
     "data": {
      "text/plain": [
       "'I am cool you know  '"
      ]
     },
     "execution_count": 213,
     "metadata": {},
     "output_type": "execute_result"
    }
   ],
   "source": [
    "re.sub('[^a-zA-Z ]', \"\", \"I am cool you know $$$$ ;\")"
   ]
  },
  {
   "cell_type": "code",
   "execution_count": 214,
   "id": "8bd4a91b",
   "metadata": {},
   "outputs": [
    {
     "data": {
      "text/html": [
       "<div>\n",
       "<style scoped>\n",
       "    .dataframe tbody tr th:only-of-type {\n",
       "        vertical-align: middle;\n",
       "    }\n",
       "\n",
       "    .dataframe tbody tr th {\n",
       "        vertical-align: top;\n",
       "    }\n",
       "\n",
       "    .dataframe thead th {\n",
       "        text-align: right;\n",
       "    }\n",
       "</style>\n",
       "<table border=\"1\" class=\"dataframe\">\n",
       "  <thead>\n",
       "    <tr style=\"text-align: right;\">\n",
       "      <th></th>\n",
       "      <th>Unnamed: 0</th>\n",
       "      <th>Text</th>\n",
       "    </tr>\n",
       "  </thead>\n",
       "  <tbody>\n",
       "    <tr>\n",
       "      <th>0</th>\n",
       "      <td>1</td>\n",
       "      <td>kunalb Im an alien</td>\n",
       "    </tr>\n",
       "    <tr>\n",
       "      <th>1</th>\n",
       "      <td>2</td>\n",
       "      <td>IDAACarmack Ray tracing on Cyberpunk with HDR is nextlevel Have you tried it</td>\n",
       "    </tr>\n",
       "    <tr>\n",
       "      <th>2</th>\n",
       "      <td>3</td>\n",
       "      <td>joerogan Spotify Great interview</td>\n",
       "    </tr>\n",
       "    <tr>\n",
       "      <th>3</th>\n",
       "      <td>4</td>\n",
       "      <td>gtera Doge is underestimated</td>\n",
       "    </tr>\n",
       "    <tr>\n",
       "      <th>4</th>\n",
       "      <td>5</td>\n",
       "      <td>teslacn Congratulations Tesla China for amazing execution last year Now on to the next for even more</td>\n",
       "    </tr>\n",
       "  </tbody>\n",
       "</table>\n",
       "</div>"
      ],
      "text/plain": [
       "   Unnamed: 0  \\\n",
       "0           1   \n",
       "1           2   \n",
       "2           3   \n",
       "3           4   \n",
       "4           5   \n",
       "\n",
       "                                                                                                   Text  \n",
       "0                                                                                    kunalb Im an alien  \n",
       "1                          IDAACarmack Ray tracing on Cyberpunk with HDR is nextlevel Have you tried it  \n",
       "2                                                                      joerogan Spotify Great interview  \n",
       "3                                                                          gtera Doge is underestimated  \n",
       "4  teslacn Congratulations Tesla China for amazing execution last year Now on to the next for even more  "
      ]
     },
     "execution_count": 214,
     "metadata": {},
     "output_type": "execute_result"
    }
   ],
   "source": [
    "elon.head()"
   ]
  },
  {
   "cell_type": "markdown",
   "id": "b6852c38",
   "metadata": {},
   "source": [
    "# Step - 2 : Make text to lower"
   ]
  },
  {
   "cell_type": "code",
   "execution_count": 215,
   "id": "97dfe5cf",
   "metadata": {},
   "outputs": [],
   "source": [
    "elon.Text=elon.Text.apply(lambda x: x.lower())"
   ]
  },
  {
   "cell_type": "code",
   "execution_count": 216,
   "id": "b6281ebe",
   "metadata": {},
   "outputs": [
    {
     "data": {
      "text/html": [
       "<div>\n",
       "<style scoped>\n",
       "    .dataframe tbody tr th:only-of-type {\n",
       "        vertical-align: middle;\n",
       "    }\n",
       "\n",
       "    .dataframe tbody tr th {\n",
       "        vertical-align: top;\n",
       "    }\n",
       "\n",
       "    .dataframe thead th {\n",
       "        text-align: right;\n",
       "    }\n",
       "</style>\n",
       "<table border=\"1\" class=\"dataframe\">\n",
       "  <thead>\n",
       "    <tr style=\"text-align: right;\">\n",
       "      <th></th>\n",
       "      <th>Unnamed: 0</th>\n",
       "      <th>Text</th>\n",
       "    </tr>\n",
       "  </thead>\n",
       "  <tbody>\n",
       "    <tr>\n",
       "      <th>0</th>\n",
       "      <td>1</td>\n",
       "      <td>kunalb im an alien</td>\n",
       "    </tr>\n",
       "    <tr>\n",
       "      <th>1</th>\n",
       "      <td>2</td>\n",
       "      <td>idaacarmack ray tracing on cyberpunk with hdr is nextlevel have you tried it</td>\n",
       "    </tr>\n",
       "    <tr>\n",
       "      <th>2</th>\n",
       "      <td>3</td>\n",
       "      <td>joerogan spotify great interview</td>\n",
       "    </tr>\n",
       "    <tr>\n",
       "      <th>3</th>\n",
       "      <td>4</td>\n",
       "      <td>gtera doge is underestimated</td>\n",
       "    </tr>\n",
       "    <tr>\n",
       "      <th>4</th>\n",
       "      <td>5</td>\n",
       "      <td>teslacn congratulations tesla china for amazing execution last year now on to the next for even more</td>\n",
       "    </tr>\n",
       "  </tbody>\n",
       "</table>\n",
       "</div>"
      ],
      "text/plain": [
       "   Unnamed: 0  \\\n",
       "0           1   \n",
       "1           2   \n",
       "2           3   \n",
       "3           4   \n",
       "4           5   \n",
       "\n",
       "                                                                                                   Text  \n",
       "0                                                                                    kunalb im an alien  \n",
       "1                          idaacarmack ray tracing on cyberpunk with hdr is nextlevel have you tried it  \n",
       "2                                                                      joerogan spotify great interview  \n",
       "3                                                                          gtera doge is underestimated  \n",
       "4  teslacn congratulations tesla china for amazing execution last year now on to the next for even more  "
      ]
     },
     "execution_count": 216,
     "metadata": {},
     "output_type": "execute_result"
    }
   ],
   "source": [
    "elon.head()"
   ]
  },
  {
   "cell_type": "code",
   "execution_count": 217,
   "id": "16c0a529",
   "metadata": {},
   "outputs": [
    {
     "name": "stderr",
     "output_type": "stream",
     "text": [
      "[nltk_data] Downloading package stopwords to\n",
      "[nltk_data]     C:\\Users\\phoneclicker\\AppData\\Roaming\\nltk_data...\n",
      "[nltk_data]   Unzipping corpora\\stopwords.zip.\n"
     ]
    }
   ],
   "source": [
    "import nltk  \n",
    "nltk.download('stopwords') \n",
    "from nltk.corpus import stopwords  \n",
    "from nltk.stem.porter import PorterStemmer "
   ]
  },
  {
   "cell_type": "code",
   "execution_count": null,
   "id": "a8db82f4",
   "metadata": {},
   "outputs": [],
   "source": []
  },
  {
   "cell_type": "code",
   "execution_count": null,
   "id": "088316e2",
   "metadata": {},
   "outputs": [],
   "source": []
  },
  {
   "cell_type": "code",
   "execution_count": 218,
   "id": "620df294",
   "metadata": {},
   "outputs": [
    {
     "name": "stderr",
     "output_type": "stream",
     "text": [
      "[nltk_data] Downloading package stopwords to\n",
      "[nltk_data]     C:\\Users\\phoneclicker\\AppData\\Roaming\\nltk_data...\n",
      "[nltk_data]   Unzipping corpora\\stopwords.zip.\n"
     ]
    },
    {
     "data": {
      "text/plain": [
       "True"
      ]
     },
     "execution_count": 218,
     "metadata": {},
     "output_type": "execute_result"
    }
   ],
   "source": [
    "import nltk\n",
    "nltk.download('stopwords')"
   ]
  },
  {
   "cell_type": "markdown",
   "id": "e64a874d",
   "metadata": {},
   "source": [
    "# Step 3:- Splitting the words from line"
   ]
  },
  {
   "cell_type": "code",
   "execution_count": 219,
   "id": "37af3fb6",
   "metadata": {},
   "outputs": [],
   "source": [
    "elon.Text=elon.Text.apply(lambda x: x.split())"
   ]
  },
  {
   "cell_type": "code",
   "execution_count": 220,
   "id": "982e80e8",
   "metadata": {},
   "outputs": [
    {
     "data": {
      "text/html": [
       "<div>\n",
       "<style scoped>\n",
       "    .dataframe tbody tr th:only-of-type {\n",
       "        vertical-align: middle;\n",
       "    }\n",
       "\n",
       "    .dataframe tbody tr th {\n",
       "        vertical-align: top;\n",
       "    }\n",
       "\n",
       "    .dataframe thead th {\n",
       "        text-align: right;\n",
       "    }\n",
       "</style>\n",
       "<table border=\"1\" class=\"dataframe\">\n",
       "  <thead>\n",
       "    <tr style=\"text-align: right;\">\n",
       "      <th></th>\n",
       "      <th>Unnamed: 0</th>\n",
       "      <th>Text</th>\n",
       "    </tr>\n",
       "  </thead>\n",
       "  <tbody>\n",
       "    <tr>\n",
       "      <th>0</th>\n",
       "      <td>1</td>\n",
       "      <td>[kunalb, im, an, alien]</td>\n",
       "    </tr>\n",
       "    <tr>\n",
       "      <th>1</th>\n",
       "      <td>2</td>\n",
       "      <td>[idaacarmack, ray, tracing, on, cyberpunk, with, hdr, is, nextlevel, have, you, tried, it]</td>\n",
       "    </tr>\n",
       "    <tr>\n",
       "      <th>2</th>\n",
       "      <td>3</td>\n",
       "      <td>[joerogan, spotify, great, interview]</td>\n",
       "    </tr>\n",
       "    <tr>\n",
       "      <th>3</th>\n",
       "      <td>4</td>\n",
       "      <td>[gtera, doge, is, underestimated]</td>\n",
       "    </tr>\n",
       "    <tr>\n",
       "      <th>4</th>\n",
       "      <td>5</td>\n",
       "      <td>[teslacn, congratulations, tesla, china, for, amazing, execution, last, year, now, on, to, the, next, for, even, more]</td>\n",
       "    </tr>\n",
       "  </tbody>\n",
       "</table>\n",
       "</div>"
      ],
      "text/plain": [
       "   Unnamed: 0  \\\n",
       "0           1   \n",
       "1           2   \n",
       "2           3   \n",
       "3           4   \n",
       "4           5   \n",
       "\n",
       "                                                                                                                     Text  \n",
       "0                                                                                                 [kunalb, im, an, alien]  \n",
       "1                              [idaacarmack, ray, tracing, on, cyberpunk, with, hdr, is, nextlevel, have, you, tried, it]  \n",
       "2                                                                                   [joerogan, spotify, great, interview]  \n",
       "3                                                                                       [gtera, doge, is, underestimated]  \n",
       "4  [teslacn, congratulations, tesla, china, for, amazing, execution, last, year, now, on, to, the, next, for, even, more]  "
      ]
     },
     "execution_count": 220,
     "metadata": {},
     "output_type": "execute_result"
    }
   ],
   "source": [
    "elon.head()"
   ]
  },
  {
   "cell_type": "markdown",
   "id": "2f710fae",
   "metadata": {},
   "source": [
    "# Step 4 :- Removing Stopwords"
   ]
  },
  {
   "cell_type": "code",
   "execution_count": 221,
   "id": "3ce9a69d",
   "metadata": {},
   "outputs": [],
   "source": [
    "elon.Text=elon.Text.apply(lambda x: [word  for word in x if word not in set(stopwords.words('english'))])"
   ]
  },
  {
   "cell_type": "code",
   "execution_count": 222,
   "id": "031f9fb9",
   "metadata": {},
   "outputs": [
    {
     "data": {
      "text/html": [
       "<div>\n",
       "<style scoped>\n",
       "    .dataframe tbody tr th:only-of-type {\n",
       "        vertical-align: middle;\n",
       "    }\n",
       "\n",
       "    .dataframe tbody tr th {\n",
       "        vertical-align: top;\n",
       "    }\n",
       "\n",
       "    .dataframe thead th {\n",
       "        text-align: right;\n",
       "    }\n",
       "</style>\n",
       "<table border=\"1\" class=\"dataframe\">\n",
       "  <thead>\n",
       "    <tr style=\"text-align: right;\">\n",
       "      <th></th>\n",
       "      <th>Unnamed: 0</th>\n",
       "      <th>Text</th>\n",
       "    </tr>\n",
       "  </thead>\n",
       "  <tbody>\n",
       "    <tr>\n",
       "      <th>0</th>\n",
       "      <td>1</td>\n",
       "      <td>[kunalb, im, alien]</td>\n",
       "    </tr>\n",
       "    <tr>\n",
       "      <th>1</th>\n",
       "      <td>2</td>\n",
       "      <td>[idaacarmack, ray, tracing, cyberpunk, hdr, nextlevel, tried]</td>\n",
       "    </tr>\n",
       "    <tr>\n",
       "      <th>2</th>\n",
       "      <td>3</td>\n",
       "      <td>[joerogan, spotify, great, interview]</td>\n",
       "    </tr>\n",
       "    <tr>\n",
       "      <th>3</th>\n",
       "      <td>4</td>\n",
       "      <td>[gtera, doge, underestimated]</td>\n",
       "    </tr>\n",
       "    <tr>\n",
       "      <th>4</th>\n",
       "      <td>5</td>\n",
       "      <td>[teslacn, congratulations, tesla, china, amazing, execution, last, year, next, even]</td>\n",
       "    </tr>\n",
       "  </tbody>\n",
       "</table>\n",
       "</div>"
      ],
      "text/plain": [
       "   Unnamed: 0  \\\n",
       "0           1   \n",
       "1           2   \n",
       "2           3   \n",
       "3           4   \n",
       "4           5   \n",
       "\n",
       "                                                                                   Text  \n",
       "0                                                                   [kunalb, im, alien]  \n",
       "1                         [idaacarmack, ray, tracing, cyberpunk, hdr, nextlevel, tried]  \n",
       "2                                                 [joerogan, spotify, great, interview]  \n",
       "3                                                         [gtera, doge, underestimated]  \n",
       "4  [teslacn, congratulations, tesla, china, amazing, execution, last, year, next, even]  "
      ]
     },
     "execution_count": 222,
     "metadata": {},
     "output_type": "execute_result"
    }
   ],
   "source": [
    "elon.head()"
   ]
  },
  {
   "cell_type": "code",
   "execution_count": 223,
   "id": "de5f37c4",
   "metadata": {
    "scrolled": false
   },
   "outputs": [
    {
     "data": {
      "text/plain": [
       "['i',\n",
       " 'me',\n",
       " 'my',\n",
       " 'myself',\n",
       " 'we',\n",
       " 'our',\n",
       " 'ours',\n",
       " 'ourselves',\n",
       " 'you',\n",
       " \"you're\",\n",
       " \"you've\",\n",
       " \"you'll\",\n",
       " \"you'd\",\n",
       " 'your',\n",
       " 'yours',\n",
       " 'yourself',\n",
       " 'yourselves',\n",
       " 'he',\n",
       " 'him',\n",
       " 'his',\n",
       " 'himself',\n",
       " 'she',\n",
       " \"she's\",\n",
       " 'her',\n",
       " 'hers',\n",
       " 'herself',\n",
       " 'it',\n",
       " \"it's\",\n",
       " 'its',\n",
       " 'itself',\n",
       " 'they',\n",
       " 'them',\n",
       " 'their',\n",
       " 'theirs',\n",
       " 'themselves',\n",
       " 'what',\n",
       " 'which',\n",
       " 'who',\n",
       " 'whom',\n",
       " 'this',\n",
       " 'that',\n",
       " \"that'll\",\n",
       " 'these',\n",
       " 'those',\n",
       " 'am',\n",
       " 'is',\n",
       " 'are',\n",
       " 'was',\n",
       " 'were',\n",
       " 'be',\n",
       " 'been',\n",
       " 'being',\n",
       " 'have',\n",
       " 'has',\n",
       " 'had',\n",
       " 'having',\n",
       " 'do',\n",
       " 'does',\n",
       " 'did',\n",
       " 'doing',\n",
       " 'a',\n",
       " 'an',\n",
       " 'the',\n",
       " 'and',\n",
       " 'but',\n",
       " 'if',\n",
       " 'or',\n",
       " 'because',\n",
       " 'as',\n",
       " 'until',\n",
       " 'while',\n",
       " 'of',\n",
       " 'at',\n",
       " 'by',\n",
       " 'for',\n",
       " 'with',\n",
       " 'about',\n",
       " 'against',\n",
       " 'between',\n",
       " 'into',\n",
       " 'through',\n",
       " 'during',\n",
       " 'before',\n",
       " 'after',\n",
       " 'above',\n",
       " 'below',\n",
       " 'to',\n",
       " 'from',\n",
       " 'up',\n",
       " 'down',\n",
       " 'in',\n",
       " 'out',\n",
       " 'on',\n",
       " 'off',\n",
       " 'over',\n",
       " 'under',\n",
       " 'again',\n",
       " 'further',\n",
       " 'then',\n",
       " 'once',\n",
       " 'here',\n",
       " 'there',\n",
       " 'when',\n",
       " 'where',\n",
       " 'why',\n",
       " 'how',\n",
       " 'all',\n",
       " 'any',\n",
       " 'both',\n",
       " 'each',\n",
       " 'few',\n",
       " 'more',\n",
       " 'most',\n",
       " 'other',\n",
       " 'some',\n",
       " 'such',\n",
       " 'no',\n",
       " 'nor',\n",
       " 'not',\n",
       " 'only',\n",
       " 'own',\n",
       " 'same',\n",
       " 'so',\n",
       " 'than',\n",
       " 'too',\n",
       " 'very',\n",
       " 's',\n",
       " 't',\n",
       " 'can',\n",
       " 'will',\n",
       " 'just',\n",
       " 'don',\n",
       " \"don't\",\n",
       " 'should',\n",
       " \"should've\",\n",
       " 'now',\n",
       " 'd',\n",
       " 'll',\n",
       " 'm',\n",
       " 'o',\n",
       " 're',\n",
       " 've',\n",
       " 'y',\n",
       " 'ain',\n",
       " 'aren',\n",
       " \"aren't\",\n",
       " 'couldn',\n",
       " \"couldn't\",\n",
       " 'didn',\n",
       " \"didn't\",\n",
       " 'doesn',\n",
       " \"doesn't\",\n",
       " 'hadn',\n",
       " \"hadn't\",\n",
       " 'hasn',\n",
       " \"hasn't\",\n",
       " 'haven',\n",
       " \"haven't\",\n",
       " 'isn',\n",
       " \"isn't\",\n",
       " 'ma',\n",
       " 'mightn',\n",
       " \"mightn't\",\n",
       " 'mustn',\n",
       " \"mustn't\",\n",
       " 'needn',\n",
       " \"needn't\",\n",
       " 'shan',\n",
       " \"shan't\",\n",
       " 'shouldn',\n",
       " \"shouldn't\",\n",
       " 'wasn',\n",
       " \"wasn't\",\n",
       " 'weren',\n",
       " \"weren't\",\n",
       " 'won',\n",
       " \"won't\",\n",
       " 'wouldn',\n",
       " \"wouldn't\"]"
      ]
     },
     "execution_count": 223,
     "metadata": {},
     "output_type": "execute_result"
    }
   ],
   "source": [
    "stopwords.words(\"english\")"
   ]
  },
  {
   "cell_type": "markdown",
   "id": "b421d63d",
   "metadata": {},
   "source": [
    "# Step 5:- Stemming"
   ]
  },
  {
   "cell_type": "code",
   "execution_count": 224,
   "id": "8e49e098",
   "metadata": {},
   "outputs": [],
   "source": [
    "ps = PorterStemmer()  \n",
    "elon.Text=elon.Text.apply(lambda x: [ps.stem(word) for word in x])"
   ]
  },
  {
   "cell_type": "code",
   "execution_count": 225,
   "id": "ff35a219",
   "metadata": {},
   "outputs": [
    {
     "data": {
      "text/plain": [
       "0                                                         [kunalb, im, alien]\n",
       "1                   [idaacarmack, ray, trace, cyberpunk, hdr, nextlevel, tri]\n",
       "2                                       [joerogan, spotifi, great, interview]\n",
       "3                                                   [gtera, doge, underestim]\n",
       "4    [teslacn, congratul, tesla, china, amaz, execut, last, year, next, even]\n",
       "Name: Text, dtype: object"
      ]
     },
     "execution_count": 225,
     "metadata": {},
     "output_type": "execute_result"
    }
   ],
   "source": [
    "elon.Text.head()"
   ]
  },
  {
   "cell_type": "markdown",
   "id": "bf448448",
   "metadata": {},
   "source": [
    "# Step 6 :- Rejoining"
   ]
  },
  {
   "cell_type": "code",
   "execution_count": 226,
   "id": "d2d02e55",
   "metadata": {},
   "outputs": [],
   "source": [
    "elon.Text=elon.Text.apply(lambda x: \" \".join(x))"
   ]
  },
  {
   "cell_type": "code",
   "execution_count": 227,
   "id": "ae1d3901",
   "metadata": {},
   "outputs": [
    {
     "data": {
      "text/plain": [
       "0                                                                              kunalb im alien\n",
       "1                                            idaacarmack ray trace cyberpunk hdr nextlevel tri\n",
       "2                                                             joerogan spotifi great interview\n",
       "3                                                                        gtera doge underestim\n",
       "4                                teslacn congratul tesla china amaz execut last year next even\n",
       "                                                 ...                                          \n",
       "1994    flcnhvi true sound surreal neg propaganda still amp easi find social httpstcowjrzibkhh\n",
       "1995                                    ppathol make sure read ur term amp condit click accept\n",
       "1996                                                            teslagong ppathol samwis gamge\n",
       "1997                                                            ppathol altho dumb dumber ufuf\n",
       "1998                                                                     progress updat august\n",
       "Name: Text, Length: 1999, dtype: object"
      ]
     },
     "execution_count": 227,
     "metadata": {},
     "output_type": "execute_result"
    }
   ],
   "source": [
    "elon.Text"
   ]
  },
  {
   "cell_type": "markdown",
   "id": "b89894e5",
   "metadata": {},
   "source": [
    "# Sentiment Analysis"
   ]
  },
  {
   "cell_type": "code",
   "execution_count": 228,
   "id": "a8ac776e",
   "metadata": {},
   "outputs": [
    {
     "name": "stdout",
     "output_type": "stream",
     "text": [
      "Requirement already satisfied: textblob in c:\\users\\phoneclicker\\anaconda3\\lib\\site-packages (0.17.1)\n",
      "Requirement already satisfied: nltk>=3.1 in c:\\users\\phoneclicker\\anaconda3\\lib\\site-packages (from textblob) (3.7)\n",
      "Requirement already satisfied: regex>=2021.8.3 in c:\\users\\phoneclicker\\anaconda3\\lib\\site-packages (from nltk>=3.1->textblob) (2022.3.15)\n",
      "Requirement already satisfied: joblib in c:\\users\\phoneclicker\\anaconda3\\lib\\site-packages (from nltk>=3.1->textblob) (1.1.0)\n",
      "Requirement already satisfied: click in c:\\users\\phoneclicker\\anaconda3\\lib\\site-packages (from nltk>=3.1->textblob) (8.0.4)\n",
      "Requirement already satisfied: tqdm in c:\\users\\phoneclicker\\anaconda3\\lib\\site-packages (from nltk>=3.1->textblob) (4.64.0)\n",
      "Requirement already satisfied: colorama in c:\\users\\phoneclicker\\anaconda3\\lib\\site-packages (from click->nltk>=3.1->textblob) (0.4.4)\n",
      "Note: you may need to restart the kernel to use updated packages.\n"
     ]
    }
   ],
   "source": [
    "pip install -U textblob"
   ]
  },
  {
   "cell_type": "code",
   "execution_count": 229,
   "id": "1b0d2abc",
   "metadata": {},
   "outputs": [
    {
     "data": {
      "text/html": [
       "<div>\n",
       "<style scoped>\n",
       "    .dataframe tbody tr th:only-of-type {\n",
       "        vertical-align: middle;\n",
       "    }\n",
       "\n",
       "    .dataframe tbody tr th {\n",
       "        vertical-align: top;\n",
       "    }\n",
       "\n",
       "    .dataframe thead th {\n",
       "        text-align: right;\n",
       "    }\n",
       "</style>\n",
       "<table border=\"1\" class=\"dataframe\">\n",
       "  <thead>\n",
       "    <tr style=\"text-align: right;\">\n",
       "      <th></th>\n",
       "      <th>Text</th>\n",
       "      <th>sentiment</th>\n",
       "    </tr>\n",
       "  </thead>\n",
       "  <tbody>\n",
       "    <tr>\n",
       "      <th>0</th>\n",
       "      <td>kunalb im alien</td>\n",
       "      <td>-0.25</td>\n",
       "    </tr>\n",
       "    <tr>\n",
       "      <th>1</th>\n",
       "      <td>idaacarmack ray trace cyberpunk hdr nextlevel tri</td>\n",
       "      <td>0.00</td>\n",
       "    </tr>\n",
       "    <tr>\n",
       "      <th>2</th>\n",
       "      <td>joerogan spotifi great interview</td>\n",
       "      <td>0.80</td>\n",
       "    </tr>\n",
       "    <tr>\n",
       "      <th>3</th>\n",
       "      <td>gtera doge underestim</td>\n",
       "      <td>0.00</td>\n",
       "    </tr>\n",
       "    <tr>\n",
       "      <th>4</th>\n",
       "      <td>teslacn congratul tesla china amaz execut last year next even</td>\n",
       "      <td>0.00</td>\n",
       "    </tr>\n",
       "  </tbody>\n",
       "</table>\n",
       "</div>"
      ],
      "text/plain": [
       "                                                            Text  sentiment\n",
       "0                                                kunalb im alien      -0.25\n",
       "1              idaacarmack ray trace cyberpunk hdr nextlevel tri       0.00\n",
       "2                               joerogan spotifi great interview       0.80\n",
       "3                                          gtera doge underestim       0.00\n",
       "4  teslacn congratul tesla china amaz execut last year next even       0.00"
      ]
     },
     "execution_count": 229,
     "metadata": {},
     "output_type": "execute_result"
    }
   ],
   "source": [
    "from textblob import TextBlob\n",
    "elon['sentiment'] = elon['Text'].apply(lambda x:TextBlob(x).sentiment[0] )\n",
    "elon[['Text','sentiment']].head()\n",
    "# TextBlob(x).sentiment[1] = sentiment[1]= negative and positive [0], only positive=[1]"
   ]
  },
  {
   "cell_type": "code",
   "execution_count": 230,
   "id": "28c55a69",
   "metadata": {},
   "outputs": [
    {
     "data": {
      "text/plain": [
       "0      -0.250000\n",
       "1       0.000000\n",
       "2       0.800000\n",
       "3       0.000000\n",
       "4       0.000000\n",
       "          ...   \n",
       "1994    0.186667\n",
       "1995    0.500000\n",
       "1996    0.000000\n",
       "1997   -0.375000\n",
       "1998    0.000000\n",
       "Name: sentiment, Length: 1999, dtype: float64"
      ]
     },
     "execution_count": 230,
     "metadata": {},
     "output_type": "execute_result"
    }
   ],
   "source": [
    "elon.sentiment"
   ]
  },
  {
   "cell_type": "markdown",
   "id": "7cbe479e",
   "metadata": {},
   "source": [
    "# problem statement -2"
   ]
  },
  {
   "cell_type": "code",
   "execution_count": 231,
   "id": "f701d513",
   "metadata": {},
   "outputs": [],
   "source": [
    "import requests\n",
    "from bs4 import BeautifulSoup"
   ]
  },
  {
   "cell_type": "markdown",
   "id": "ddd6b29a",
   "metadata": {},
   "source": [
    "# Scraping reviews using BeautifulSoup"
   ]
  },
  {
   "cell_type": "code",
   "execution_count": 1,
   "id": "a66ca6e8",
   "metadata": {},
   "outputs": [],
   "source": [
    "link=\"https://www.amazon.in/Patanjali-Honey-1kg/product-reviews/B01C8QIBJ0/ref=cm_cr_dp_d_show_all_btm?ie=UTF8&reviewerType=all_reviews\""
   ]
  },
  {
   "cell_type": "code",
   "execution_count": 2,
   "id": "73666462",
   "metadata": {},
   "outputs": [
    {
     "name": "stdout",
     "output_type": "stream",
     "text": [
      "https://www.instagram.com/isha.foundation/&pageNumber=0\n"
     ]
    },
    {
     "ename": "NameError",
     "evalue": "name 'requests' is not defined",
     "output_type": "error",
     "traceback": [
      "\u001b[1;31m---------------------------------------------------------------------------\u001b[0m",
      "\u001b[1;31mNameError\u001b[0m                                 Traceback (most recent call last)",
      "\u001b[1;32m~\\AppData\\Local\\Temp\\ipykernel_30704\\2252842420.py\u001b[0m in \u001b[0;36m<module>\u001b[1;34m\u001b[0m\n\u001b[0;32m      4\u001b[0m     \u001b[0mreview_link\u001b[0m\u001b[1;33m=\u001b[0m\u001b[0mlink\u001b[0m\u001b[1;33m+\u001b[0m\u001b[1;34m'&pageNumber='\u001b[0m\u001b[1;33m+\u001b[0m\u001b[0mstr\u001b[0m\u001b[1;33m(\u001b[0m\u001b[0mk\u001b[0m\u001b[1;33m)\u001b[0m\u001b[1;33m\u001b[0m\u001b[1;33m\u001b[0m\u001b[0m\n\u001b[0;32m      5\u001b[0m     \u001b[0mprint\u001b[0m\u001b[1;33m(\u001b[0m\u001b[0mreview_link\u001b[0m\u001b[1;33m)\u001b[0m\u001b[1;33m\u001b[0m\u001b[1;33m\u001b[0m\u001b[0m\n\u001b[1;32m----> 6\u001b[1;33m     \u001b[0mpage\u001b[0m\u001b[1;33m=\u001b[0m\u001b[0mrequests\u001b[0m\u001b[1;33m.\u001b[0m\u001b[0mget\u001b[0m\u001b[1;33m(\u001b[0m\u001b[0mreview_link\u001b[0m\u001b[1;33m)\u001b[0m\u001b[1;33m\u001b[0m\u001b[1;33m\u001b[0m\u001b[0m\n\u001b[0m\u001b[0;32m      7\u001b[0m     \u001b[0msoup\u001b[0m\u001b[1;33m=\u001b[0m\u001b[0mBeautifulSoup\u001b[0m\u001b[1;33m(\u001b[0m\u001b[0mpage\u001b[0m\u001b[1;33m.\u001b[0m\u001b[0mcontent\u001b[0m\u001b[1;33m,\u001b[0m\u001b[1;34m'html.parser'\u001b[0m\u001b[1;33m)\u001b[0m\u001b[1;33m\u001b[0m\u001b[1;33m\u001b[0m\u001b[0m\n\u001b[0;32m      8\u001b[0m     \u001b[0mreviews\u001b[0m\u001b[1;33m=\u001b[0m\u001b[0msoup\u001b[0m\u001b[1;33m.\u001b[0m\u001b[0mfind_all\u001b[0m\u001b[1;33m(\u001b[0m\u001b[1;34m'span'\u001b[0m\u001b[1;33m,\u001b[0m\u001b[0mclass_\u001b[0m\u001b[1;33m=\u001b[0m\u001b[1;34m'review-text-content'\u001b[0m\u001b[1;33m)\u001b[0m\u001b[1;33m\u001b[0m\u001b[1;33m\u001b[0m\u001b[0m\n",
      "\u001b[1;31mNameError\u001b[0m: name 'requests' is not defined"
     ]
    }
   ],
   "source": [
    "\n",
    "review_list=[]\n",
    "\n",
    "for k in range(0,6):\n",
    "    review_link=link+'&pageNumber='+str(k)\n",
    "    print(review_link)\n",
    "    page=requests.get(review_link)\n",
    "    soup=BeautifulSoup(page.content,'html.parser')\n",
    "    reviews=soup.find_all('span',class_='review-text-content')\n",
    "    \n",
    "    for i in range(0,len(reviews)):\n",
    "        \n",
    "        review_list.append(reviews[i].get_text().strip())\n",
    "        "
   ]
  },
  {
   "cell_type": "code",
   "execution_count": 234,
   "id": "1d75e198",
   "metadata": {},
   "outputs": [
    {
     "data": {
      "text/plain": [
       "['Using this product from last 5 years, no complaint, brand value and long using experience  gives confidence of no adulteration.',\n",
       " 'Good one',\n",
       " \"It's good ...no sugar deposits found as in few other honey...I think it's good.\",\n",
       " 'Thanks',\n",
       " 'Good',\n",
       " 'Very nice product',\n",
       " 'Satisfied.',\n",
       " \"I don't know where from these honey producers are churning out honey in industrial quantity. I have tasted the village honey. This honey is certainly not like the original. It is being sold and purchased due to Patanjali brand name else it is not pure honey.\",\n",
       " 'Corrugated Box kharab ho chuka tha but thik hai',\n",
       " 'Quality assurance',\n",
       " 'The honey came in a sturdy plastic bottle, It is clear, and tastes mild and good but without the special flavour  that comes from the type of flowers the bees have ben collecting from. The bottle does not state that it is natural honey - rather it is manufactured and supposed to be best before 12 months from date of manufacture, so there is some doubt about its natural purity',\n",
       " 'The 2 best honey I have found in India are : 1. Isha honey(from Sadhguru) 2. Patanjali honey(from Baba Ramdev)Great taste, great quality..',\n",
       " 'Nice product. It did not freeze like some other brands in the winters.',\n",
       " 'product are to good',\n",
       " 'So good',\n",
       " \"It's amazing test,,, it' real honey... Not fack  and test very good.... Don't miss to add  in your daily food.\",\n",
       " \"The media could not be loaded.\\n                \\n\\n\\n\\n\\xa0The bottle was leaking slightly. Not much damage. I don't know exactly what happened. Whether it was a defect of the bottle or the packing / handling consequences. I have immediately transferred the contents to other bottle .Any way please take care in future\",\n",
       " 'ರುಚಿ ಮತ್ತು ಸುಗಂಧ ಚೆನ್ನಾಗಿದೆ ಬೆಲೆನೂ ಜಾಸ್ತಿ ಇಲ್ಲ.',\n",
       " 'DAILY CONSUPTION',\n",
       " 'I have used different brands of Honey but nothing beats this Patanjali Honey in taste & purity. I think some of the other cheaper Honey brands are adulterated with sugary substance. Patanjali atleast tastes pure and awesome. Super.',\n",
       " 'Good taste of purity',\n",
       " 'The product is ideal in value for money.',\n",
       " 'I am using 🍯 for a long travel in my life... Using for idle and dhosa eating... Drinking milk.. and with hot water and spicy powder...m etc and 1000 more technology...',\n",
       " 'To prepare honey tea',\n",
       " 'The bottle was locked in the box packing ..it was smelling also ...cleaned it for 5 min to remove all honey on the bottle...I was waste of time and money too',\n",
       " 'Flavor',\n",
       " 'Good',\n",
       " 'Nice. I use it for hair pack, pace pack and on my tea. I find it good enough close to naturals. Doesn’t feel sugary',\n",
       " 'I truly like it - taste, colour and viscosity.  But is it 100% pure bee\\'s honey?  Reason I ask is that it is known to science that honey is a food that can last (sealed) for literally thousands of years without going bad (fact): it is the only food known to Man that is eternal.  So why state on the jar \"best before 12 months of manufacture\", unless adulterants such as sugar syrup have been added?',\n",
       " 'The media could not be loaded.\\n                \\n\\n\\n\\n\\xa0Do you think this is patanjali honey?After using half of the container from 1 kg it remains like a semi solid jaggery, precipitation at the bottom.Though I intake this honey regularly with milk and cornflakes.What things they mixed with original honey we do not know but we eat.This is our indian products  .',\n",
       " 'Product is okay, but should have been in glass bottle insted of plastic. Most of best brands gives it in Glass Jar .',\n",
       " \"We don't want to use a so called SWADESI Honey which contains 80% CHINESE Sugar Syrup.We paid money to buy Indian Honey...but we were given adulterated honey with 80% Chinese Sugar Syrup.This is cheating with the emotional of Indian Buyers.Through the day on TV advertisements, you keep on shouting SWADESI SWADESI.  And finally sell Chinese imported products.You have taken Indian customers for granted.It's time for Indian customers to give a STRONG MESSAGE to all such corporates.Please return my order as soon as possible.Don't want your honey.\",\n",
       " 'Natural extraction is not done and so normal only',\n",
       " 'மிக மிக அருமை very',\n",
       " 'Good',\n",
       " 'Althought overall material is excellent... With good taste and packaging but this time i recieved little bit less thickness in the honey... Like i used to take one spoon of honey in a glass of water but this time i had to pour 2spoons of honey to get the same taste...',\n",
       " 'It has been mentioned in the ad that buy 1 and get one free. But I received only one.Either u remove in ad or send one kg more.',\n",
       " 'Super',\n",
       " 'Good taste of purityBuying at a lower rate than other brands available in the market is a happy thing.',\n",
       " 'Patanjali honey is matchless, but i received a broken seal product, Honey was leaking in the box']"
      ]
     },
     "execution_count": 234,
     "metadata": {},
     "output_type": "execute_result"
    }
   ],
   "source": [
    "review_list"
   ]
  },
  {
   "cell_type": "code",
   "execution_count": 235,
   "id": "8d224bfb",
   "metadata": {},
   "outputs": [
    {
     "data": {
      "text/plain": [
       "40"
      ]
     },
     "execution_count": 235,
     "metadata": {},
     "output_type": "execute_result"
    }
   ],
   "source": [
    "len(review_list)"
   ]
  },
  {
   "cell_type": "code",
   "execution_count": 236,
   "id": "b3a40448",
   "metadata": {},
   "outputs": [
    {
     "data": {
      "text/html": [
       "<div>\n",
       "<style scoped>\n",
       "    .dataframe tbody tr th:only-of-type {\n",
       "        vertical-align: middle;\n",
       "    }\n",
       "\n",
       "    .dataframe tbody tr th {\n",
       "        vertical-align: top;\n",
       "    }\n",
       "\n",
       "    .dataframe thead th {\n",
       "        text-align: right;\n",
       "    }\n",
       "</style>\n",
       "<table border=\"1\" class=\"dataframe\">\n",
       "  <thead>\n",
       "    <tr style=\"text-align: right;\">\n",
       "      <th></th>\n",
       "      <th>Reviews</th>\n",
       "    </tr>\n",
       "  </thead>\n",
       "  <tbody>\n",
       "    <tr>\n",
       "      <th>0</th>\n",
       "      <td>Using this product from last 5 years, no complaint, brand value and long using experience  gives confidence of no adulteration.</td>\n",
       "    </tr>\n",
       "    <tr>\n",
       "      <th>1</th>\n",
       "      <td>Good one</td>\n",
       "    </tr>\n",
       "    <tr>\n",
       "      <th>2</th>\n",
       "      <td>It's good ...no sugar deposits found as in few other honey...I think it's good.</td>\n",
       "    </tr>\n",
       "    <tr>\n",
       "      <th>3</th>\n",
       "      <td>Thanks</td>\n",
       "    </tr>\n",
       "    <tr>\n",
       "      <th>4</th>\n",
       "      <td>Good</td>\n",
       "    </tr>\n",
       "    <tr>\n",
       "      <th>5</th>\n",
       "      <td>Very nice product</td>\n",
       "    </tr>\n",
       "    <tr>\n",
       "      <th>6</th>\n",
       "      <td>Satisfied.</td>\n",
       "    </tr>\n",
       "    <tr>\n",
       "      <th>7</th>\n",
       "      <td>I don't know where from these honey producers are churning out honey in industrial quantity. I have tasted the village honey. This honey is certainly not like the original. It is being sold and purchased due to Patanjali brand name else it is not pure honey.</td>\n",
       "    </tr>\n",
       "    <tr>\n",
       "      <th>8</th>\n",
       "      <td>Corrugated Box kharab ho chuka tha but thik hai</td>\n",
       "    </tr>\n",
       "    <tr>\n",
       "      <th>9</th>\n",
       "      <td>Quality assurance</td>\n",
       "    </tr>\n",
       "    <tr>\n",
       "      <th>10</th>\n",
       "      <td>The honey came in a sturdy plastic bottle, It is clear, and tastes mild and good but without the special flavour  that comes from the type of flowers the bees have ben collecting from. The bottle does not state that it is natural honey - rather it is manufactured and supposed to be best before 12 months from date of manufacture, so there is some doubt about its natural purity</td>\n",
       "    </tr>\n",
       "    <tr>\n",
       "      <th>11</th>\n",
       "      <td>The 2 best honey I have found in India are : 1. Isha honey(from Sadhguru) 2. Patanjali honey(from Baba Ramdev)Great taste, great quality..</td>\n",
       "    </tr>\n",
       "    <tr>\n",
       "      <th>12</th>\n",
       "      <td>Nice product. It did not freeze like some other brands in the winters.</td>\n",
       "    </tr>\n",
       "    <tr>\n",
       "      <th>13</th>\n",
       "      <td>product are to good</td>\n",
       "    </tr>\n",
       "    <tr>\n",
       "      <th>14</th>\n",
       "      <td>So good</td>\n",
       "    </tr>\n",
       "    <tr>\n",
       "      <th>15</th>\n",
       "      <td>It's amazing test,,, it' real honey... Not fack  and test very good.... Don't miss to add  in your daily food.</td>\n",
       "    </tr>\n",
       "    <tr>\n",
       "      <th>16</th>\n",
       "      <td>The media could not be loaded.\\n                \\n\\n\\n\\n The bottle was leaking slightly. Not much damage. I don't know exactly what happened. Whether it was a defect of the bottle or the packing / handling consequences. I have immediately transferred the contents to other bottle .Any way please take care in future</td>\n",
       "    </tr>\n",
       "    <tr>\n",
       "      <th>17</th>\n",
       "      <td>ರುಚಿ ಮತ್ತು ಸುಗಂಧ ಚೆನ್ನಾಗಿದೆ ಬೆಲೆನೂ ಜಾಸ್ತಿ ಇಲ್ಲ.</td>\n",
       "    </tr>\n",
       "    <tr>\n",
       "      <th>18</th>\n",
       "      <td>DAILY CONSUPTION</td>\n",
       "    </tr>\n",
       "    <tr>\n",
       "      <th>19</th>\n",
       "      <td>I have used different brands of Honey but nothing beats this Patanjali Honey in taste &amp; purity. I think some of the other cheaper Honey brands are adulterated with sugary substance. Patanjali atleast tastes pure and awesome. Super.</td>\n",
       "    </tr>\n",
       "    <tr>\n",
       "      <th>20</th>\n",
       "      <td>Good taste of purity</td>\n",
       "    </tr>\n",
       "    <tr>\n",
       "      <th>21</th>\n",
       "      <td>The product is ideal in value for money.</td>\n",
       "    </tr>\n",
       "    <tr>\n",
       "      <th>22</th>\n",
       "      <td>I am using 🍯 for a long travel in my life... Using for idle and dhosa eating... Drinking milk.. and with hot water and spicy powder...m etc and 1000 more technology...</td>\n",
       "    </tr>\n",
       "    <tr>\n",
       "      <th>23</th>\n",
       "      <td>To prepare honey tea</td>\n",
       "    </tr>\n",
       "    <tr>\n",
       "      <th>24</th>\n",
       "      <td>The bottle was locked in the box packing ..it was smelling also ...cleaned it for 5 min to remove all honey on the bottle...I was waste of time and money too</td>\n",
       "    </tr>\n",
       "    <tr>\n",
       "      <th>25</th>\n",
       "      <td>Flavor</td>\n",
       "    </tr>\n",
       "    <tr>\n",
       "      <th>26</th>\n",
       "      <td>Good</td>\n",
       "    </tr>\n",
       "    <tr>\n",
       "      <th>27</th>\n",
       "      <td>Nice. I use it for hair pack, pace pack and on my tea. I find it good enough close to naturals. Doesn’t feel sugary</td>\n",
       "    </tr>\n",
       "    <tr>\n",
       "      <th>28</th>\n",
       "      <td>I truly like it - taste, colour and viscosity.  But is it 100% pure bee's honey?  Reason I ask is that it is known to science that honey is a food that can last (sealed) for literally thousands of years without going bad (fact): it is the only food known to Man that is eternal.  So why state on the jar \"best before 12 months of manufacture\", unless adulterants such as sugar syrup have been added?</td>\n",
       "    </tr>\n",
       "    <tr>\n",
       "      <th>29</th>\n",
       "      <td>The media could not be loaded.\\n                \\n\\n\\n\\n Do you think this is patanjali honey?After using half of the container from 1 kg it remains like a semi solid jaggery, precipitation at the bottom.Though I intake this honey regularly with milk and cornflakes.What things they mixed with original honey we do not know but we eat.This is our indian products  .</td>\n",
       "    </tr>\n",
       "    <tr>\n",
       "      <th>30</th>\n",
       "      <td>Product is okay, but should have been in glass bottle insted of plastic. Most of best brands gives it in Glass Jar .</td>\n",
       "    </tr>\n",
       "    <tr>\n",
       "      <th>31</th>\n",
       "      <td>We don't want to use a so called SWADESI Honey which contains 80% CHINESE Sugar Syrup.We paid money to buy Indian Honey...but we were given adulterated honey with 80% Chinese Sugar Syrup.This is cheating with the emotional of Indian Buyers.Through the day on TV advertisements, you keep on shouting SWADESI SWADESI.  And finally sell Chinese imported products.You have taken Indian customers for granted.It's time for Indian customers to give a STRONG MESSAGE to all such corporates.Please return my order as soon as possible.Don't want your honey.</td>\n",
       "    </tr>\n",
       "    <tr>\n",
       "      <th>32</th>\n",
       "      <td>Natural extraction is not done and so normal only</td>\n",
       "    </tr>\n",
       "    <tr>\n",
       "      <th>33</th>\n",
       "      <td>மிக மிக அருமை very</td>\n",
       "    </tr>\n",
       "    <tr>\n",
       "      <th>34</th>\n",
       "      <td>Good</td>\n",
       "    </tr>\n",
       "    <tr>\n",
       "      <th>35</th>\n",
       "      <td>Althought overall material is excellent... With good taste and packaging but this time i recieved little bit less thickness in the honey... Like i used to take one spoon of honey in a glass of water but this time i had to pour 2spoons of honey to get the same taste...</td>\n",
       "    </tr>\n",
       "    <tr>\n",
       "      <th>36</th>\n",
       "      <td>It has been mentioned in the ad that buy 1 and get one free. But I received only one.Either u remove in ad or send one kg more.</td>\n",
       "    </tr>\n",
       "    <tr>\n",
       "      <th>37</th>\n",
       "      <td>Super</td>\n",
       "    </tr>\n",
       "    <tr>\n",
       "      <th>38</th>\n",
       "      <td>Good taste of purityBuying at a lower rate than other brands available in the market is a happy thing.</td>\n",
       "    </tr>\n",
       "    <tr>\n",
       "      <th>39</th>\n",
       "      <td>Patanjali honey is matchless, but i received a broken seal product, Honey was leaking in the box</td>\n",
       "    </tr>\n",
       "  </tbody>\n",
       "</table>\n",
       "</div>"
      ],
      "text/plain": [
       "                                                                                                                                                                                                                                                                                                                                                                                                                                                                                                                                                                 Reviews\n",
       "0                                                                                                                                                                                                                                                                                                                                                                                                                                        Using this product from last 5 years, no complaint, brand value and long using experience  gives confidence of no adulteration.\n",
       "1                                                                                                                                                                                                                                                                                                                                                                                                                                                                                                                                                               Good one\n",
       "2                                                                                                                                                                                                                                                                                                                                                                                                                                                                                        It's good ...no sugar deposits found as in few other honey...I think it's good.\n",
       "3                                                                                                                                                                                                                                                                                                                                                                                                                                                                                                                                                                 Thanks\n",
       "4                                                                                                                                                                                                                                                                                                                                                                                                                                                                                                                                                                   Good\n",
       "5                                                                                                                                                                                                                                                                                                                                                                                                                                                                                                                                                      Very nice product\n",
       "6                                                                                                                                                                                                                                                                                                                                                                                                                                                                                                                                                             Satisfied.\n",
       "7                                                                                                                                                                                                                                                                                                     I don't know where from these honey producers are churning out honey in industrial quantity. I have tasted the village honey. This honey is certainly not like the original. It is being sold and purchased due to Patanjali brand name else it is not pure honey.\n",
       "8                                                                                                                                                                                                                                                                                                                                                                                                                                                                                                                        Corrugated Box kharab ho chuka tha but thik hai\n",
       "9                                                                                                                                                                                                                                                                                                                                                                                                                                                                                                                                                      Quality assurance\n",
       "10                                                                                                                                                                            The honey came in a sturdy plastic bottle, It is clear, and tastes mild and good but without the special flavour  that comes from the type of flowers the bees have ben collecting from. The bottle does not state that it is natural honey - rather it is manufactured and supposed to be best before 12 months from date of manufacture, so there is some doubt about its natural purity\n",
       "11                                                                                                                                                                                                                                                                                                                                                                                                                            The 2 best honey I have found in India are : 1. Isha honey(from Sadhguru) 2. Patanjali honey(from Baba Ramdev)Great taste, great quality..\n",
       "12                                                                                                                                                                                                                                                                                                                                                                                                                                                                                                Nice product. It did not freeze like some other brands in the winters.\n",
       "13                                                                                                                                                                                                                                                                                                                                                                                                                                                                                                                                                   product are to good\n",
       "14                                                                                                                                                                                                                                                                                                                                                                                                                                                                                                                                                               So good\n",
       "15                                                                                                                                                                                                                                                                                                                                                                                                                                                        It's amazing test,,, it' real honey... Not fack  and test very good.... Don't miss to add  in your daily food.\n",
       "16                                                                                                                                                                                                                                          The media could not be loaded.\\n                \\n\\n\\n\\n The bottle was leaking slightly. Not much damage. I don't know exactly what happened. Whether it was a defect of the bottle or the packing / handling consequences. I have immediately transferred the contents to other bottle .Any way please take care in future\n",
       "17                                                                                                                                                                                                                                                                                                                                                                                                                                                                                                                       ರುಚಿ ಮತ್ತು ಸುಗಂಧ ಚೆನ್ನಾಗಿದೆ ಬೆಲೆನೂ ಜಾಸ್ತಿ ಇಲ್ಲ.\n",
       "18                                                                                                                                                                                                                                                                                                                                                                                                                                                                                                                                                      DAILY CONSUPTION\n",
       "19                                                                                                                                                                                                                                                                                                                               I have used different brands of Honey but nothing beats this Patanjali Honey in taste & purity. I think some of the other cheaper Honey brands are adulterated with sugary substance. Patanjali atleast tastes pure and awesome. Super.\n",
       "20                                                                                                                                                                                                                                                                                                                                                                                                                                                                                                                                                  Good taste of purity\n",
       "21                                                                                                                                                                                                                                                                                                                                                                                                                                                                                                                              The product is ideal in value for money.\n",
       "22                                                                                                                                                                                                                                                                                                                                                                                               I am using 🍯 for a long travel in my life... Using for idle and dhosa eating... Drinking milk.. and with hot water and spicy powder...m etc and 1000 more technology...\n",
       "23                                                                                                                                                                                                                                                                                                                                                                                                                                                                                                                                                  To prepare honey tea\n",
       "24                                                                                                                                                                                                                                                                                                                                                                                                         The bottle was locked in the box packing ..it was smelling also ...cleaned it for 5 min to remove all honey on the bottle...I was waste of time and money too\n",
       "25                                                                                                                                                                                                                                                                                                                                                                                                                                                                                                                                                                Flavor\n",
       "26                                                                                                                                                                                                                                                                                                                                                                                                                                                                                                                                                                  Good\n",
       "27                                                                                                                                                                                                                                                                                                                                                                                                                                                   Nice. I use it for hair pack, pace pack and on my tea. I find it good enough close to naturals. Doesn’t feel sugary\n",
       "28                                                                                                                                                       I truly like it - taste, colour and viscosity.  But is it 100% pure bee's honey?  Reason I ask is that it is known to science that honey is a food that can last (sealed) for literally thousands of years without going bad (fact): it is the only food known to Man that is eternal.  So why state on the jar \"best before 12 months of manufacture\", unless adulterants such as sugar syrup have been added?\n",
       "29                                                                                                                                                                                         The media could not be loaded.\\n                \\n\\n\\n\\n Do you think this is patanjali honey?After using half of the container from 1 kg it remains like a semi solid jaggery, precipitation at the bottom.Though I intake this honey regularly with milk and cornflakes.What things they mixed with original honey we do not know but we eat.This is our indian products  .\n",
       "30                                                                                                                                                                                                                                                                                                                                                                                                                                                  Product is okay, but should have been in glass bottle insted of plastic. Most of best brands gives it in Glass Jar .\n",
       "31  We don't want to use a so called SWADESI Honey which contains 80% CHINESE Sugar Syrup.We paid money to buy Indian Honey...but we were given adulterated honey with 80% Chinese Sugar Syrup.This is cheating with the emotional of Indian Buyers.Through the day on TV advertisements, you keep on shouting SWADESI SWADESI.  And finally sell Chinese imported products.You have taken Indian customers for granted.It's time for Indian customers to give a STRONG MESSAGE to all such corporates.Please return my order as soon as possible.Don't want your honey.\n",
       "32                                                                                                                                                                                                                                                                                                                                                                                                                                                                                                                     Natural extraction is not done and so normal only\n",
       "33                                                                                                                                                                                                                                                                                                                                                                                                                                                                                                                                                    மிக மிக அருமை very\n",
       "34                                                                                                                                                                                                                                                                                                                                                                                                                                                                                                                                                                  Good\n",
       "35                                                                                                                                                                                                                                                                                          Althought overall material is excellent... With good taste and packaging but this time i recieved little bit less thickness in the honey... Like i used to take one spoon of honey in a glass of water but this time i had to pour 2spoons of honey to get the same taste...\n",
       "36                                                                                                                                                                                                                                                                                                                                                                                                                                       It has been mentioned in the ad that buy 1 and get one free. But I received only one.Either u remove in ad or send one kg more.\n",
       "37                                                                                                                                                                                                                                                                                                                                                                                                                                                                                                                                                                 Super\n",
       "38                                                                                                                                                                                                                                                                                                                                                                                                                                                                Good taste of purityBuying at a lower rate than other brands available in the market is a happy thing.\n",
       "39                                                                                                                                                                                                                                                                                                                                                                                                                                                                      Patanjali honey is matchless, but i received a broken seal product, Honey was leaking in the box"
      ]
     },
     "execution_count": 236,
     "metadata": {},
     "output_type": "execute_result"
    }
   ],
   "source": [
    "df=pd.DataFrame({'Reviews':review_list})\n",
    "pd.set_option('max_colwidth', 800)\n",
    "df"
   ]
  },
  {
   "cell_type": "markdown",
   "id": "41fab836",
   "metadata": {},
   "source": [
    "# Pre-processing"
   ]
  },
  {
   "cell_type": "code",
   "execution_count": 239,
   "id": "cb6a9fd6",
   "metadata": {},
   "outputs": [],
   "source": [
    "df.Reviews=df.Reviews.apply(lambda x: re.sub('[^a-zA-Z ]', \"\", x))"
   ]
  },
  {
   "cell_type": "code",
   "execution_count": 240,
   "id": "53926698",
   "metadata": {},
   "outputs": [
    {
     "data": {
      "text/html": [
       "<div>\n",
       "<style scoped>\n",
       "    .dataframe tbody tr th:only-of-type {\n",
       "        vertical-align: middle;\n",
       "    }\n",
       "\n",
       "    .dataframe tbody tr th {\n",
       "        vertical-align: top;\n",
       "    }\n",
       "\n",
       "    .dataframe thead th {\n",
       "        text-align: right;\n",
       "    }\n",
       "</style>\n",
       "<table border=\"1\" class=\"dataframe\">\n",
       "  <thead>\n",
       "    <tr style=\"text-align: right;\">\n",
       "      <th></th>\n",
       "      <th>Reviews</th>\n",
       "    </tr>\n",
       "  </thead>\n",
       "  <tbody>\n",
       "    <tr>\n",
       "      <th>0</th>\n",
       "      <td>Using this product from last  years no complaint brand value and long using experience  gives confidence of no adulteration</td>\n",
       "    </tr>\n",
       "    <tr>\n",
       "      <th>1</th>\n",
       "      <td>Good one</td>\n",
       "    </tr>\n",
       "    <tr>\n",
       "      <th>2</th>\n",
       "      <td>Its good no sugar deposits found as in few other honeyI think its good</td>\n",
       "    </tr>\n",
       "    <tr>\n",
       "      <th>3</th>\n",
       "      <td>Thanks</td>\n",
       "    </tr>\n",
       "    <tr>\n",
       "      <th>4</th>\n",
       "      <td>Good</td>\n",
       "    </tr>\n",
       "  </tbody>\n",
       "</table>\n",
       "</div>"
      ],
      "text/plain": [
       "                                                                                                                       Reviews\n",
       "0  Using this product from last  years no complaint brand value and long using experience  gives confidence of no adulteration\n",
       "1                                                                                                                     Good one\n",
       "2                                                       Its good no sugar deposits found as in few other honeyI think its good\n",
       "3                                                                                                                       Thanks\n",
       "4                                                                                                                         Good"
      ]
     },
     "execution_count": 240,
     "metadata": {},
     "output_type": "execute_result"
    }
   ],
   "source": [
    "df.head()"
   ]
  },
  {
   "cell_type": "markdown",
   "id": "e0a4709d",
   "metadata": {},
   "source": [
    "# Step - 2 : Make text to lower"
   ]
  },
  {
   "cell_type": "code",
   "execution_count": 241,
   "id": "beb30cd6",
   "metadata": {},
   "outputs": [],
   "source": [
    "df.Reviews=df.Reviews.apply(lambda x: x.lower())"
   ]
  },
  {
   "cell_type": "code",
   "execution_count": 242,
   "id": "978de84c",
   "metadata": {},
   "outputs": [
    {
     "data": {
      "text/html": [
       "<div>\n",
       "<style scoped>\n",
       "    .dataframe tbody tr th:only-of-type {\n",
       "        vertical-align: middle;\n",
       "    }\n",
       "\n",
       "    .dataframe tbody tr th {\n",
       "        vertical-align: top;\n",
       "    }\n",
       "\n",
       "    .dataframe thead th {\n",
       "        text-align: right;\n",
       "    }\n",
       "</style>\n",
       "<table border=\"1\" class=\"dataframe\">\n",
       "  <thead>\n",
       "    <tr style=\"text-align: right;\">\n",
       "      <th></th>\n",
       "      <th>Reviews</th>\n",
       "    </tr>\n",
       "  </thead>\n",
       "  <tbody>\n",
       "    <tr>\n",
       "      <th>0</th>\n",
       "      <td>using this product from last  years no complaint brand value and long using experience  gives confidence of no adulteration</td>\n",
       "    </tr>\n",
       "    <tr>\n",
       "      <th>1</th>\n",
       "      <td>good one</td>\n",
       "    </tr>\n",
       "    <tr>\n",
       "      <th>2</th>\n",
       "      <td>its good no sugar deposits found as in few other honeyi think its good</td>\n",
       "    </tr>\n",
       "    <tr>\n",
       "      <th>3</th>\n",
       "      <td>thanks</td>\n",
       "    </tr>\n",
       "    <tr>\n",
       "      <th>4</th>\n",
       "      <td>good</td>\n",
       "    </tr>\n",
       "  </tbody>\n",
       "</table>\n",
       "</div>"
      ],
      "text/plain": [
       "                                                                                                                       Reviews\n",
       "0  using this product from last  years no complaint brand value and long using experience  gives confidence of no adulteration\n",
       "1                                                                                                                     good one\n",
       "2                                                       its good no sugar deposits found as in few other honeyi think its good\n",
       "3                                                                                                                       thanks\n",
       "4                                                                                                                         good"
      ]
     },
     "execution_count": 242,
     "metadata": {},
     "output_type": "execute_result"
    }
   ],
   "source": [
    "df.head()"
   ]
  },
  {
   "cell_type": "markdown",
   "id": "d12a6198",
   "metadata": {},
   "source": [
    "# import stopwords and stemmer"
   ]
  },
  {
   "cell_type": "code",
   "execution_count": 243,
   "id": "ceb3d181",
   "metadata": {},
   "outputs": [
    {
     "name": "stderr",
     "output_type": "stream",
     "text": [
      "[nltk_data] Downloading package stopwords to\n",
      "[nltk_data]     C:\\Users\\phoneclicker\\AppData\\Roaming\\nltk_data...\n",
      "[nltk_data]   Unzipping corpora\\stopwords.zip.\n"
     ]
    }
   ],
   "source": [
    "import nltk  \n",
    "nltk.download('stopwords') \n",
    "from nltk.corpus import stopwords  \n",
    "from nltk.stem.porter import PorterStemmer "
   ]
  },
  {
   "cell_type": "markdown",
   "id": "91e468cd",
   "metadata": {},
   "source": [
    "# splitting word from line"
   ]
  },
  {
   "cell_type": "code",
   "execution_count": 244,
   "id": "dbaf5465",
   "metadata": {},
   "outputs": [],
   "source": [
    "df.Reviews=df.Reviews.apply(lambda x: x.split())"
   ]
  },
  {
   "cell_type": "code",
   "execution_count": 245,
   "id": "ff61c22e",
   "metadata": {},
   "outputs": [
    {
     "data": {
      "text/html": [
       "<div>\n",
       "<style scoped>\n",
       "    .dataframe tbody tr th:only-of-type {\n",
       "        vertical-align: middle;\n",
       "    }\n",
       "\n",
       "    .dataframe tbody tr th {\n",
       "        vertical-align: top;\n",
       "    }\n",
       "\n",
       "    .dataframe thead th {\n",
       "        text-align: right;\n",
       "    }\n",
       "</style>\n",
       "<table border=\"1\" class=\"dataframe\">\n",
       "  <thead>\n",
       "    <tr style=\"text-align: right;\">\n",
       "      <th></th>\n",
       "      <th>Reviews</th>\n",
       "    </tr>\n",
       "  </thead>\n",
       "  <tbody>\n",
       "    <tr>\n",
       "      <th>0</th>\n",
       "      <td>[using, this, product, from, last, years, no, complaint, brand, value, and, long, using, experience, gives, confidence, of, no, adulteration]</td>\n",
       "    </tr>\n",
       "    <tr>\n",
       "      <th>1</th>\n",
       "      <td>[good, one]</td>\n",
       "    </tr>\n",
       "    <tr>\n",
       "      <th>2</th>\n",
       "      <td>[its, good, no, sugar, deposits, found, as, in, few, other, honeyi, think, its, good]</td>\n",
       "    </tr>\n",
       "    <tr>\n",
       "      <th>3</th>\n",
       "      <td>[thanks]</td>\n",
       "    </tr>\n",
       "    <tr>\n",
       "      <th>4</th>\n",
       "      <td>[good]</td>\n",
       "    </tr>\n",
       "  </tbody>\n",
       "</table>\n",
       "</div>"
      ],
      "text/plain": [
       "                                                                                                                                         Reviews\n",
       "0  [using, this, product, from, last, years, no, complaint, brand, value, and, long, using, experience, gives, confidence, of, no, adulteration]\n",
       "1                                                                                                                                    [good, one]\n",
       "2                                                          [its, good, no, sugar, deposits, found, as, in, few, other, honeyi, think, its, good]\n",
       "3                                                                                                                                       [thanks]\n",
       "4                                                                                                                                         [good]"
      ]
     },
     "execution_count": 245,
     "metadata": {},
     "output_type": "execute_result"
    }
   ],
   "source": [
    "df.head()"
   ]
  },
  {
   "cell_type": "markdown",
   "id": "74802a4c",
   "metadata": {},
   "source": [
    "# removing stop words"
   ]
  },
  {
   "cell_type": "code",
   "execution_count": 246,
   "id": "f2e40387",
   "metadata": {},
   "outputs": [],
   "source": [
    "df.Reviews=df.Reviews.apply(lambda x: [word  for word in x if word not in set(stopwords.words('english'))])"
   ]
  },
  {
   "cell_type": "code",
   "execution_count": 247,
   "id": "c3157136",
   "metadata": {},
   "outputs": [
    {
     "data": {
      "text/html": [
       "<div>\n",
       "<style scoped>\n",
       "    .dataframe tbody tr th:only-of-type {\n",
       "        vertical-align: middle;\n",
       "    }\n",
       "\n",
       "    .dataframe tbody tr th {\n",
       "        vertical-align: top;\n",
       "    }\n",
       "\n",
       "    .dataframe thead th {\n",
       "        text-align: right;\n",
       "    }\n",
       "</style>\n",
       "<table border=\"1\" class=\"dataframe\">\n",
       "  <thead>\n",
       "    <tr style=\"text-align: right;\">\n",
       "      <th></th>\n",
       "      <th>Reviews</th>\n",
       "    </tr>\n",
       "  </thead>\n",
       "  <tbody>\n",
       "    <tr>\n",
       "      <th>0</th>\n",
       "      <td>[using, product, last, years, complaint, brand, value, long, using, experience, gives, confidence, adulteration]</td>\n",
       "    </tr>\n",
       "    <tr>\n",
       "      <th>1</th>\n",
       "      <td>[good, one]</td>\n",
       "    </tr>\n",
       "    <tr>\n",
       "      <th>2</th>\n",
       "      <td>[good, sugar, deposits, found, honeyi, think, good]</td>\n",
       "    </tr>\n",
       "    <tr>\n",
       "      <th>3</th>\n",
       "      <td>[thanks]</td>\n",
       "    </tr>\n",
       "    <tr>\n",
       "      <th>4</th>\n",
       "      <td>[good]</td>\n",
       "    </tr>\n",
       "  </tbody>\n",
       "</table>\n",
       "</div>"
      ],
      "text/plain": [
       "                                                                                                            Reviews\n",
       "0  [using, product, last, years, complaint, brand, value, long, using, experience, gives, confidence, adulteration]\n",
       "1                                                                                                       [good, one]\n",
       "2                                                               [good, sugar, deposits, found, honeyi, think, good]\n",
       "3                                                                                                          [thanks]\n",
       "4                                                                                                            [good]"
      ]
     },
     "execution_count": 247,
     "metadata": {},
     "output_type": "execute_result"
    }
   ],
   "source": [
    "df.head()"
   ]
  },
  {
   "cell_type": "markdown",
   "id": "6b17720c",
   "metadata": {},
   "source": [
    "# stemming"
   ]
  },
  {
   "cell_type": "code",
   "execution_count": 248,
   "id": "f2a77acf",
   "metadata": {},
   "outputs": [],
   "source": [
    "ps = PorterStemmer()  \n",
    "df.Reviews=df.Reviews.apply(lambda x: [ps.stem(word) for word in x])"
   ]
  },
  {
   "cell_type": "code",
   "execution_count": 249,
   "id": "6ad74919",
   "metadata": {},
   "outputs": [
    {
     "data": {
      "text/html": [
       "<div>\n",
       "<style scoped>\n",
       "    .dataframe tbody tr th:only-of-type {\n",
       "        vertical-align: middle;\n",
       "    }\n",
       "\n",
       "    .dataframe tbody tr th {\n",
       "        vertical-align: top;\n",
       "    }\n",
       "\n",
       "    .dataframe thead th {\n",
       "        text-align: right;\n",
       "    }\n",
       "</style>\n",
       "<table border=\"1\" class=\"dataframe\">\n",
       "  <thead>\n",
       "    <tr style=\"text-align: right;\">\n",
       "      <th></th>\n",
       "      <th>Reviews</th>\n",
       "    </tr>\n",
       "  </thead>\n",
       "  <tbody>\n",
       "    <tr>\n",
       "      <th>0</th>\n",
       "      <td>[use, product, last, year, complaint, brand, valu, long, use, experi, give, confid, adulter]</td>\n",
       "    </tr>\n",
       "    <tr>\n",
       "      <th>1</th>\n",
       "      <td>[good, one]</td>\n",
       "    </tr>\n",
       "    <tr>\n",
       "      <th>2</th>\n",
       "      <td>[good, sugar, deposit, found, honeyi, think, good]</td>\n",
       "    </tr>\n",
       "    <tr>\n",
       "      <th>3</th>\n",
       "      <td>[thank]</td>\n",
       "    </tr>\n",
       "    <tr>\n",
       "      <th>4</th>\n",
       "      <td>[good]</td>\n",
       "    </tr>\n",
       "  </tbody>\n",
       "</table>\n",
       "</div>"
      ],
      "text/plain": [
       "                                                                                        Reviews\n",
       "0  [use, product, last, year, complaint, brand, valu, long, use, experi, give, confid, adulter]\n",
       "1                                                                                   [good, one]\n",
       "2                                            [good, sugar, deposit, found, honeyi, think, good]\n",
       "3                                                                                       [thank]\n",
       "4                                                                                        [good]"
      ]
     },
     "execution_count": 249,
     "metadata": {},
     "output_type": "execute_result"
    }
   ],
   "source": [
    "df.head()"
   ]
  },
  {
   "cell_type": "markdown",
   "id": "3700e766",
   "metadata": {},
   "source": [
    "# rejoining"
   ]
  },
  {
   "cell_type": "code",
   "execution_count": 250,
   "id": "9d218fc8",
   "metadata": {},
   "outputs": [],
   "source": [
    "df.Reviews=df.Reviews.apply(lambda x: \" \".join(x))"
   ]
  },
  {
   "cell_type": "code",
   "execution_count": 251,
   "id": "b0a24b68",
   "metadata": {},
   "outputs": [
    {
     "data": {
      "text/html": [
       "<div>\n",
       "<style scoped>\n",
       "    .dataframe tbody tr th:only-of-type {\n",
       "        vertical-align: middle;\n",
       "    }\n",
       "\n",
       "    .dataframe tbody tr th {\n",
       "        vertical-align: top;\n",
       "    }\n",
       "\n",
       "    .dataframe thead th {\n",
       "        text-align: right;\n",
       "    }\n",
       "</style>\n",
       "<table border=\"1\" class=\"dataframe\">\n",
       "  <thead>\n",
       "    <tr style=\"text-align: right;\">\n",
       "      <th></th>\n",
       "      <th>Reviews</th>\n",
       "    </tr>\n",
       "  </thead>\n",
       "  <tbody>\n",
       "    <tr>\n",
       "      <th>0</th>\n",
       "      <td>use product last year complaint brand valu long use experi give confid adulter</td>\n",
       "    </tr>\n",
       "    <tr>\n",
       "      <th>1</th>\n",
       "      <td>good one</td>\n",
       "    </tr>\n",
       "    <tr>\n",
       "      <th>2</th>\n",
       "      <td>good sugar deposit found honeyi think good</td>\n",
       "    </tr>\n",
       "    <tr>\n",
       "      <th>3</th>\n",
       "      <td>thank</td>\n",
       "    </tr>\n",
       "    <tr>\n",
       "      <th>4</th>\n",
       "      <td>good</td>\n",
       "    </tr>\n",
       "  </tbody>\n",
       "</table>\n",
       "</div>"
      ],
      "text/plain": [
       "                                                                          Reviews\n",
       "0  use product last year complaint brand valu long use experi give confid adulter\n",
       "1                                                                        good one\n",
       "2                                      good sugar deposit found honeyi think good\n",
       "3                                                                           thank\n",
       "4                                                                            good"
      ]
     },
     "execution_count": 251,
     "metadata": {},
     "output_type": "execute_result"
    }
   ],
   "source": [
    "df.head()"
   ]
  },
  {
   "cell_type": "markdown",
   "id": "41323896",
   "metadata": {},
   "source": [
    "# Sentiment Analysis"
   ]
  },
  {
   "cell_type": "markdown",
   "id": "83c870ba",
   "metadata": {},
   "source": [
    "# vader"
   ]
  },
  {
   "cell_type": "code",
   "execution_count": 252,
   "id": "92523ec2",
   "metadata": {},
   "outputs": [
    {
     "name": "stderr",
     "output_type": "stream",
     "text": [
      "[nltk_data] Downloading package vader_lexicon to\n",
      "[nltk_data]     C:\\Users\\phoneclicker\\AppData\\Roaming\\nltk_data...\n",
      "[nltk_data]   Package vader_lexicon is already up-to-date!\n"
     ]
    },
    {
     "data": {
      "text/plain": [
       "True"
      ]
     },
     "execution_count": 252,
     "metadata": {},
     "output_type": "execute_result"
    }
   ],
   "source": [
    "nltk.download('vader_lexicon')"
   ]
  },
  {
   "cell_type": "code",
   "execution_count": 253,
   "id": "01812ed7",
   "metadata": {},
   "outputs": [],
   "source": [
    "from nltk.sentiment import SentimentIntensityAnalyzer\n",
    "si = SentimentIntensityAnalyzer()"
   ]
  },
  {
   "cell_type": "code",
   "execution_count": 254,
   "id": "6d57a6d1",
   "metadata": {},
   "outputs": [],
   "source": [
    "def sentiment_score(text):\n",
    "    score=si.polarity_scores(text)\n",
    "    return score['compound']"
   ]
  },
  {
   "cell_type": "code",
   "execution_count": 255,
   "id": "c67f0cd9",
   "metadata": {},
   "outputs": [],
   "source": [
    "df['sentiment_score'] = df['Reviews'].apply(lambda x:sentiment_score(x))\n"
   ]
  },
  {
   "cell_type": "code",
   "execution_count": 256,
   "id": "c9543494",
   "metadata": {},
   "outputs": [
    {
     "data": {
      "text/html": [
       "<div>\n",
       "<style scoped>\n",
       "    .dataframe tbody tr th:only-of-type {\n",
       "        vertical-align: middle;\n",
       "    }\n",
       "\n",
       "    .dataframe tbody tr th {\n",
       "        vertical-align: top;\n",
       "    }\n",
       "\n",
       "    .dataframe thead th {\n",
       "        text-align: right;\n",
       "    }\n",
       "</style>\n",
       "<table border=\"1\" class=\"dataframe\">\n",
       "  <thead>\n",
       "    <tr style=\"text-align: right;\">\n",
       "      <th></th>\n",
       "      <th>Reviews</th>\n",
       "      <th>sentiment_score</th>\n",
       "    </tr>\n",
       "  </thead>\n",
       "  <tbody>\n",
       "    <tr>\n",
       "      <th>0</th>\n",
       "      <td>use product last year complaint brand valu long use experi give confid adulter</td>\n",
       "      <td>-0.2960</td>\n",
       "    </tr>\n",
       "    <tr>\n",
       "      <th>1</th>\n",
       "      <td>good one</td>\n",
       "      <td>0.4404</td>\n",
       "    </tr>\n",
       "    <tr>\n",
       "      <th>2</th>\n",
       "      <td>good sugar deposit found honeyi think good</td>\n",
       "      <td>0.7003</td>\n",
       "    </tr>\n",
       "    <tr>\n",
       "      <th>3</th>\n",
       "      <td>thank</td>\n",
       "      <td>0.3612</td>\n",
       "    </tr>\n",
       "    <tr>\n",
       "      <th>4</th>\n",
       "      <td>good</td>\n",
       "      <td>0.4404</td>\n",
       "    </tr>\n",
       "  </tbody>\n",
       "</table>\n",
       "</div>"
      ],
      "text/plain": [
       "                                                                          Reviews  \\\n",
       "0  use product last year complaint brand valu long use experi give confid adulter   \n",
       "1                                                                        good one   \n",
       "2                                      good sugar deposit found honeyi think good   \n",
       "3                                                                           thank   \n",
       "4                                                                            good   \n",
       "\n",
       "   sentiment_score  \n",
       "0          -0.2960  \n",
       "1           0.4404  \n",
       "2           0.7003  \n",
       "3           0.3612  \n",
       "4           0.4404  "
      ]
     },
     "execution_count": 256,
     "metadata": {},
     "output_type": "execute_result"
    }
   ],
   "source": [
    "pd.set_option('max_colwidth', 500)\n",
    "df.head()"
   ]
  },
  {
   "cell_type": "code",
   "execution_count": 267,
   "id": "48248109",
   "metadata": {},
   "outputs": [],
   "source": [
    "def sentiment_category(score1):\n",
    "    if(score1 > 0.4):\n",
    "        return 'Positive'\n",
    "    elif(score1 < .1):\n",
    "        return 'Negative'\n",
    "    else:\n",
    "        return 'Neutral'"
   ]
  },
  {
   "cell_type": "code",
   "execution_count": 268,
   "id": "0d8eeae4",
   "metadata": {},
   "outputs": [],
   "source": [
    "df['sentiment'] = df['sentiment_score'].apply(lambda x:sentiment_category(x))\n"
   ]
  },
  {
   "cell_type": "code",
   "execution_count": 269,
   "id": "065395a5",
   "metadata": {},
   "outputs": [
    {
     "data": {
      "text/html": [
       "<div>\n",
       "<style scoped>\n",
       "    .dataframe tbody tr th:only-of-type {\n",
       "        vertical-align: middle;\n",
       "    }\n",
       "\n",
       "    .dataframe tbody tr th {\n",
       "        vertical-align: top;\n",
       "    }\n",
       "\n",
       "    .dataframe thead th {\n",
       "        text-align: right;\n",
       "    }\n",
       "</style>\n",
       "<table border=\"1\" class=\"dataframe\">\n",
       "  <thead>\n",
       "    <tr style=\"text-align: right;\">\n",
       "      <th></th>\n",
       "      <th>Reviews</th>\n",
       "      <th>sentiment_score</th>\n",
       "      <th>sentiment</th>\n",
       "    </tr>\n",
       "  </thead>\n",
       "  <tbody>\n",
       "    <tr>\n",
       "      <th>0</th>\n",
       "      <td>use product last year complaint brand valu long use experi give confid adulter</td>\n",
       "      <td>-0.2960</td>\n",
       "      <td>Negative</td>\n",
       "    </tr>\n",
       "    <tr>\n",
       "      <th>1</th>\n",
       "      <td>good one</td>\n",
       "      <td>0.4404</td>\n",
       "      <td>Positive</td>\n",
       "    </tr>\n",
       "    <tr>\n",
       "      <th>2</th>\n",
       "      <td>good sugar deposit found honeyi think good</td>\n",
       "      <td>0.7003</td>\n",
       "      <td>Positive</td>\n",
       "    </tr>\n",
       "    <tr>\n",
       "      <th>3</th>\n",
       "      <td>thank</td>\n",
       "      <td>0.3612</td>\n",
       "      <td>Neutral</td>\n",
       "    </tr>\n",
       "    <tr>\n",
       "      <th>4</th>\n",
       "      <td>good</td>\n",
       "      <td>0.4404</td>\n",
       "      <td>Positive</td>\n",
       "    </tr>\n",
       "    <tr>\n",
       "      <th>5</th>\n",
       "      <td>nice product</td>\n",
       "      <td>0.4215</td>\n",
       "      <td>Positive</td>\n",
       "    </tr>\n",
       "    <tr>\n",
       "      <th>6</th>\n",
       "      <td>satisfi</td>\n",
       "      <td>0.0000</td>\n",
       "      <td>Negative</td>\n",
       "    </tr>\n",
       "    <tr>\n",
       "      <th>7</th>\n",
       "      <td>dont know honey produc churn honey industri quantiti tast villag honey honey certainli like origin sold purchas due patanjali brand name els pure honey</td>\n",
       "      <td>0.3612</td>\n",
       "      <td>Neutral</td>\n",
       "    </tr>\n",
       "    <tr>\n",
       "      <th>8</th>\n",
       "      <td>corrug box kharab ho chuka tha thik hai</td>\n",
       "      <td>0.0000</td>\n",
       "      <td>Negative</td>\n",
       "    </tr>\n",
       "    <tr>\n",
       "      <th>9</th>\n",
       "      <td>qualiti assur</td>\n",
       "      <td>0.0000</td>\n",
       "      <td>Negative</td>\n",
       "    </tr>\n",
       "    <tr>\n",
       "      <th>10</th>\n",
       "      <td>honey came sturdi plastic bottl clear tast mild good without special flavour come type flower bee ben collect bottl state natur honey rather manufactur suppos best month date manufactur doubt natur puriti</td>\n",
       "      <td>0.7133</td>\n",
       "      <td>Positive</td>\n",
       "    </tr>\n",
       "    <tr>\n",
       "      <th>11</th>\n",
       "      <td>best honey found india isha honeyfrom sadhguru patanjali honeyfrom baba ramdevgreat tast great qualiti</td>\n",
       "      <td>0.8519</td>\n",
       "      <td>Positive</td>\n",
       "    </tr>\n",
       "    <tr>\n",
       "      <th>12</th>\n",
       "      <td>nice product freez like brand winter</td>\n",
       "      <td>0.6486</td>\n",
       "      <td>Positive</td>\n",
       "    </tr>\n",
       "    <tr>\n",
       "      <th>13</th>\n",
       "      <td>product good</td>\n",
       "      <td>0.4404</td>\n",
       "      <td>Positive</td>\n",
       "    </tr>\n",
       "    <tr>\n",
       "      <th>14</th>\n",
       "      <td>good</td>\n",
       "      <td>0.4404</td>\n",
       "      <td>Positive</td>\n",
       "    </tr>\n",
       "    <tr>\n",
       "      <th>15</th>\n",
       "      <td>amaz test real honey fack test good dont miss add daili food</td>\n",
       "      <td>0.5178</td>\n",
       "      <td>Positive</td>\n",
       "    </tr>\n",
       "    <tr>\n",
       "      <th>16</th>\n",
       "      <td>media could load bottl leak slightli much damag dont know exactli happen whether defect bottl pack handl consequ immedi transfer content bottl way pleas take care futur</td>\n",
       "      <td>-0.1531</td>\n",
       "      <td>Negative</td>\n",
       "    </tr>\n",
       "    <tr>\n",
       "      <th>17</th>\n",
       "      <td></td>\n",
       "      <td>0.0000</td>\n",
       "      <td>Negative</td>\n",
       "    </tr>\n",
       "    <tr>\n",
       "      <th>18</th>\n",
       "      <td>daili consupt</td>\n",
       "      <td>0.0000</td>\n",
       "      <td>Negative</td>\n",
       "    </tr>\n",
       "    <tr>\n",
       "      <th>19</th>\n",
       "      <td>use differ brand honey noth beat patanjali honey tast puriti think cheaper honey brand adulter sugari substanc patanjali atleast tast pure awesom super</td>\n",
       "      <td>0.5994</td>\n",
       "      <td>Positive</td>\n",
       "    </tr>\n",
       "    <tr>\n",
       "      <th>20</th>\n",
       "      <td>good tast puriti</td>\n",
       "      <td>0.4404</td>\n",
       "      <td>Positive</td>\n",
       "    </tr>\n",
       "    <tr>\n",
       "      <th>21</th>\n",
       "      <td>product ideal valu money</td>\n",
       "      <td>0.5267</td>\n",
       "      <td>Positive</td>\n",
       "    </tr>\n",
       "    <tr>\n",
       "      <th>22</th>\n",
       "      <td>use long travel life use idl dhosa eat drink milk hot water spici powderm etc technolog</td>\n",
       "      <td>0.0000</td>\n",
       "      <td>Negative</td>\n",
       "    </tr>\n",
       "    <tr>\n",
       "      <th>23</th>\n",
       "      <td>prepar honey tea</td>\n",
       "      <td>0.0000</td>\n",
       "      <td>Negative</td>\n",
       "    </tr>\n",
       "    <tr>\n",
       "      <th>24</th>\n",
       "      <td>bottl lock box pack smell also clean min remov honey bottlei wast time money</td>\n",
       "      <td>0.4019</td>\n",
       "      <td>Positive</td>\n",
       "    </tr>\n",
       "    <tr>\n",
       "      <th>25</th>\n",
       "      <td>flavor</td>\n",
       "      <td>0.0000</td>\n",
       "      <td>Negative</td>\n",
       "    </tr>\n",
       "    <tr>\n",
       "      <th>26</th>\n",
       "      <td>good</td>\n",
       "      <td>0.4404</td>\n",
       "      <td>Positive</td>\n",
       "    </tr>\n",
       "    <tr>\n",
       "      <th>27</th>\n",
       "      <td>nice use hair pack pace pack tea find good enough close natur doesnt feel sugari</td>\n",
       "      <td>0.6908</td>\n",
       "      <td>Positive</td>\n",
       "    </tr>\n",
       "    <tr>\n",
       "      <th>28</th>\n",
       "      <td>truli like tast colour viscos pure bee honey reason ask known scienc honey food last seal liter thousand year without go bad fact food known man etern state jar best month manufactur unless adulter sugar syrup ad</td>\n",
       "      <td>0.8608</td>\n",
       "      <td>Positive</td>\n",
       "    </tr>\n",
       "    <tr>\n",
       "      <th>29</th>\n",
       "      <td>media could load think patanjali honeyaft use half contain kg remain like semi solid jaggeri precipit bottomthough intak honey regularli milk cornflakeswhat thing mix origin honey know eatthi indian product</td>\n",
       "      <td>0.4767</td>\n",
       "      <td>Positive</td>\n",
       "    </tr>\n",
       "    <tr>\n",
       "      <th>30</th>\n",
       "      <td>product okay glass bottl inst plastic best brand give glass jar</td>\n",
       "      <td>0.7269</td>\n",
       "      <td>Positive</td>\n",
       "    </tr>\n",
       "    <tr>\n",
       "      <th>31</th>\n",
       "      <td>dont want use call swadesi honey contain chines sugar syrupw paid money buy indian honeybut given adulter honey chines sugar syrupthi cheat emot indian buyersthrough day tv advertis keep shout swadesi swadesi final sell chines import productsy taken indian custom grantedit time indian custom give strong messag corporatespleas return order soon possibledont want honey</td>\n",
       "      <td>-0.0372</td>\n",
       "      <td>Negative</td>\n",
       "    </tr>\n",
       "    <tr>\n",
       "      <th>32</th>\n",
       "      <td>natur extract done normal</td>\n",
       "      <td>0.0000</td>\n",
       "      <td>Negative</td>\n",
       "    </tr>\n",
       "    <tr>\n",
       "      <th>33</th>\n",
       "      <td></td>\n",
       "      <td>0.0000</td>\n",
       "      <td>Negative</td>\n",
       "    </tr>\n",
       "    <tr>\n",
       "      <th>34</th>\n",
       "      <td>good</td>\n",
       "      <td>0.4404</td>\n",
       "      <td>Positive</td>\n",
       "    </tr>\n",
       "    <tr>\n",
       "      <th>35</th>\n",
       "      <td>althought overal materi excel good tast packag time reciev littl bit less thick honey like use take one spoon honey glass water time pour spoon honey get tast</td>\n",
       "      <td>0.7984</td>\n",
       "      <td>Positive</td>\n",
       "    </tr>\n",
       "    <tr>\n",
       "      <th>36</th>\n",
       "      <td>mention ad buy get one free receiv oneeith u remov ad send one kg</td>\n",
       "      <td>0.5106</td>\n",
       "      <td>Positive</td>\n",
       "    </tr>\n",
       "    <tr>\n",
       "      <th>37</th>\n",
       "      <td>super</td>\n",
       "      <td>0.5994</td>\n",
       "      <td>Positive</td>\n",
       "    </tr>\n",
       "    <tr>\n",
       "      <th>38</th>\n",
       "      <td>good tast puritybuy lower rate brand avail market happi thing</td>\n",
       "      <td>0.1779</td>\n",
       "      <td>Neutral</td>\n",
       "    </tr>\n",
       "    <tr>\n",
       "      <th>39</th>\n",
       "      <td>patanjali honey matchless receiv broken seal product honey leak box</td>\n",
       "      <td>-0.6705</td>\n",
       "      <td>Negative</td>\n",
       "    </tr>\n",
       "  </tbody>\n",
       "</table>\n",
       "</div>"
      ],
      "text/plain": [
       "                                                                                                                                                                                                                                                                                                                                                                              Reviews  \\\n",
       "0                                                                                                                                                                                                                                                                                                      use product last year complaint brand valu long use experi give confid adulter   \n",
       "1                                                                                                                                                                                                                                                                                                                                                                            good one   \n",
       "2                                                                                                                                                                                                                                                                                                                                          good sugar deposit found honeyi think good   \n",
       "3                                                                                                                                                                                                                                                                                                                                                                               thank   \n",
       "4                                                                                                                                                                                                                                                                                                                                                                                good   \n",
       "5                                                                                                                                                                                                                                                                                                                                                                        nice product   \n",
       "6                                                                                                                                                                                                                                                                                                                                                                             satisfi   \n",
       "7                                                                                                                                                                                                                             dont know honey produc churn honey industri quantiti tast villag honey honey certainli like origin sold purchas due patanjali brand name els pure honey   \n",
       "8                                                                                                                                                                                                                                                                                                                                             corrug box kharab ho chuka tha thik hai   \n",
       "9                                                                                                                                                                                                                                                                                                                                                                       qualiti assur   \n",
       "10                                                                                                                                                                       honey came sturdi plastic bottl clear tast mild good without special flavour come type flower bee ben collect bottl state natur honey rather manufactur suppos best month date manufactur doubt natur puriti   \n",
       "11                                                                                                                                                                                                                                                                             best honey found india isha honeyfrom sadhguru patanjali honeyfrom baba ramdevgreat tast great qualiti   \n",
       "12                                                                                                                                                                                                                                                                                                                                               nice product freez like brand winter   \n",
       "13                                                                                                                                                                                                                                                                                                                                                                       product good   \n",
       "14                                                                                                                                                                                                                                                                                                                                                                               good   \n",
       "15                                                                                                                                                                                                                                                                                                                       amaz test real honey fack test good dont miss add daili food   \n",
       "16                                                                                                                                                                                                           media could load bottl leak slightli much damag dont know exactli happen whether defect bottl pack handl consequ immedi transfer content bottl way pleas take care futur   \n",
       "17                                                                                                                                                                                                                                                                                                                                                                                      \n",
       "18                                                                                                                                                                                                                                                                                                                                                                      daili consupt   \n",
       "19                                                                                                                                                                                                                            use differ brand honey noth beat patanjali honey tast puriti think cheaper honey brand adulter sugari substanc patanjali atleast tast pure awesom super   \n",
       "20                                                                                                                                                                                                                                                                                                                                                                   good tast puriti   \n",
       "21                                                                                                                                                                                                                                                                                                                                                           product ideal valu money   \n",
       "22                                                                                                                                                                                                                                                                                            use long travel life use idl dhosa eat drink milk hot water spici powderm etc technolog   \n",
       "23                                                                                                                                                                                                                                                                                                                                                                   prepar honey tea   \n",
       "24                                                                                                                                                                                                                                                                                                       bottl lock box pack smell also clean min remov honey bottlei wast time money   \n",
       "25                                                                                                                                                                                                                                                                                                                                                                             flavor   \n",
       "26                                                                                                                                                                                                                                                                                                                                                                               good   \n",
       "27                                                                                                                                                                                                                                                                                                   nice use hair pack pace pack tea find good enough close natur doesnt feel sugari   \n",
       "28                                                                                                                                                               truli like tast colour viscos pure bee honey reason ask known scienc honey food last seal liter thousand year without go bad fact food known man etern state jar best month manufactur unless adulter sugar syrup ad   \n",
       "29                                                                                                                                                                     media could load think patanjali honeyaft use half contain kg remain like semi solid jaggeri precipit bottomthough intak honey regularli milk cornflakeswhat thing mix origin honey know eatthi indian product   \n",
       "30                                                                                                                                                                                                                                                                                                                    product okay glass bottl inst plastic best brand give glass jar   \n",
       "31  dont want use call swadesi honey contain chines sugar syrupw paid money buy indian honeybut given adulter honey chines sugar syrupthi cheat emot indian buyersthrough day tv advertis keep shout swadesi swadesi final sell chines import productsy taken indian custom grantedit time indian custom give strong messag corporatespleas return order soon possibledont want honey   \n",
       "32                                                                                                                                                                                                                                                                                                                                                          natur extract done normal   \n",
       "33                                                                                                                                                                                                                                                                                                                                                                                      \n",
       "34                                                                                                                                                                                                                                                                                                                                                                               good   \n",
       "35                                                                                                                                                                                                                     althought overal materi excel good tast packag time reciev littl bit less thick honey like use take one spoon honey glass water time pour spoon honey get tast   \n",
       "36                                                                                                                                                                                                                                                                                                                  mention ad buy get one free receiv oneeith u remov ad send one kg   \n",
       "37                                                                                                                                                                                                                                                                                                                                                                              super   \n",
       "38                                                                                                                                                                                                                                                                                                                      good tast puritybuy lower rate brand avail market happi thing   \n",
       "39                                                                                                                                                                                                                                                                                                                patanjali honey matchless receiv broken seal product honey leak box   \n",
       "\n",
       "    sentiment_score sentiment  \n",
       "0           -0.2960  Negative  \n",
       "1            0.4404  Positive  \n",
       "2            0.7003  Positive  \n",
       "3            0.3612   Neutral  \n",
       "4            0.4404  Positive  \n",
       "5            0.4215  Positive  \n",
       "6            0.0000  Negative  \n",
       "7            0.3612   Neutral  \n",
       "8            0.0000  Negative  \n",
       "9            0.0000  Negative  \n",
       "10           0.7133  Positive  \n",
       "11           0.8519  Positive  \n",
       "12           0.6486  Positive  \n",
       "13           0.4404  Positive  \n",
       "14           0.4404  Positive  \n",
       "15           0.5178  Positive  \n",
       "16          -0.1531  Negative  \n",
       "17           0.0000  Negative  \n",
       "18           0.0000  Negative  \n",
       "19           0.5994  Positive  \n",
       "20           0.4404  Positive  \n",
       "21           0.5267  Positive  \n",
       "22           0.0000  Negative  \n",
       "23           0.0000  Negative  \n",
       "24           0.4019  Positive  \n",
       "25           0.0000  Negative  \n",
       "26           0.4404  Positive  \n",
       "27           0.6908  Positive  \n",
       "28           0.8608  Positive  \n",
       "29           0.4767  Positive  \n",
       "30           0.7269  Positive  \n",
       "31          -0.0372  Negative  \n",
       "32           0.0000  Negative  \n",
       "33           0.0000  Negative  \n",
       "34           0.4404  Positive  \n",
       "35           0.7984  Positive  \n",
       "36           0.5106  Positive  \n",
       "37           0.5994  Positive  \n",
       "38           0.1779   Neutral  \n",
       "39          -0.6705  Negative  "
      ]
     },
     "execution_count": 269,
     "metadata": {},
     "output_type": "execute_result"
    }
   ],
   "source": [
    "df"
   ]
  },
  {
   "cell_type": "code",
   "execution_count": 270,
   "id": "8a5d275a",
   "metadata": {},
   "outputs": [
    {
     "data": {
      "text/plain": [
       "<AxesSubplot:xlabel='sentiment', ylabel='count'>"
      ]
     },
     "execution_count": 270,
     "metadata": {},
     "output_type": "execute_result"
    },
    {
     "data": {
      "image/png": "[encoded data removed]",
      "text/plain": [
       "<Figure size 432x288 with 1 Axes>"
      ]
     },
     "metadata": {
      "needs_background": "light"
     },
     "output_type": "display_data"
    }
   ],
   "source": [
    "sns.countplot(x=df['sentiment'])"
   ]
  },
  {
   "cell_type": "code",
   "execution_count": null,
   "id": "f2b55468",
   "metadata": {},
   "outputs": [],
   "source": []
  },
  {
   "cell_type": "code",
   "execution_count": null,
   "id": "765533fa",
   "metadata": {},
   "outputs": [],
   "source": []
  }
 ],
 "metadata": {
  "kernelspec": {
   "display_name": "Python 3 (ipykernel)",
   "language": "python",
   "name": "python3"
  },
  "language_info": {
   "codemirror_mode": {
    "name": "ipython",
    "version": 3
   },
   "file_extension": ".py",
   "mimetype": "text/x-python",
   "name": "python",
   "nbconvert_exporter": "python",
   "pygments_lexer": "ipython3",
   "version": "3.9.13"
  }
 },
 "nbformat": 4,
 "nbformat_minor": 5
}
