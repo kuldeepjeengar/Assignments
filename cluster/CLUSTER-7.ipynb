{
 "cells": [
  {
   "cell_type": "markdown",
   "id": "da97def8",
   "metadata": {},
   "source": [
    "# PROBLEM SATEMENT-1\n",
    "\n",
    "Perform Clustering(Hierarchical, Kmeans & DBSCAN) for the crime data and identify the number of clusters formed and draw inferences.\n",
    "\n",
    "Data Description:\n",
    "Murder -- Muder rates in different places of United States\n",
    "Assualt- Assualt rate in different places of United States\n",
    "UrbanPop - urban population in different places of United States\n",
    "Rape - Rape rate in different places of United States"
   ]
  },
  {
   "cell_type": "markdown",
   "id": "a4643bc1",
   "metadata": {},
   "source": [
    "# IMPORTING LIBRARIES"
   ]
  },
  {
   "cell_type": "code",
   "execution_count": 459,
   "id": "cc0bb38c",
   "metadata": {},
   "outputs": [],
   "source": [
    "import pandas as pd\n",
    "from sklearn.cluster import AgglomerativeClustering\n",
    "import numpy as np\n",
    "import seaborn as sn\n",
    "import matplotlib.pyplot as plt\n",
    "%matplotlib  inline\n",
    "import scipy \n",
    "from scipy.cluster import hierarchy as sch\n",
    "from sklearn.metrics import silhouette_score as sil\n",
    "import sklearn.cluster\n",
    "from sklearn.cluster import KMeans\n",
    "from sklearn.cluster import AgglomerativeClustering as agg\n",
    "from sklearn.cluster import DBSCAN as dbs\n",
    "from sklearn.preprocessing import MinMaxScaler\n",
    "from sklearn.preprocessing import StandardScaler\n"
   ]
  },
  {
   "cell_type": "markdown",
   "id": "0bd512a3",
   "metadata": {},
   "source": [
    "# IMPORTING CSV FILE"
   ]
  },
  {
   "cell_type": "code",
   "execution_count": 460,
   "id": "f85c353b",
   "metadata": {},
   "outputs": [
    {
     "name": "stdout",
     "output_type": "stream",
     "text": [
      " Volume in drive C is ssd\n",
      " Volume Serial Number is 344C-651C\n",
      "\n",
      " Directory of C:\\Users\\phoneclicker\\Downloads\\excelr_kd\\ASSIGNMENT\\cluster\n",
      "\n",
      "01/04/2023  10:38 AM    <DIR>          .\n",
      "01/04/2023  10:38 AM    <DIR>          ..\n",
      "01/03/2023  06:13 PM    <DIR>          .ipynb_checkpoints\n",
      "01/04/2023  10:38 AM           501,989 CLUSTER-7.ipynb\n",
      "11/29/2022  03:32 PM             1,328 crime_data.csv\n",
      "11/29/2022  03:32 PM           268,963 EastWestAirlines.xlsx\n",
      "11/29/2022  03:32 PM             1,560 Problem_Statement(Airlines).txt\n",
      "11/29/2022  03:32 PM               389 ProblemSatement(crime_data).txt\n",
      "               5 File(s)        774,229 bytes\n",
      "               3 Dir(s)  23,966,232,576 bytes free\n"
     ]
    }
   ],
   "source": [
    "ls\n"
   ]
  },
  {
   "cell_type": "code",
   "execution_count": 461,
   "id": "f16242fb",
   "metadata": {},
   "outputs": [],
   "source": [
    "crime=pd.read_csv(\"crime_data.csv\")"
   ]
  },
  {
   "cell_type": "code",
   "execution_count": 462,
   "id": "972f472b",
   "metadata": {},
   "outputs": [
    {
     "data": {
      "text/html": [
       "<div>\n",
       "<style scoped>\n",
       "    .dataframe tbody tr th:only-of-type {\n",
       "        vertical-align: middle;\n",
       "    }\n",
       "\n",
       "    .dataframe tbody tr th {\n",
       "        vertical-align: top;\n",
       "    }\n",
       "\n",
       "    .dataframe thead th {\n",
       "        text-align: right;\n",
       "    }\n",
       "</style>\n",
       "<table border=\"1\" class=\"dataframe\">\n",
       "  <thead>\n",
       "    <tr style=\"text-align: right;\">\n",
       "      <th></th>\n",
       "      <th>Unnamed: 0</th>\n",
       "      <th>Murder</th>\n",
       "      <th>Assault</th>\n",
       "      <th>UrbanPop</th>\n",
       "      <th>Rape</th>\n",
       "    </tr>\n",
       "  </thead>\n",
       "  <tbody>\n",
       "    <tr>\n",
       "      <th>0</th>\n",
       "      <td>Alabama</td>\n",
       "      <td>13.2</td>\n",
       "      <td>236</td>\n",
       "      <td>58</td>\n",
       "      <td>21.2</td>\n",
       "    </tr>\n",
       "    <tr>\n",
       "      <th>1</th>\n",
       "      <td>Alaska</td>\n",
       "      <td>10.0</td>\n",
       "      <td>263</td>\n",
       "      <td>48</td>\n",
       "      <td>44.5</td>\n",
       "    </tr>\n",
       "    <tr>\n",
       "      <th>2</th>\n",
       "      <td>Arizona</td>\n",
       "      <td>8.1</td>\n",
       "      <td>294</td>\n",
       "      <td>80</td>\n",
       "      <td>31.0</td>\n",
       "    </tr>\n",
       "    <tr>\n",
       "      <th>3</th>\n",
       "      <td>Arkansas</td>\n",
       "      <td>8.8</td>\n",
       "      <td>190</td>\n",
       "      <td>50</td>\n",
       "      <td>19.5</td>\n",
       "    </tr>\n",
       "    <tr>\n",
       "      <th>4</th>\n",
       "      <td>California</td>\n",
       "      <td>9.0</td>\n",
       "      <td>276</td>\n",
       "      <td>91</td>\n",
       "      <td>40.6</td>\n",
       "    </tr>\n",
       "  </tbody>\n",
       "</table>\n",
       "</div>"
      ],
      "text/plain": [
       "   Unnamed: 0  Murder  Assault  UrbanPop  Rape\n",
       "0     Alabama    13.2      236        58  21.2\n",
       "1      Alaska    10.0      263        48  44.5\n",
       "2     Arizona     8.1      294        80  31.0\n",
       "3    Arkansas     8.8      190        50  19.5\n",
       "4  California     9.0      276        91  40.6"
      ]
     },
     "execution_count": 462,
     "metadata": {},
     "output_type": "execute_result"
    }
   ],
   "source": [
    "crime.head()"
   ]
  },
  {
   "cell_type": "markdown",
   "id": "d1a7317c",
   "metadata": {},
   "source": [
    "# EDA"
   ]
  },
  {
   "cell_type": "code",
   "execution_count": 463,
   "id": "07a3ca9d",
   "metadata": {},
   "outputs": [
    {
     "data": {
      "text/html": [
       "<div>\n",
       "<style scoped>\n",
       "    .dataframe tbody tr th:only-of-type {\n",
       "        vertical-align: middle;\n",
       "    }\n",
       "\n",
       "    .dataframe tbody tr th {\n",
       "        vertical-align: top;\n",
       "    }\n",
       "\n",
       "    .dataframe thead th {\n",
       "        text-align: right;\n",
       "    }\n",
       "</style>\n",
       "<table border=\"1\" class=\"dataframe\">\n",
       "  <thead>\n",
       "    <tr style=\"text-align: right;\">\n",
       "      <th></th>\n",
       "      <th>Unnamed: 0</th>\n",
       "      <th>Murder</th>\n",
       "      <th>Assault</th>\n",
       "      <th>UrbanPop</th>\n",
       "      <th>Rape</th>\n",
       "    </tr>\n",
       "  </thead>\n",
       "  <tbody>\n",
       "    <tr>\n",
       "      <th>0</th>\n",
       "      <td>Alabama</td>\n",
       "      <td>13.2</td>\n",
       "      <td>236</td>\n",
       "      <td>58</td>\n",
       "      <td>21.2</td>\n",
       "    </tr>\n",
       "    <tr>\n",
       "      <th>1</th>\n",
       "      <td>Alaska</td>\n",
       "      <td>10.0</td>\n",
       "      <td>263</td>\n",
       "      <td>48</td>\n",
       "      <td>44.5</td>\n",
       "    </tr>\n",
       "    <tr>\n",
       "      <th>2</th>\n",
       "      <td>Arizona</td>\n",
       "      <td>8.1</td>\n",
       "      <td>294</td>\n",
       "      <td>80</td>\n",
       "      <td>31.0</td>\n",
       "    </tr>\n",
       "    <tr>\n",
       "      <th>3</th>\n",
       "      <td>Arkansas</td>\n",
       "      <td>8.8</td>\n",
       "      <td>190</td>\n",
       "      <td>50</td>\n",
       "      <td>19.5</td>\n",
       "    </tr>\n",
       "    <tr>\n",
       "      <th>4</th>\n",
       "      <td>California</td>\n",
       "      <td>9.0</td>\n",
       "      <td>276</td>\n",
       "      <td>91</td>\n",
       "      <td>40.6</td>\n",
       "    </tr>\n",
       "  </tbody>\n",
       "</table>\n",
       "</div>"
      ],
      "text/plain": [
       "   Unnamed: 0  Murder  Assault  UrbanPop  Rape\n",
       "0     Alabama    13.2      236        58  21.2\n",
       "1      Alaska    10.0      263        48  44.5\n",
       "2     Arizona     8.1      294        80  31.0\n",
       "3    Arkansas     8.8      190        50  19.5\n",
       "4  California     9.0      276        91  40.6"
      ]
     },
     "execution_count": 463,
     "metadata": {},
     "output_type": "execute_result"
    }
   ],
   "source": [
    "crime.head()"
   ]
  },
  {
   "cell_type": "code",
   "execution_count": 464,
   "id": "f3113dd1",
   "metadata": {},
   "outputs": [
    {
     "data": {
      "text/plain": [
       "<bound method DataFrame.info of    Unnamed: 0  Murder  Assault  UrbanPop  Rape\n",
       "0     Alabama    13.2      236        58  21.2\n",
       "1      Alaska    10.0      263        48  44.5\n",
       "2     Arizona     8.1      294        80  31.0\n",
       "3    Arkansas     8.8      190        50  19.5\n",
       "4  California     9.0      276        91  40.6>"
      ]
     },
     "execution_count": 464,
     "metadata": {},
     "output_type": "execute_result"
    }
   ],
   "source": [
    "crime.head().info"
   ]
  },
  {
   "cell_type": "code",
   "execution_count": 465,
   "id": "b1809645",
   "metadata": {},
   "outputs": [
    {
     "data": {
      "text/html": [
       "<div>\n",
       "<style scoped>\n",
       "    .dataframe tbody tr th:only-of-type {\n",
       "        vertical-align: middle;\n",
       "    }\n",
       "\n",
       "    .dataframe tbody tr th {\n",
       "        vertical-align: top;\n",
       "    }\n",
       "\n",
       "    .dataframe thead th {\n",
       "        text-align: right;\n",
       "    }\n",
       "</style>\n",
       "<table border=\"1\" class=\"dataframe\">\n",
       "  <thead>\n",
       "    <tr style=\"text-align: right;\">\n",
       "      <th></th>\n",
       "      <th>Murder</th>\n",
       "      <th>Assault</th>\n",
       "      <th>UrbanPop</th>\n",
       "      <th>Rape</th>\n",
       "    </tr>\n",
       "  </thead>\n",
       "  <tbody>\n",
       "    <tr>\n",
       "      <th>count</th>\n",
       "      <td>50.00000</td>\n",
       "      <td>50.000000</td>\n",
       "      <td>50.000000</td>\n",
       "      <td>50.000000</td>\n",
       "    </tr>\n",
       "    <tr>\n",
       "      <th>mean</th>\n",
       "      <td>7.78800</td>\n",
       "      <td>170.760000</td>\n",
       "      <td>65.540000</td>\n",
       "      <td>21.232000</td>\n",
       "    </tr>\n",
       "    <tr>\n",
       "      <th>std</th>\n",
       "      <td>4.35551</td>\n",
       "      <td>83.337661</td>\n",
       "      <td>14.474763</td>\n",
       "      <td>9.366385</td>\n",
       "    </tr>\n",
       "    <tr>\n",
       "      <th>min</th>\n",
       "      <td>0.80000</td>\n",
       "      <td>45.000000</td>\n",
       "      <td>32.000000</td>\n",
       "      <td>7.300000</td>\n",
       "    </tr>\n",
       "    <tr>\n",
       "      <th>25%</th>\n",
       "      <td>4.07500</td>\n",
       "      <td>109.000000</td>\n",
       "      <td>54.500000</td>\n",
       "      <td>15.075000</td>\n",
       "    </tr>\n",
       "    <tr>\n",
       "      <th>50%</th>\n",
       "      <td>7.25000</td>\n",
       "      <td>159.000000</td>\n",
       "      <td>66.000000</td>\n",
       "      <td>20.100000</td>\n",
       "    </tr>\n",
       "    <tr>\n",
       "      <th>75%</th>\n",
       "      <td>11.25000</td>\n",
       "      <td>249.000000</td>\n",
       "      <td>77.750000</td>\n",
       "      <td>26.175000</td>\n",
       "    </tr>\n",
       "    <tr>\n",
       "      <th>max</th>\n",
       "      <td>17.40000</td>\n",
       "      <td>337.000000</td>\n",
       "      <td>91.000000</td>\n",
       "      <td>46.000000</td>\n",
       "    </tr>\n",
       "  </tbody>\n",
       "</table>\n",
       "</div>"
      ],
      "text/plain": [
       "         Murder     Assault   UrbanPop       Rape\n",
       "count  50.00000   50.000000  50.000000  50.000000\n",
       "mean    7.78800  170.760000  65.540000  21.232000\n",
       "std     4.35551   83.337661  14.474763   9.366385\n",
       "min     0.80000   45.000000  32.000000   7.300000\n",
       "25%     4.07500  109.000000  54.500000  15.075000\n",
       "50%     7.25000  159.000000  66.000000  20.100000\n",
       "75%    11.25000  249.000000  77.750000  26.175000\n",
       "max    17.40000  337.000000  91.000000  46.000000"
      ]
     },
     "execution_count": 465,
     "metadata": {},
     "output_type": "execute_result"
    }
   ],
   "source": [
    "crime.describe()"
   ]
  },
  {
   "cell_type": "code",
   "execution_count": 525,
   "id": "cb358f5b",
   "metadata": {},
   "outputs": [
    {
     "data": {
      "text/plain": [
       "<matplotlib.collections.PathCollection at 0x10b06320c40>"
      ]
     },
     "execution_count": 525,
     "metadata": {},
     "output_type": "execute_result"
    },
    {
     "data": {
      "image/png": "[encoded data removed]",
      "text/plain": [
       "<Figure size 432x288 with 1 Axes>"
      ]
     },
     "metadata": {
      "needs_background": "light"
     },
     "output_type": "display_data"
    }
   ],
   "source": [
    "plt.scatter(crime[\"Murder\"],crime[\"Assault\"],crime[\"UrbanPop\"],crime[\"Rape\"],cmap=plt.cm.Accent)"
   ]
  },
  {
   "cell_type": "code",
   "execution_count": 466,
   "id": "77a5bc09",
   "metadata": {},
   "outputs": [
    {
     "data": {
      "text/plain": [
       "0"
      ]
     },
     "execution_count": 466,
     "metadata": {},
     "output_type": "execute_result"
    }
   ],
   "source": [
    "crime.duplicated().sum()"
   ]
  },
  {
   "cell_type": "code",
   "execution_count": 467,
   "id": "d5dd0a66",
   "metadata": {},
   "outputs": [
    {
     "data": {
      "text/plain": [
       "Unnamed: 0    0\n",
       "Murder        0\n",
       "Assault       0\n",
       "UrbanPop      0\n",
       "Rape          0\n",
       "dtype: int64"
      ]
     },
     "execution_count": 467,
     "metadata": {},
     "output_type": "execute_result"
    }
   ],
   "source": [
    "crime.isnull().sum()"
   ]
  },
  {
   "cell_type": "markdown",
   "id": "a2830afe",
   "metadata": {},
   "source": [
    "# FEATURE ENGINEERING"
   ]
  },
  {
   "cell_type": "code",
   "execution_count": 468,
   "id": "502319f2",
   "metadata": {},
   "outputs": [],
   "source": [
    "crime1=crime.iloc[:,1:]"
   ]
  },
  {
   "cell_type": "code",
   "execution_count": 469,
   "id": "7cf15e7e",
   "metadata": {},
   "outputs": [
    {
     "data": {
      "text/html": [
       "<div>\n",
       "<style scoped>\n",
       "    .dataframe tbody tr th:only-of-type {\n",
       "        vertical-align: middle;\n",
       "    }\n",
       "\n",
       "    .dataframe tbody tr th {\n",
       "        vertical-align: top;\n",
       "    }\n",
       "\n",
       "    .dataframe thead th {\n",
       "        text-align: right;\n",
       "    }\n",
       "</style>\n",
       "<table border=\"1\" class=\"dataframe\">\n",
       "  <thead>\n",
       "    <tr style=\"text-align: right;\">\n",
       "      <th></th>\n",
       "      <th>Murder</th>\n",
       "      <th>Assault</th>\n",
       "      <th>UrbanPop</th>\n",
       "      <th>Rape</th>\n",
       "    </tr>\n",
       "  </thead>\n",
       "  <tbody>\n",
       "    <tr>\n",
       "      <th>0</th>\n",
       "      <td>13.2</td>\n",
       "      <td>236</td>\n",
       "      <td>58</td>\n",
       "      <td>21.2</td>\n",
       "    </tr>\n",
       "    <tr>\n",
       "      <th>1</th>\n",
       "      <td>10.0</td>\n",
       "      <td>263</td>\n",
       "      <td>48</td>\n",
       "      <td>44.5</td>\n",
       "    </tr>\n",
       "    <tr>\n",
       "      <th>2</th>\n",
       "      <td>8.1</td>\n",
       "      <td>294</td>\n",
       "      <td>80</td>\n",
       "      <td>31.0</td>\n",
       "    </tr>\n",
       "    <tr>\n",
       "      <th>3</th>\n",
       "      <td>8.8</td>\n",
       "      <td>190</td>\n",
       "      <td>50</td>\n",
       "      <td>19.5</td>\n",
       "    </tr>\n",
       "    <tr>\n",
       "      <th>4</th>\n",
       "      <td>9.0</td>\n",
       "      <td>276</td>\n",
       "      <td>91</td>\n",
       "      <td>40.6</td>\n",
       "    </tr>\n",
       "  </tbody>\n",
       "</table>\n",
       "</div>"
      ],
      "text/plain": [
       "   Murder  Assault  UrbanPop  Rape\n",
       "0    13.2      236        58  21.2\n",
       "1    10.0      263        48  44.5\n",
       "2     8.1      294        80  31.0\n",
       "3     8.8      190        50  19.5\n",
       "4     9.0      276        91  40.6"
      ]
     },
     "execution_count": 469,
     "metadata": {},
     "output_type": "execute_result"
    }
   ],
   "source": [
    "crime1.head()"
   ]
  },
  {
   "cell_type": "markdown",
   "id": "ff51740a",
   "metadata": {},
   "source": [
    "# NORMALIZING DATA"
   ]
  },
  {
   "cell_type": "code",
   "execution_count": 470,
   "id": "eab93c13",
   "metadata": {},
   "outputs": [
    {
     "data": {
      "text/html": [
       "<div>\n",
       "<style scoped>\n",
       "    .dataframe tbody tr th:only-of-type {\n",
       "        vertical-align: middle;\n",
       "    }\n",
       "\n",
       "    .dataframe tbody tr th {\n",
       "        vertical-align: top;\n",
       "    }\n",
       "\n",
       "    .dataframe thead th {\n",
       "        text-align: right;\n",
       "    }\n",
       "</style>\n",
       "<table border=\"1\" class=\"dataframe\">\n",
       "  <thead>\n",
       "    <tr style=\"text-align: right;\">\n",
       "      <th></th>\n",
       "      <th>Murder</th>\n",
       "      <th>Assault</th>\n",
       "      <th>UrbanPop</th>\n",
       "      <th>Rape</th>\n",
       "    </tr>\n",
       "  </thead>\n",
       "  <tbody>\n",
       "    <tr>\n",
       "      <th>0</th>\n",
       "      <td>0.054031</td>\n",
       "      <td>0.966016</td>\n",
       "      <td>0.237411</td>\n",
       "      <td>0.086778</td>\n",
       "    </tr>\n",
       "    <tr>\n",
       "      <th>1</th>\n",
       "      <td>0.036872</td>\n",
       "      <td>0.969739</td>\n",
       "      <td>0.176987</td>\n",
       "      <td>0.164081</td>\n",
       "    </tr>\n",
       "    <tr>\n",
       "      <th>2</th>\n",
       "      <td>0.026439</td>\n",
       "      <td>0.959624</td>\n",
       "      <td>0.261122</td>\n",
       "      <td>0.101185</td>\n",
       "    </tr>\n",
       "    <tr>\n",
       "      <th>3</th>\n",
       "      <td>0.044528</td>\n",
       "      <td>0.961392</td>\n",
       "      <td>0.252998</td>\n",
       "      <td>0.098669</td>\n",
       "    </tr>\n",
       "    <tr>\n",
       "      <th>4</th>\n",
       "      <td>0.030657</td>\n",
       "      <td>0.940134</td>\n",
       "      <td>0.309972</td>\n",
       "      <td>0.138295</td>\n",
       "    </tr>\n",
       "  </tbody>\n",
       "</table>\n",
       "</div>"
      ],
      "text/plain": [
       "     Murder   Assault  UrbanPop      Rape\n",
       "0  0.054031  0.966016  0.237411  0.086778\n",
       "1  0.036872  0.969739  0.176987  0.164081\n",
       "2  0.026439  0.959624  0.261122  0.101185\n",
       "3  0.044528  0.961392  0.252998  0.098669\n",
       "4  0.030657  0.940134  0.309972  0.138295"
      ]
     },
     "execution_count": 470,
     "metadata": {},
     "output_type": "execute_result"
    }
   ],
   "source": [
    "from sklearn.preprocessing import normalize\n",
    "crime_norm=pd.DataFrame(normalize(crime1),columns=crime1.columns)\n",
    "crime_norm.head()\n",
    "\n"
   ]
  },
  {
   "cell_type": "code",
   "execution_count": 471,
   "id": "7e9960a1",
   "metadata": {},
   "outputs": [
    {
     "data": {
      "text/html": [
       "<div>\n",
       "<style scoped>\n",
       "    .dataframe tbody tr th:only-of-type {\n",
       "        vertical-align: middle;\n",
       "    }\n",
       "\n",
       "    .dataframe tbody tr th {\n",
       "        vertical-align: top;\n",
       "    }\n",
       "\n",
       "    .dataframe thead th {\n",
       "        text-align: right;\n",
       "    }\n",
       "</style>\n",
       "<table border=\"1\" class=\"dataframe\">\n",
       "  <thead>\n",
       "    <tr style=\"text-align: right;\">\n",
       "      <th></th>\n",
       "      <th>Murder</th>\n",
       "      <th>Assault</th>\n",
       "      <th>UrbanPop</th>\n",
       "      <th>Rape</th>\n",
       "    </tr>\n",
       "  </thead>\n",
       "  <tbody>\n",
       "    <tr>\n",
       "      <th>0</th>\n",
       "      <td>0.054031</td>\n",
       "      <td>0.966016</td>\n",
       "      <td>0.237411</td>\n",
       "      <td>0.086778</td>\n",
       "    </tr>\n",
       "    <tr>\n",
       "      <th>1</th>\n",
       "      <td>0.036872</td>\n",
       "      <td>0.969739</td>\n",
       "      <td>0.176987</td>\n",
       "      <td>0.164081</td>\n",
       "    </tr>\n",
       "    <tr>\n",
       "      <th>2</th>\n",
       "      <td>0.026439</td>\n",
       "      <td>0.959624</td>\n",
       "      <td>0.261122</td>\n",
       "      <td>0.101185</td>\n",
       "    </tr>\n",
       "    <tr>\n",
       "      <th>3</th>\n",
       "      <td>0.044528</td>\n",
       "      <td>0.961392</td>\n",
       "      <td>0.252998</td>\n",
       "      <td>0.098669</td>\n",
       "    </tr>\n",
       "    <tr>\n",
       "      <th>4</th>\n",
       "      <td>0.030657</td>\n",
       "      <td>0.940134</td>\n",
       "      <td>0.309972</td>\n",
       "      <td>0.138295</td>\n",
       "    </tr>\n",
       "  </tbody>\n",
       "</table>\n",
       "</div>"
      ],
      "text/plain": [
       "     Murder   Assault  UrbanPop      Rape\n",
       "0  0.054031  0.966016  0.237411  0.086778\n",
       "1  0.036872  0.969739  0.176987  0.164081\n",
       "2  0.026439  0.959624  0.261122  0.101185\n",
       "3  0.044528  0.961392  0.252998  0.098669\n",
       "4  0.030657  0.940134  0.309972  0.138295"
      ]
     },
     "execution_count": 471,
     "metadata": {},
     "output_type": "execute_result"
    }
   ],
   "source": [
    "crime_norm.head()"
   ]
  },
  {
   "cell_type": "code",
   "execution_count": 472,
   "id": "76414815",
   "metadata": {},
   "outputs": [
    {
     "data": {
      "text/plain": [
       "(50, 4)"
      ]
     },
     "execution_count": 472,
     "metadata": {},
     "output_type": "execute_result"
    }
   ],
   "source": [
    "crime_norm.shape"
   ]
  },
  {
   "cell_type": "markdown",
   "id": "128fb789",
   "metadata": {},
   "source": [
    "# Visualization"
   ]
  },
  {
   "cell_type": "code",
   "execution_count": 473,
   "id": "09f5e76d",
   "metadata": {},
   "outputs": [
    {
     "data": {
      "text/plain": [
       "<seaborn.axisgrid.PairGrid at 0x10b6dca82b0>"
      ]
     },
     "execution_count": 473,
     "metadata": {},
     "output_type": "execute_result"
    },
    {
     "data": {
      "image/png": "[encoded data removed]",
      "text/plain": [
       "<Figure size 720x720 with 20 Axes>"
      ]
     },
     "metadata": {
      "needs_background": "light"
     },
     "output_type": "display_data"
    }
   ],
   "source": [
    "sn.pairplot(crime)"
   ]
  },
  {
   "cell_type": "code",
   "execution_count": 474,
   "id": "4737e99c",
   "metadata": {},
   "outputs": [
    {
     "data": {
      "text/plain": [
       "<seaborn.axisgrid.PairGrid at 0x10b64b424c0>"
      ]
     },
     "execution_count": 474,
     "metadata": {},
     "output_type": "execute_result"
    },
    {
     "data": {
      "image/png": "[encoded data removed]",
      "text/plain": [
       "<Figure size 720x720 with 20 Axes>"
      ]
     },
     "metadata": {
      "needs_background": "light"
     },
     "output_type": "display_data"
    }
   ],
   "source": [
    "sn.pairplot(crime_norm)"
   ]
  },
  {
   "cell_type": "markdown",
   "id": "de23392a",
   "metadata": {},
   "source": [
    "#  1.Hierarchical Clustering"
   ]
  },
  {
   "cell_type": "markdown",
   "id": "01ad38f5",
   "metadata": {},
   "source": [
    "# Create dendrogram of normalization data for all methods\n"
   ]
  },
  {
   "cell_type": "code",
   "execution_count": 475,
   "id": "91bc75b3",
   "metadata": {},
   "outputs": [
    {
     "data": {
      "image/png": "[encoded data removed]",
      "text/plain": [
       "<Figure size 1440x432 with 1 Axes>"
      ]
     },
     "metadata": {
      "needs_background": "light"
     },
     "output_type": "display_data"
    },
    {
     "data": {
      "image/png": "[encoded data removed]",
      "text/plain": [
       "<Figure size 1440x432 with 1 Axes>"
      ]
     },
     "metadata": {
      "needs_background": "light"
     },
     "output_type": "display_data"
    },
    {
     "data": {
      "image/png": "[encoded data removed]",
      "text/plain": [
       "<Figure size 1440x432 with 1 Axes>"
      ]
     },
     "metadata": {
      "needs_background": "light"
     },
     "output_type": "display_data"
    }
   ],
   "source": [
    "for methods in ['single','complete','average']: \n",
    "     plt.figure(figsize =(20, 6))\n",
    "     plt.title('Visualising the data, Method- {}'.format(methods)) \n",
    "     Dendrogram = sch.dendrogram(sch.linkage(crime_norm, method = methods,optimal_ordering=False))"
   ]
  },
  {
   "cell_type": "code",
   "execution_count": 476,
   "id": "508d4756",
   "metadata": {},
   "outputs": [
    {
     "name": "stdout",
     "output_type": "stream",
     "text": [
      "Clusters = 2, linkage = single, Sc score = 0.5941710401826306\n",
      "Clusters = 2, linkage = average, Sc score = 0.6037116221173207\n",
      "Clusters = 2, linkage = complete, Sc score = 0.6037116221173207\n",
      "\n",
      "Clusters = 3, linkage = single, Sc score = 0.5431936191625951\n",
      "Clusters = 3, linkage = average, Sc score = 0.5431936191625951\n",
      "Clusters = 3, linkage = complete, Sc score = 0.4086143225005802\n",
      "\n",
      "Clusters = 4, linkage = single, Sc score = 0.4966896266306985\n",
      "Clusters = 4, linkage = average, Sc score = 0.5191395036557489\n",
      "Clusters = 4, linkage = complete, Sc score = 0.4120453539053912\n",
      "\n",
      "Clusters = 5, linkage = single, Sc score = 0.09816536549640326\n",
      "Clusters = 5, linkage = average, Sc score = 0.4635175688797507\n",
      "Clusters = 5, linkage = complete, Sc score = 0.4115211805628645\n",
      "\n",
      "Clusters = 6, linkage = single, Sc score = -0.1557461215334895\n",
      "Clusters = 6, linkage = average, Sc score = 0.431603196741559\n",
      "Clusters = 6, linkage = complete, Sc score = 0.3892142583931346\n",
      "\n",
      "Clusters = 7, linkage = single, Sc score = -0.05980088647252019\n",
      "Clusters = 7, linkage = average, Sc score = 0.42055135530668136\n",
      "Clusters = 7, linkage = complete, Sc score = 0.3485941614129221\n",
      "\n",
      "Clusters = 8, linkage = single, Sc score = -0.046005582415048304\n",
      "Clusters = 8, linkage = average, Sc score = 0.3881557495906259\n",
      "Clusters = 8, linkage = complete, Sc score = 0.3400500850222887\n",
      "\n",
      "Clusters = 9, linkage = single, Sc score = -0.07190466427334657\n",
      "Clusters = 9, linkage = average, Sc score = 0.38280170690362963\n",
      "Clusters = 9, linkage = complete, Sc score = 0.3484707394150492\n",
      "\n"
     ]
    }
   ],
   "source": [
    "nc=[2,3,4,5,6,7,8,9]\n",
    "\n",
    "for i in nc:\n",
    "    for linkages in ['single','average','complete']:\n",
    "        hc = AgglomerativeClustering(n_clusters=i,affinity = 'euclidean',linkage = linkages)\n",
    "        y = hc.fit_predict(crime_norm)\n",
    "        sc=sil(crime_norm,y)\n",
    "        print('Clusters = {}, linkage = {}, Sc score = {}'.format(i,linkages,sc))\n",
    "    print()"
   ]
  },
  {
   "cell_type": "markdown",
   "id": "896affc0",
   "metadata": {},
   "source": [
    "# Conclusion"
   ]
  },
  {
   "cell_type": "code",
   "execution_count": 477,
   "id": "4e184a55",
   "metadata": {},
   "outputs": [],
   "source": [
    "first_model = AgglomerativeClustering(n_clusters=4, affinity = 'euclidean', linkage = 'average')\n",
    "y=first_model.fit_predict(crime_norm)"
   ]
  },
  {
   "cell_type": "code",
   "execution_count": 478,
   "id": "f2553002",
   "metadata": {},
   "outputs": [],
   "source": [
    "crime['cluster id']=y"
   ]
  },
  {
   "cell_type": "code",
   "execution_count": 479,
   "id": "ff987bcf",
   "metadata": {},
   "outputs": [
    {
     "data": {
      "text/html": [
       "<div>\n",
       "<style scoped>\n",
       "    .dataframe tbody tr th:only-of-type {\n",
       "        vertical-align: middle;\n",
       "    }\n",
       "\n",
       "    .dataframe tbody tr th {\n",
       "        vertical-align: top;\n",
       "    }\n",
       "\n",
       "    .dataframe thead th {\n",
       "        text-align: right;\n",
       "    }\n",
       "</style>\n",
       "<table border=\"1\" class=\"dataframe\">\n",
       "  <thead>\n",
       "    <tr style=\"text-align: right;\">\n",
       "      <th></th>\n",
       "      <th>Unnamed: 0</th>\n",
       "      <th>Murder</th>\n",
       "      <th>Assault</th>\n",
       "      <th>UrbanPop</th>\n",
       "      <th>Rape</th>\n",
       "      <th>cluster id</th>\n",
       "    </tr>\n",
       "  </thead>\n",
       "  <tbody>\n",
       "    <tr>\n",
       "      <th>0</th>\n",
       "      <td>Alabama</td>\n",
       "      <td>13.2</td>\n",
       "      <td>236</td>\n",
       "      <td>58</td>\n",
       "      <td>21.2</td>\n",
       "      <td>1</td>\n",
       "    </tr>\n",
       "    <tr>\n",
       "      <th>1</th>\n",
       "      <td>Alaska</td>\n",
       "      <td>10.0</td>\n",
       "      <td>263</td>\n",
       "      <td>48</td>\n",
       "      <td>44.5</td>\n",
       "      <td>1</td>\n",
       "    </tr>\n",
       "    <tr>\n",
       "      <th>2</th>\n",
       "      <td>Arizona</td>\n",
       "      <td>8.1</td>\n",
       "      <td>294</td>\n",
       "      <td>80</td>\n",
       "      <td>31.0</td>\n",
       "      <td>1</td>\n",
       "    </tr>\n",
       "    <tr>\n",
       "      <th>3</th>\n",
       "      <td>Arkansas</td>\n",
       "      <td>8.8</td>\n",
       "      <td>190</td>\n",
       "      <td>50</td>\n",
       "      <td>19.5</td>\n",
       "      <td>1</td>\n",
       "    </tr>\n",
       "    <tr>\n",
       "      <th>4</th>\n",
       "      <td>California</td>\n",
       "      <td>9.0</td>\n",
       "      <td>276</td>\n",
       "      <td>91</td>\n",
       "      <td>40.6</td>\n",
       "      <td>1</td>\n",
       "    </tr>\n",
       "  </tbody>\n",
       "</table>\n",
       "</div>"
      ],
      "text/plain": [
       "   Unnamed: 0  Murder  Assault  UrbanPop  Rape  cluster id\n",
       "0     Alabama    13.2      236        58  21.2           1\n",
       "1      Alaska    10.0      263        48  44.5           1\n",
       "2     Arizona     8.1      294        80  31.0           1\n",
       "3    Arkansas     8.8      190        50  19.5           1\n",
       "4  California     9.0      276        91  40.6           1"
      ]
     },
     "execution_count": 479,
     "metadata": {},
     "output_type": "execute_result"
    }
   ],
   "source": [
    "crime.head()"
   ]
  },
  {
   "cell_type": "code",
   "execution_count": 480,
   "id": "201045b5",
   "metadata": {},
   "outputs": [
    {
     "data": {
      "text/plain": [
       "cluster id\n",
       "0    (Colorado, Connecticut, Idaho, Indiana, Kansas...\n",
       "1    (Alabama, Alaska, Arizona, Arkansas, Californi...\n",
       "2                                            (Hawaii,)\n",
       "3    (Iowa, Minnesota, New Hampshire, North Dakota,...\n",
       "Name: Unnamed: 0, dtype: object"
      ]
     },
     "execution_count": 480,
     "metadata": {},
     "output_type": "execute_result"
    }
   ],
   "source": [
    "crime.groupby([\"cluster id\"])[\"Unnamed: 0\"].apply(lambda x:tuple(x))\n"
   ]
  },
  {
   "cell_type": "code",
   "execution_count": 481,
   "id": "7a78f37d",
   "metadata": {},
   "outputs": [
    {
     "data": {
      "text/plain": [
       "array([1, 1, 1, 1, 1, 0, 0, 1, 1, 1, 2, 0, 1, 0, 3, 0, 0, 1, 0, 1, 0, 1,\n",
       "       3, 1, 0, 0, 0, 1, 3, 0, 1, 1, 1, 3, 0, 0, 0, 0, 0, 1, 0, 1, 0, 0,\n",
       "       0, 0, 0, 0, 3, 1], dtype=int64)"
      ]
     },
     "execution_count": 481,
     "metadata": {},
     "output_type": "execute_result"
    }
   ],
   "source": [
    "first_model.labels_"
   ]
  },
  {
   "cell_type": "code",
   "execution_count": 482,
   "id": "5c2490c3",
   "metadata": {},
   "outputs": [
    {
     "data": {
      "image/png": "[encoded data removed]",
      "text/plain": [
       "<Figure size 432x288 with 1 Axes>"
      ]
     },
     "metadata": {
      "needs_background": "light"
     },
     "output_type": "display_data"
    }
   ],
   "source": [
    "plt.scatter(crime['cluster id'],crime['UrbanPop'],c=first_model.labels_)\n",
    "plt.xlabel('Cluster')\n",
    "plt.ylabel('Urban Population')\n",
    "plt.show()"
   ]
  },
  {
   "cell_type": "code",
   "execution_count": 483,
   "id": "bbb22116",
   "metadata": {},
   "outputs": [
    {
     "data": {
      "image/png": "[encoded data removed]",
      "text/plain": [
       "<Figure size 432x288 with 1 Axes>"
      ]
     },
     "metadata": {
      "needs_background": "light"
     },
     "output_type": "display_data"
    }
   ],
   "source": [
    "plt.scatter(crime['cluster id'],crime['Murder'],c=first_model.labels_)\n",
    "plt.xlabel('Cluster')\n",
    "plt.ylabel('Murder ')\n",
    "plt.show()"
   ]
  },
  {
   "cell_type": "code",
   "execution_count": 484,
   "id": "00fecc35",
   "metadata": {},
   "outputs": [
    {
     "data": {
      "image/png": "[encoded data removed]",
      "text/plain": [
       "<Figure size 432x288 with 1 Axes>"
      ]
     },
     "metadata": {
      "needs_background": "light"
     },
     "output_type": "display_data"
    }
   ],
   "source": [
    "plt.scatter(crime['cluster id'],crime['Assault'],c=first_model.labels_)\n",
    "plt.xlabel('Cluster')\n",
    "plt.ylabel('Assault')\n",
    "plt.show()"
   ]
  },
  {
   "cell_type": "code",
   "execution_count": 485,
   "id": "b91b7f41",
   "metadata": {},
   "outputs": [
    {
     "data": {
      "image/png": "[encoded data removed]",
      "text/plain": [
       "<Figure size 432x288 with 1 Axes>"
      ]
     },
     "metadata": {
      "needs_background": "light"
     },
     "output_type": "display_data"
    }
   ],
   "source": [
    "plt.scatter(crime['cluster id'],crime['Rape'],c=first_model.labels_)\n",
    "plt.xlabel('Cluster')\n",
    "plt.ylabel('Rape')\n",
    "plt.show()"
   ]
  },
  {
   "cell_type": "markdown",
   "id": "ef0948ca",
   "metadata": {},
   "source": [
    "# 2.K-Means"
   ]
  },
  {
   "cell_type": "code",
   "execution_count": 486,
   "id": "857cace6",
   "metadata": {},
   "outputs": [
    {
     "name": "stderr",
     "output_type": "stream",
     "text": [
      "C:\\Users\\phoneclicker\\anaconda3\\lib\\site-packages\\sklearn\\cluster\\_kmeans.py:1334: UserWarning: KMeans is known to have a memory leak on Windows with MKL, when there are less chunks than available threads. You can avoid it by setting the environment variable OMP_NUM_THREADS=1.\n",
      "  warnings.warn(\n",
      "C:\\Users\\phoneclicker\\anaconda3\\lib\\site-packages\\sklearn\\cluster\\_kmeans.py:1334: UserWarning: KMeans is known to have a memory leak on Windows with MKL, when there are less chunks than available threads. You can avoid it by setting the environment variable OMP_NUM_THREADS=1.\n",
      "  warnings.warn(\n",
      "C:\\Users\\phoneclicker\\anaconda3\\lib\\site-packages\\sklearn\\cluster\\_kmeans.py:1334: UserWarning: KMeans is known to have a memory leak on Windows with MKL, when there are less chunks than available threads. You can avoid it by setting the environment variable OMP_NUM_THREADS=1.\n",
      "  warnings.warn(\n",
      "C:\\Users\\phoneclicker\\anaconda3\\lib\\site-packages\\sklearn\\cluster\\_kmeans.py:1334: UserWarning: KMeans is known to have a memory leak on Windows with MKL, when there are less chunks than available threads. You can avoid it by setting the environment variable OMP_NUM_THREADS=1.\n",
      "  warnings.warn(\n",
      "C:\\Users\\phoneclicker\\anaconda3\\lib\\site-packages\\sklearn\\cluster\\_kmeans.py:1334: UserWarning: KMeans is known to have a memory leak on Windows with MKL, when there are less chunks than available threads. You can avoid it by setting the environment variable OMP_NUM_THREADS=1.\n",
      "  warnings.warn(\n",
      "C:\\Users\\phoneclicker\\anaconda3\\lib\\site-packages\\sklearn\\cluster\\_kmeans.py:1334: UserWarning: KMeans is known to have a memory leak on Windows with MKL, when there are less chunks than available threads. You can avoid it by setting the environment variable OMP_NUM_THREADS=1.\n",
      "  warnings.warn(\n",
      "C:\\Users\\phoneclicker\\anaconda3\\lib\\site-packages\\sklearn\\cluster\\_kmeans.py:1334: UserWarning: KMeans is known to have a memory leak on Windows with MKL, when there are less chunks than available threads. You can avoid it by setting the environment variable OMP_NUM_THREADS=1.\n",
      "  warnings.warn(\n",
      "C:\\Users\\phoneclicker\\anaconda3\\lib\\site-packages\\sklearn\\cluster\\_kmeans.py:1334: UserWarning: KMeans is known to have a memory leak on Windows with MKL, when there are less chunks than available threads. You can avoid it by setting the environment variable OMP_NUM_THREADS=1.\n",
      "  warnings.warn(\n",
      "C:\\Users\\phoneclicker\\anaconda3\\lib\\site-packages\\sklearn\\cluster\\_kmeans.py:1334: UserWarning: KMeans is known to have a memory leak on Windows with MKL, when there are less chunks than available threads. You can avoid it by setting the environment variable OMP_NUM_THREADS=1.\n",
      "  warnings.warn(\n",
      "C:\\Users\\phoneclicker\\anaconda3\\lib\\site-packages\\sklearn\\cluster\\_kmeans.py:1334: UserWarning: KMeans is known to have a memory leak on Windows with MKL, when there are less chunks than available threads. You can avoid it by setting the environment variable OMP_NUM_THREADS=1.\n",
      "  warnings.warn(\n",
      "C:\\Users\\phoneclicker\\anaconda3\\lib\\site-packages\\sklearn\\cluster\\_kmeans.py:1334: UserWarning: KMeans is known to have a memory leak on Windows with MKL, when there are less chunks than available threads. You can avoid it by setting the environment variable OMP_NUM_THREADS=1.\n",
      "  warnings.warn(\n",
      "C:\\Users\\phoneclicker\\anaconda3\\lib\\site-packages\\sklearn\\cluster\\_kmeans.py:1334: UserWarning: KMeans is known to have a memory leak on Windows with MKL, when there are less chunks than available threads. You can avoid it by setting the environment variable OMP_NUM_THREADS=1.\n",
      "  warnings.warn(\n",
      "C:\\Users\\phoneclicker\\anaconda3\\lib\\site-packages\\sklearn\\cluster\\_kmeans.py:1334: UserWarning: KMeans is known to have a memory leak on Windows with MKL, when there are less chunks than available threads. You can avoid it by setting the environment variable OMP_NUM_THREADS=1.\n",
      "  warnings.warn(\n",
      "C:\\Users\\phoneclicker\\anaconda3\\lib\\site-packages\\sklearn\\cluster\\_kmeans.py:1334: UserWarning: KMeans is known to have a memory leak on Windows with MKL, when there are less chunks than available threads. You can avoid it by setting the environment variable OMP_NUM_THREADS=1.\n",
      "  warnings.warn(\n",
      "C:\\Users\\phoneclicker\\anaconda3\\lib\\site-packages\\sklearn\\cluster\\_kmeans.py:1334: UserWarning: KMeans is known to have a memory leak on Windows with MKL, when there are less chunks than available threads. You can avoid it by setting the environment variable OMP_NUM_THREADS=1.\n",
      "  warnings.warn(\n",
      "C:\\Users\\phoneclicker\\anaconda3\\lib\\site-packages\\sklearn\\cluster\\_kmeans.py:1334: UserWarning: KMeans is known to have a memory leak on Windows with MKL, when there are less chunks than available threads. You can avoid it by setting the environment variable OMP_NUM_THREADS=1.\n",
      "  warnings.warn(\n"
     ]
    }
   ],
   "source": [
    "#Finding optimal number of cluster for normalize data\n",
    "#using Elbow method and silhoutte method\n",
    "\n",
    "nc=[2,3,4,5,6,7,8,9]\n",
    "iner=[]\n",
    "silscore =[]\n",
    "\n",
    "for i in nc:\n",
    "    Km=KMeans(i)\n",
    "    Km.fit(crime_norm)\n",
    "    iner.append(Km.inertia_)\n",
    "\n",
    "                    \n",
    "for i in nc:\n",
    "    hc = KMeans(n_clusters=i)\n",
    "    y=hc.fit_predict(crime_norm)\n",
    "    silscore.append(sil(crime_norm,y))"
   ]
  },
  {
   "cell_type": "code",
   "execution_count": 487,
   "id": "677db8e6",
   "metadata": {},
   "outputs": [
    {
     "data": {
      "text/plain": [
       "[0.7540963759591797,\n",
       " 0.3278478050693132,\n",
       " 0.22760245765174872,\n",
       " 0.16395152491640727,\n",
       " 0.12172205031883883,\n",
       " 0.10188607971993463,\n",
       " 0.08678951146202626,\n",
       " 0.07622070587268549]"
      ]
     },
     "execution_count": 487,
     "metadata": {},
     "output_type": "execute_result"
    }
   ],
   "source": [
    "iner\n"
   ]
  },
  {
   "cell_type": "code",
   "execution_count": 488,
   "id": "df655609",
   "metadata": {},
   "outputs": [
    {
     "data": {
      "text/plain": [
       "[0.5240686325107649,\n",
       " 0.5429805198778498,\n",
       " 0.4658225178189756,\n",
       " 0.4693605748149834,\n",
       " 0.4206035628530432,\n",
       " 0.3937638694041954,\n",
       " 0.38722331323749437,\n",
       " 0.363239412074187]"
      ]
     },
     "execution_count": 488,
     "metadata": {},
     "output_type": "execute_result"
    }
   ],
   "source": [
    "silscore"
   ]
  },
  {
   "cell_type": "code",
   "execution_count": 489,
   "id": "1bfafad9",
   "metadata": {},
   "outputs": [
    {
     "data": {
      "text/plain": [
       "Text(0.5, 1.0, 'Silhoutte Score')"
      ]
     },
     "execution_count": 489,
     "metadata": {},
     "output_type": "execute_result"
    },
    {
     "data": {
      "image/png": "[encoded data removed]",
      "text/plain": [
       "<Figure size 1080x576 with 2 Axes>"
      ]
     },
     "metadata": {
      "needs_background": "light"
     },
     "output_type": "display_data"
    }
   ],
   "source": [
    "plt.figure(figsize=(15,8))\n",
    "plt.subplot(1,2,1)\n",
    "plt.plot(nc,iner,color=\"black\")\n",
    "plt.scatter(nc,iner,color=\"red\")\n",
    "plt.title('Elbow Score')\n",
    "                    \n",
    "plt.subplot(1,2,2)\n",
    "plt.plot(nc,silscore,color=\"black\")\n",
    "plt.scatter(nc,silscore,color=\"red\")\n",
    "plt.title('Silhoutte Score')"
   ]
  },
  {
   "cell_type": "markdown",
   "id": "0298f826",
   "metadata": {},
   "source": [
    "# Conclusion\n",
    "Optimal number of clustering we get is 3 in K-Means by seeing silhoutte score and elbow method"
   ]
  },
  {
   "cell_type": "markdown",
   "id": "d1a89553",
   "metadata": {},
   "source": [
    "# 3. DBscan"
   ]
  },
  {
   "cell_type": "code",
   "execution_count": 548,
   "id": "3064cfef",
   "metadata": {},
   "outputs": [
    {
     "data": {
      "text/plain": [
       "<matplotlib.collections.PathCollection at 0x10b6ad25ac0>"
      ]
     },
     "execution_count": 548,
     "metadata": {},
     "output_type": "execute_result"
    },
    {
     "data": {
      "image/png": "[encoded data removed]",
      "text/plain": [
       "<Figure size 432x288 with 1 Axes>"
      ]
     },
     "metadata": {
      "needs_background": "light"
     },
     "output_type": "display_data"
    }
   ],
   "source": [
    "#plt.figure(figsize=5)\n",
    "plt.scatter(crime[\"Murder\"],crime[\"Assault\"],crime[\"UrbanPop\"],crime[\"Rape\"],cmap=plt.cm.Accent)"
   ]
  },
  {
   "cell_type": "code",
   "execution_count": 520,
   "id": "6df6af89",
   "metadata": {},
   "outputs": [],
   "source": [
    "from sklearn.cluster import DBSCAN\n"
   ]
  },
  {
   "cell_type": "code",
   "execution_count": 544,
   "id": "126cd5d9",
   "metadata": {},
   "outputs": [],
   "source": [
    "dbs=DBSCAN(eps=1, min_samples=2)"
   ]
  },
  {
   "cell_type": "code",
   "execution_count": 545,
   "id": "3620fde1",
   "metadata": {},
   "outputs": [],
   "source": [
    "labels=dbs.fit_predict(crime1)"
   ]
  },
  {
   "cell_type": "markdown",
   "id": "04b47c80",
   "metadata": {},
   "source": [
    "# Optimal Number Of Cluster"
   ]
  },
  {
   "cell_type": "code",
   "execution_count": 546,
   "id": "8e4f1a39",
   "metadata": {},
   "outputs": [
    {
     "data": {
      "text/plain": [
       "array([-1,  0,  1,  2,  3], dtype=int64)"
      ]
     },
     "execution_count": 546,
     "metadata": {},
     "output_type": "execute_result"
    }
   ],
   "source": [
    "np.unique(labels)"
   ]
  },
  {
   "cell_type": "code",
   "execution_count": 551,
   "id": "2a4ef5a1",
   "metadata": {},
   "outputs": [
    {
     "data": {
      "text/plain": [
       "<matplotlib.collections.PathCollection at 0x10b6c5205b0>"
      ]
     },
     "execution_count": 551,
     "metadata": {},
     "output_type": "execute_result"
    },
    {
     "data": {
      "image/png": "[encoded data removed]",
      "text/plain": [
       "<Figure size 432x288 with 1 Axes>"
      ]
     },
     "metadata": {
      "needs_background": "light"
     },
     "output_type": "display_data"
    }
   ],
   "source": [
    "plt.scatter(crime1[labels==-1,0],crime1[labels==-1,1],s=10,c=\"black\")\n",
    "plt.scatter(crime1[labels==0,1],crime1[labels==0,2],s=10,c=\"red\")\n",
    "plt.scatter(crime1[labels==1,2],crime1[labels==1,3],s=10,c=\"blue\")"
   ]
  },
  {
   "cell_type": "markdown",
   "id": "60de6bf9",
   "metadata": {},
   "source": [
    "# PROBLEM SATEMENT-2\n",
    "\n",
    "Perform clustering (hierarchical,K means clustering and DBSCAN) for the airlines data to obtain optimum number of clusters. \n",
    "Draw the inferences from the clusters obtained."
   ]
  },
  {
   "cell_type": "code",
   "execution_count": 552,
   "id": "2264cb76",
   "metadata": {},
   "outputs": [
    {
     "name": "stdout",
     "output_type": "stream",
     "text": [
      " Volume in drive C is ssd\n",
      " Volume Serial Number is 344C-651C\n",
      "\n",
      " Directory of C:\\Users\\phoneclicker\\Downloads\\excelr_kd\\ASSIGNMENT\\cluster\n",
      "\n",
      "01/04/2023  11:44 AM    <DIR>          .\n",
      "01/04/2023  11:44 AM    <DIR>          ..\n",
      "01/03/2023  06:13 PM    <DIR>          .ipynb_checkpoints\n",
      "01/04/2023  11:44 AM           345,943 CLUSTER-7.ipynb\n",
      "11/29/2022  03:32 PM             1,328 crime_data.csv\n",
      "11/29/2022  03:32 PM           268,963 EastWestAirlines.xlsx\n",
      "11/29/2022  03:32 PM             1,560 Problem_Statement(Airlines).txt\n",
      "11/29/2022  03:32 PM               389 ProblemSatement(crime_data).txt\n",
      "               5 File(s)        618,183 bytes\n",
      "               3 Dir(s)  23,961,640,960 bytes free\n"
     ]
    }
   ],
   "source": [
    "ls"
   ]
  },
  {
   "cell_type": "markdown",
   "id": "25c7ba4c",
   "metadata": {},
   "source": [
    "# Importing CSV File"
   ]
  },
  {
   "cell_type": "code",
   "execution_count": 553,
   "id": "87952a7e",
   "metadata": {},
   "outputs": [],
   "source": [
    "air=pd.read_excel(\"EastWestAirlines.xlsx\",sheet_name='data')"
   ]
  },
  {
   "cell_type": "markdown",
   "id": "a2f335e8",
   "metadata": {},
   "source": [
    "# EDA"
   ]
  },
  {
   "cell_type": "code",
   "execution_count": 554,
   "id": "7f4382b0",
   "metadata": {},
   "outputs": [
    {
     "data": {
      "text/html": [
       "<div>\n",
       "<style scoped>\n",
       "    .dataframe tbody tr th:only-of-type {\n",
       "        vertical-align: middle;\n",
       "    }\n",
       "\n",
       "    .dataframe tbody tr th {\n",
       "        vertical-align: top;\n",
       "    }\n",
       "\n",
       "    .dataframe thead th {\n",
       "        text-align: right;\n",
       "    }\n",
       "</style>\n",
       "<table border=\"1\" class=\"dataframe\">\n",
       "  <thead>\n",
       "    <tr style=\"text-align: right;\">\n",
       "      <th></th>\n",
       "      <th>ID#</th>\n",
       "      <th>Balance</th>\n",
       "      <th>Qual_miles</th>\n",
       "      <th>cc1_miles</th>\n",
       "      <th>cc2_miles</th>\n",
       "      <th>cc3_miles</th>\n",
       "      <th>Bonus_miles</th>\n",
       "      <th>Bonus_trans</th>\n",
       "      <th>Flight_miles_12mo</th>\n",
       "      <th>Flight_trans_12</th>\n",
       "      <th>Days_since_enroll</th>\n",
       "      <th>Award?</th>\n",
       "    </tr>\n",
       "  </thead>\n",
       "  <tbody>\n",
       "    <tr>\n",
       "      <th>0</th>\n",
       "      <td>1</td>\n",
       "      <td>28143</td>\n",
       "      <td>0</td>\n",
       "      <td>1</td>\n",
       "      <td>1</td>\n",
       "      <td>1</td>\n",
       "      <td>174</td>\n",
       "      <td>1</td>\n",
       "      <td>0</td>\n",
       "      <td>0</td>\n",
       "      <td>7000</td>\n",
       "      <td>0</td>\n",
       "    </tr>\n",
       "    <tr>\n",
       "      <th>1</th>\n",
       "      <td>2</td>\n",
       "      <td>19244</td>\n",
       "      <td>0</td>\n",
       "      <td>1</td>\n",
       "      <td>1</td>\n",
       "      <td>1</td>\n",
       "      <td>215</td>\n",
       "      <td>2</td>\n",
       "      <td>0</td>\n",
       "      <td>0</td>\n",
       "      <td>6968</td>\n",
       "      <td>0</td>\n",
       "    </tr>\n",
       "    <tr>\n",
       "      <th>2</th>\n",
       "      <td>3</td>\n",
       "      <td>41354</td>\n",
       "      <td>0</td>\n",
       "      <td>1</td>\n",
       "      <td>1</td>\n",
       "      <td>1</td>\n",
       "      <td>4123</td>\n",
       "      <td>4</td>\n",
       "      <td>0</td>\n",
       "      <td>0</td>\n",
       "      <td>7034</td>\n",
       "      <td>0</td>\n",
       "    </tr>\n",
       "    <tr>\n",
       "      <th>3</th>\n",
       "      <td>4</td>\n",
       "      <td>14776</td>\n",
       "      <td>0</td>\n",
       "      <td>1</td>\n",
       "      <td>1</td>\n",
       "      <td>1</td>\n",
       "      <td>500</td>\n",
       "      <td>1</td>\n",
       "      <td>0</td>\n",
       "      <td>0</td>\n",
       "      <td>6952</td>\n",
       "      <td>0</td>\n",
       "    </tr>\n",
       "    <tr>\n",
       "      <th>4</th>\n",
       "      <td>5</td>\n",
       "      <td>97752</td>\n",
       "      <td>0</td>\n",
       "      <td>4</td>\n",
       "      <td>1</td>\n",
       "      <td>1</td>\n",
       "      <td>43300</td>\n",
       "      <td>26</td>\n",
       "      <td>2077</td>\n",
       "      <td>4</td>\n",
       "      <td>6935</td>\n",
       "      <td>1</td>\n",
       "    </tr>\n",
       "  </tbody>\n",
       "</table>\n",
       "</div>"
      ],
      "text/plain": [
       "   ID#  Balance  Qual_miles  cc1_miles  cc2_miles  cc3_miles  Bonus_miles  \\\n",
       "0    1    28143           0          1          1          1          174   \n",
       "1    2    19244           0          1          1          1          215   \n",
       "2    3    41354           0          1          1          1         4123   \n",
       "3    4    14776           0          1          1          1          500   \n",
       "4    5    97752           0          4          1          1        43300   \n",
       "\n",
       "   Bonus_trans  Flight_miles_12mo  Flight_trans_12  Days_since_enroll  Award?  \n",
       "0            1                  0                0               7000       0  \n",
       "1            2                  0                0               6968       0  \n",
       "2            4                  0                0               7034       0  \n",
       "3            1                  0                0               6952       0  \n",
       "4           26               2077                4               6935       1  "
      ]
     },
     "execution_count": 554,
     "metadata": {},
     "output_type": "execute_result"
    }
   ],
   "source": [
    "air.head()"
   ]
  },
  {
   "cell_type": "code",
   "execution_count": 555,
   "id": "dee107c9",
   "metadata": {},
   "outputs": [
    {
     "data": {
      "text/plain": [
       "(3999, 12)"
      ]
     },
     "execution_count": 555,
     "metadata": {},
     "output_type": "execute_result"
    }
   ],
   "source": [
    "air.shape"
   ]
  },
  {
   "cell_type": "code",
   "execution_count": 556,
   "id": "3b4366f4",
   "metadata": {},
   "outputs": [
    {
     "name": "stdout",
     "output_type": "stream",
     "text": [
      "<class 'pandas.core.frame.DataFrame'>\n",
      "RangeIndex: 5 entries, 0 to 4\n",
      "Data columns (total 12 columns):\n",
      " #   Column             Non-Null Count  Dtype\n",
      "---  ------             --------------  -----\n",
      " 0   ID#                5 non-null      int64\n",
      " 1   Balance            5 non-null      int64\n",
      " 2   Qual_miles         5 non-null      int64\n",
      " 3   cc1_miles          5 non-null      int64\n",
      " 4   cc2_miles          5 non-null      int64\n",
      " 5   cc3_miles          5 non-null      int64\n",
      " 6   Bonus_miles        5 non-null      int64\n",
      " 7   Bonus_trans        5 non-null      int64\n",
      " 8   Flight_miles_12mo  5 non-null      int64\n",
      " 9   Flight_trans_12    5 non-null      int64\n",
      " 10  Days_since_enroll  5 non-null      int64\n",
      " 11  Award?             5 non-null      int64\n",
      "dtypes: int64(12)\n",
      "memory usage: 608.0 bytes\n"
     ]
    }
   ],
   "source": [
    "air.head().info()"
   ]
  },
  {
   "cell_type": "code",
   "execution_count": 557,
   "id": "84158109",
   "metadata": {},
   "outputs": [
    {
     "data": {
      "text/html": [
       "<div>\n",
       "<style scoped>\n",
       "    .dataframe tbody tr th:only-of-type {\n",
       "        vertical-align: middle;\n",
       "    }\n",
       "\n",
       "    .dataframe tbody tr th {\n",
       "        vertical-align: top;\n",
       "    }\n",
       "\n",
       "    .dataframe thead th {\n",
       "        text-align: right;\n",
       "    }\n",
       "</style>\n",
       "<table border=\"1\" class=\"dataframe\">\n",
       "  <thead>\n",
       "    <tr style=\"text-align: right;\">\n",
       "      <th></th>\n",
       "      <th>ID#</th>\n",
       "      <th>Balance</th>\n",
       "      <th>Qual_miles</th>\n",
       "      <th>cc1_miles</th>\n",
       "      <th>cc2_miles</th>\n",
       "      <th>cc3_miles</th>\n",
       "      <th>Bonus_miles</th>\n",
       "      <th>Bonus_trans</th>\n",
       "      <th>Flight_miles_12mo</th>\n",
       "      <th>Flight_trans_12</th>\n",
       "      <th>Days_since_enroll</th>\n",
       "      <th>Award?</th>\n",
       "    </tr>\n",
       "  </thead>\n",
       "  <tbody>\n",
       "    <tr>\n",
       "      <th>count</th>\n",
       "      <td>3999.000000</td>\n",
       "      <td>3.999000e+03</td>\n",
       "      <td>3999.000000</td>\n",
       "      <td>3999.000000</td>\n",
       "      <td>3999.000000</td>\n",
       "      <td>3999.000000</td>\n",
       "      <td>3999.000000</td>\n",
       "      <td>3999.00000</td>\n",
       "      <td>3999.000000</td>\n",
       "      <td>3999.000000</td>\n",
       "      <td>3999.00000</td>\n",
       "      <td>3999.000000</td>\n",
       "    </tr>\n",
       "    <tr>\n",
       "      <th>mean</th>\n",
       "      <td>2014.819455</td>\n",
       "      <td>7.360133e+04</td>\n",
       "      <td>144.114529</td>\n",
       "      <td>2.059515</td>\n",
       "      <td>1.014504</td>\n",
       "      <td>1.012253</td>\n",
       "      <td>17144.846212</td>\n",
       "      <td>11.60190</td>\n",
       "      <td>460.055764</td>\n",
       "      <td>1.373593</td>\n",
       "      <td>4118.55939</td>\n",
       "      <td>0.370343</td>\n",
       "    </tr>\n",
       "    <tr>\n",
       "      <th>std</th>\n",
       "      <td>1160.764358</td>\n",
       "      <td>1.007757e+05</td>\n",
       "      <td>773.663804</td>\n",
       "      <td>1.376919</td>\n",
       "      <td>0.147650</td>\n",
       "      <td>0.195241</td>\n",
       "      <td>24150.967826</td>\n",
       "      <td>9.60381</td>\n",
       "      <td>1400.209171</td>\n",
       "      <td>3.793172</td>\n",
       "      <td>2065.13454</td>\n",
       "      <td>0.482957</td>\n",
       "    </tr>\n",
       "    <tr>\n",
       "      <th>min</th>\n",
       "      <td>1.000000</td>\n",
       "      <td>0.000000e+00</td>\n",
       "      <td>0.000000</td>\n",
       "      <td>1.000000</td>\n",
       "      <td>1.000000</td>\n",
       "      <td>1.000000</td>\n",
       "      <td>0.000000</td>\n",
       "      <td>0.00000</td>\n",
       "      <td>0.000000</td>\n",
       "      <td>0.000000</td>\n",
       "      <td>2.00000</td>\n",
       "      <td>0.000000</td>\n",
       "    </tr>\n",
       "    <tr>\n",
       "      <th>25%</th>\n",
       "      <td>1010.500000</td>\n",
       "      <td>1.852750e+04</td>\n",
       "      <td>0.000000</td>\n",
       "      <td>1.000000</td>\n",
       "      <td>1.000000</td>\n",
       "      <td>1.000000</td>\n",
       "      <td>1250.000000</td>\n",
       "      <td>3.00000</td>\n",
       "      <td>0.000000</td>\n",
       "      <td>0.000000</td>\n",
       "      <td>2330.00000</td>\n",
       "      <td>0.000000</td>\n",
       "    </tr>\n",
       "    <tr>\n",
       "      <th>50%</th>\n",
       "      <td>2016.000000</td>\n",
       "      <td>4.309700e+04</td>\n",
       "      <td>0.000000</td>\n",
       "      <td>1.000000</td>\n",
       "      <td>1.000000</td>\n",
       "      <td>1.000000</td>\n",
       "      <td>7171.000000</td>\n",
       "      <td>12.00000</td>\n",
       "      <td>0.000000</td>\n",
       "      <td>0.000000</td>\n",
       "      <td>4096.00000</td>\n",
       "      <td>0.000000</td>\n",
       "    </tr>\n",
       "    <tr>\n",
       "      <th>75%</th>\n",
       "      <td>3020.500000</td>\n",
       "      <td>9.240400e+04</td>\n",
       "      <td>0.000000</td>\n",
       "      <td>3.000000</td>\n",
       "      <td>1.000000</td>\n",
       "      <td>1.000000</td>\n",
       "      <td>23800.500000</td>\n",
       "      <td>17.00000</td>\n",
       "      <td>311.000000</td>\n",
       "      <td>1.000000</td>\n",
       "      <td>5790.50000</td>\n",
       "      <td>1.000000</td>\n",
       "    </tr>\n",
       "    <tr>\n",
       "      <th>max</th>\n",
       "      <td>4021.000000</td>\n",
       "      <td>1.704838e+06</td>\n",
       "      <td>11148.000000</td>\n",
       "      <td>5.000000</td>\n",
       "      <td>3.000000</td>\n",
       "      <td>5.000000</td>\n",
       "      <td>263685.000000</td>\n",
       "      <td>86.00000</td>\n",
       "      <td>30817.000000</td>\n",
       "      <td>53.000000</td>\n",
       "      <td>8296.00000</td>\n",
       "      <td>1.000000</td>\n",
       "    </tr>\n",
       "  </tbody>\n",
       "</table>\n",
       "</div>"
      ],
      "text/plain": [
       "               ID#       Balance    Qual_miles    cc1_miles    cc2_miles  \\\n",
       "count  3999.000000  3.999000e+03   3999.000000  3999.000000  3999.000000   \n",
       "mean   2014.819455  7.360133e+04    144.114529     2.059515     1.014504   \n",
       "std    1160.764358  1.007757e+05    773.663804     1.376919     0.147650   \n",
       "min       1.000000  0.000000e+00      0.000000     1.000000     1.000000   \n",
       "25%    1010.500000  1.852750e+04      0.000000     1.000000     1.000000   \n",
       "50%    2016.000000  4.309700e+04      0.000000     1.000000     1.000000   \n",
       "75%    3020.500000  9.240400e+04      0.000000     3.000000     1.000000   \n",
       "max    4021.000000  1.704838e+06  11148.000000     5.000000     3.000000   \n",
       "\n",
       "         cc3_miles    Bonus_miles  Bonus_trans  Flight_miles_12mo  \\\n",
       "count  3999.000000    3999.000000   3999.00000        3999.000000   \n",
       "mean      1.012253   17144.846212     11.60190         460.055764   \n",
       "std       0.195241   24150.967826      9.60381        1400.209171   \n",
       "min       1.000000       0.000000      0.00000           0.000000   \n",
       "25%       1.000000    1250.000000      3.00000           0.000000   \n",
       "50%       1.000000    7171.000000     12.00000           0.000000   \n",
       "75%       1.000000   23800.500000     17.00000         311.000000   \n",
       "max       5.000000  263685.000000     86.00000       30817.000000   \n",
       "\n",
       "       Flight_trans_12  Days_since_enroll       Award?  \n",
       "count      3999.000000         3999.00000  3999.000000  \n",
       "mean          1.373593         4118.55939     0.370343  \n",
       "std           3.793172         2065.13454     0.482957  \n",
       "min           0.000000            2.00000     0.000000  \n",
       "25%           0.000000         2330.00000     0.000000  \n",
       "50%           0.000000         4096.00000     0.000000  \n",
       "75%           1.000000         5790.50000     1.000000  \n",
       "max          53.000000         8296.00000     1.000000  "
      ]
     },
     "execution_count": 557,
     "metadata": {},
     "output_type": "execute_result"
    }
   ],
   "source": [
    "air.describe()"
   ]
  },
  {
   "cell_type": "code",
   "execution_count": 558,
   "id": "6b00c4c7",
   "metadata": {},
   "outputs": [
    {
     "data": {
      "text/plain": [
       "ID#                  0\n",
       "Balance              0\n",
       "Qual_miles           0\n",
       "cc1_miles            0\n",
       "cc2_miles            0\n",
       "cc3_miles            0\n",
       "Bonus_miles          0\n",
       "Bonus_trans          0\n",
       "Flight_miles_12mo    0\n",
       "Flight_trans_12      0\n",
       "Days_since_enroll    0\n",
       "Award?               0\n",
       "dtype: int64"
      ]
     },
     "execution_count": 558,
     "metadata": {},
     "output_type": "execute_result"
    }
   ],
   "source": [
    "air.isna().sum()"
   ]
  },
  {
   "cell_type": "markdown",
   "id": "d2002d44",
   "metadata": {},
   "source": [
    "# Column Renaming"
   ]
  },
  {
   "cell_type": "code",
   "execution_count": 559,
   "id": "c48af9a4",
   "metadata": {},
   "outputs": [],
   "source": [
    "air=air.rename(columns={'ID#':'ID','Award?':'Award'})"
   ]
  },
  {
   "cell_type": "code",
   "execution_count": 560,
   "id": "3317b303",
   "metadata": {},
   "outputs": [
    {
     "data": {
      "text/html": [
       "<div>\n",
       "<style scoped>\n",
       "    .dataframe tbody tr th:only-of-type {\n",
       "        vertical-align: middle;\n",
       "    }\n",
       "\n",
       "    .dataframe tbody tr th {\n",
       "        vertical-align: top;\n",
       "    }\n",
       "\n",
       "    .dataframe thead th {\n",
       "        text-align: right;\n",
       "    }\n",
       "</style>\n",
       "<table border=\"1\" class=\"dataframe\">\n",
       "  <thead>\n",
       "    <tr style=\"text-align: right;\">\n",
       "      <th></th>\n",
       "      <th>ID</th>\n",
       "      <th>Balance</th>\n",
       "      <th>Qual_miles</th>\n",
       "      <th>cc1_miles</th>\n",
       "      <th>cc2_miles</th>\n",
       "      <th>cc3_miles</th>\n",
       "      <th>Bonus_miles</th>\n",
       "      <th>Bonus_trans</th>\n",
       "      <th>Flight_miles_12mo</th>\n",
       "      <th>Flight_trans_12</th>\n",
       "      <th>Days_since_enroll</th>\n",
       "      <th>Award</th>\n",
       "    </tr>\n",
       "  </thead>\n",
       "  <tbody>\n",
       "    <tr>\n",
       "      <th>0</th>\n",
       "      <td>1</td>\n",
       "      <td>28143</td>\n",
       "      <td>0</td>\n",
       "      <td>1</td>\n",
       "      <td>1</td>\n",
       "      <td>1</td>\n",
       "      <td>174</td>\n",
       "      <td>1</td>\n",
       "      <td>0</td>\n",
       "      <td>0</td>\n",
       "      <td>7000</td>\n",
       "      <td>0</td>\n",
       "    </tr>\n",
       "    <tr>\n",
       "      <th>1</th>\n",
       "      <td>2</td>\n",
       "      <td>19244</td>\n",
       "      <td>0</td>\n",
       "      <td>1</td>\n",
       "      <td>1</td>\n",
       "      <td>1</td>\n",
       "      <td>215</td>\n",
       "      <td>2</td>\n",
       "      <td>0</td>\n",
       "      <td>0</td>\n",
       "      <td>6968</td>\n",
       "      <td>0</td>\n",
       "    </tr>\n",
       "    <tr>\n",
       "      <th>2</th>\n",
       "      <td>3</td>\n",
       "      <td>41354</td>\n",
       "      <td>0</td>\n",
       "      <td>1</td>\n",
       "      <td>1</td>\n",
       "      <td>1</td>\n",
       "      <td>4123</td>\n",
       "      <td>4</td>\n",
       "      <td>0</td>\n",
       "      <td>0</td>\n",
       "      <td>7034</td>\n",
       "      <td>0</td>\n",
       "    </tr>\n",
       "    <tr>\n",
       "      <th>3</th>\n",
       "      <td>4</td>\n",
       "      <td>14776</td>\n",
       "      <td>0</td>\n",
       "      <td>1</td>\n",
       "      <td>1</td>\n",
       "      <td>1</td>\n",
       "      <td>500</td>\n",
       "      <td>1</td>\n",
       "      <td>0</td>\n",
       "      <td>0</td>\n",
       "      <td>6952</td>\n",
       "      <td>0</td>\n",
       "    </tr>\n",
       "    <tr>\n",
       "      <th>4</th>\n",
       "      <td>5</td>\n",
       "      <td>97752</td>\n",
       "      <td>0</td>\n",
       "      <td>4</td>\n",
       "      <td>1</td>\n",
       "      <td>1</td>\n",
       "      <td>43300</td>\n",
       "      <td>26</td>\n",
       "      <td>2077</td>\n",
       "      <td>4</td>\n",
       "      <td>6935</td>\n",
       "      <td>1</td>\n",
       "    </tr>\n",
       "  </tbody>\n",
       "</table>\n",
       "</div>"
      ],
      "text/plain": [
       "   ID  Balance  Qual_miles  cc1_miles  cc2_miles  cc3_miles  Bonus_miles  \\\n",
       "0   1    28143           0          1          1          1          174   \n",
       "1   2    19244           0          1          1          1          215   \n",
       "2   3    41354           0          1          1          1         4123   \n",
       "3   4    14776           0          1          1          1          500   \n",
       "4   5    97752           0          4          1          1        43300   \n",
       "\n",
       "   Bonus_trans  Flight_miles_12mo  Flight_trans_12  Days_since_enroll  Award  \n",
       "0            1                  0                0               7000      0  \n",
       "1            2                  0                0               6968      0  \n",
       "2            4                  0                0               7034      0  \n",
       "3            1                  0                0               6952      0  \n",
       "4           26               2077                4               6935      1  "
      ]
     },
     "execution_count": 560,
     "metadata": {},
     "output_type": "execute_result"
    }
   ],
   "source": [
    "air.head()"
   ]
  },
  {
   "cell_type": "markdown",
   "id": "70c57511",
   "metadata": {},
   "source": [
    "# Feature Engineering"
   ]
  },
  {
   "cell_type": "code",
   "execution_count": 561,
   "id": "c0dd347e",
   "metadata": {},
   "outputs": [],
   "source": [
    "air_mod=air.drop([\"ID\",\"Award\"],axis=1)"
   ]
  },
  {
   "cell_type": "code",
   "execution_count": 565,
   "id": "b1d5872b",
   "metadata": {},
   "outputs": [
    {
     "data": {
      "text/html": [
       "<div>\n",
       "<style scoped>\n",
       "    .dataframe tbody tr th:only-of-type {\n",
       "        vertical-align: middle;\n",
       "    }\n",
       "\n",
       "    .dataframe tbody tr th {\n",
       "        vertical-align: top;\n",
       "    }\n",
       "\n",
       "    .dataframe thead th {\n",
       "        text-align: right;\n",
       "    }\n",
       "</style>\n",
       "<table border=\"1\" class=\"dataframe\">\n",
       "  <thead>\n",
       "    <tr style=\"text-align: right;\">\n",
       "      <th></th>\n",
       "      <th>Balance</th>\n",
       "      <th>Qual_miles</th>\n",
       "      <th>cc1_miles</th>\n",
       "      <th>cc2_miles</th>\n",
       "      <th>cc3_miles</th>\n",
       "      <th>Bonus_miles</th>\n",
       "      <th>Bonus_trans</th>\n",
       "      <th>Flight_miles_12mo</th>\n",
       "      <th>Flight_trans_12</th>\n",
       "      <th>Days_since_enroll</th>\n",
       "    </tr>\n",
       "  </thead>\n",
       "  <tbody>\n",
       "    <tr>\n",
       "      <th>0</th>\n",
       "      <td>28143</td>\n",
       "      <td>0</td>\n",
       "      <td>1</td>\n",
       "      <td>1</td>\n",
       "      <td>1</td>\n",
       "      <td>174</td>\n",
       "      <td>1</td>\n",
       "      <td>0</td>\n",
       "      <td>0</td>\n",
       "      <td>7000</td>\n",
       "    </tr>\n",
       "    <tr>\n",
       "      <th>1</th>\n",
       "      <td>19244</td>\n",
       "      <td>0</td>\n",
       "      <td>1</td>\n",
       "      <td>1</td>\n",
       "      <td>1</td>\n",
       "      <td>215</td>\n",
       "      <td>2</td>\n",
       "      <td>0</td>\n",
       "      <td>0</td>\n",
       "      <td>6968</td>\n",
       "    </tr>\n",
       "    <tr>\n",
       "      <th>2</th>\n",
       "      <td>41354</td>\n",
       "      <td>0</td>\n",
       "      <td>1</td>\n",
       "      <td>1</td>\n",
       "      <td>1</td>\n",
       "      <td>4123</td>\n",
       "      <td>4</td>\n",
       "      <td>0</td>\n",
       "      <td>0</td>\n",
       "      <td>7034</td>\n",
       "    </tr>\n",
       "    <tr>\n",
       "      <th>3</th>\n",
       "      <td>14776</td>\n",
       "      <td>0</td>\n",
       "      <td>1</td>\n",
       "      <td>1</td>\n",
       "      <td>1</td>\n",
       "      <td>500</td>\n",
       "      <td>1</td>\n",
       "      <td>0</td>\n",
       "      <td>0</td>\n",
       "      <td>6952</td>\n",
       "    </tr>\n",
       "    <tr>\n",
       "      <th>4</th>\n",
       "      <td>97752</td>\n",
       "      <td>0</td>\n",
       "      <td>4</td>\n",
       "      <td>1</td>\n",
       "      <td>1</td>\n",
       "      <td>43300</td>\n",
       "      <td>26</td>\n",
       "      <td>2077</td>\n",
       "      <td>4</td>\n",
       "      <td>6935</td>\n",
       "    </tr>\n",
       "    <tr>\n",
       "      <th>...</th>\n",
       "      <td>...</td>\n",
       "      <td>...</td>\n",
       "      <td>...</td>\n",
       "      <td>...</td>\n",
       "      <td>...</td>\n",
       "      <td>...</td>\n",
       "      <td>...</td>\n",
       "      <td>...</td>\n",
       "      <td>...</td>\n",
       "      <td>...</td>\n",
       "    </tr>\n",
       "    <tr>\n",
       "      <th>3994</th>\n",
       "      <td>18476</td>\n",
       "      <td>0</td>\n",
       "      <td>1</td>\n",
       "      <td>1</td>\n",
       "      <td>1</td>\n",
       "      <td>8525</td>\n",
       "      <td>4</td>\n",
       "      <td>200</td>\n",
       "      <td>1</td>\n",
       "      <td>1403</td>\n",
       "    </tr>\n",
       "    <tr>\n",
       "      <th>3995</th>\n",
       "      <td>64385</td>\n",
       "      <td>0</td>\n",
       "      <td>1</td>\n",
       "      <td>1</td>\n",
       "      <td>1</td>\n",
       "      <td>981</td>\n",
       "      <td>5</td>\n",
       "      <td>0</td>\n",
       "      <td>0</td>\n",
       "      <td>1395</td>\n",
       "    </tr>\n",
       "    <tr>\n",
       "      <th>3996</th>\n",
       "      <td>73597</td>\n",
       "      <td>0</td>\n",
       "      <td>3</td>\n",
       "      <td>1</td>\n",
       "      <td>1</td>\n",
       "      <td>25447</td>\n",
       "      <td>8</td>\n",
       "      <td>0</td>\n",
       "      <td>0</td>\n",
       "      <td>1402</td>\n",
       "    </tr>\n",
       "    <tr>\n",
       "      <th>3997</th>\n",
       "      <td>54899</td>\n",
       "      <td>0</td>\n",
       "      <td>1</td>\n",
       "      <td>1</td>\n",
       "      <td>1</td>\n",
       "      <td>500</td>\n",
       "      <td>1</td>\n",
       "      <td>500</td>\n",
       "      <td>1</td>\n",
       "      <td>1401</td>\n",
       "    </tr>\n",
       "    <tr>\n",
       "      <th>3998</th>\n",
       "      <td>3016</td>\n",
       "      <td>0</td>\n",
       "      <td>1</td>\n",
       "      <td>1</td>\n",
       "      <td>1</td>\n",
       "      <td>0</td>\n",
       "      <td>0</td>\n",
       "      <td>0</td>\n",
       "      <td>0</td>\n",
       "      <td>1398</td>\n",
       "    </tr>\n",
       "  </tbody>\n",
       "</table>\n",
       "<p>3999 rows × 10 columns</p>\n",
       "</div>"
      ],
      "text/plain": [
       "      Balance  Qual_miles  cc1_miles  cc2_miles  cc3_miles  Bonus_miles  \\\n",
       "0       28143           0          1          1          1          174   \n",
       "1       19244           0          1          1          1          215   \n",
       "2       41354           0          1          1          1         4123   \n",
       "3       14776           0          1          1          1          500   \n",
       "4       97752           0          4          1          1        43300   \n",
       "...       ...         ...        ...        ...        ...          ...   \n",
       "3994    18476           0          1          1          1         8525   \n",
       "3995    64385           0          1          1          1          981   \n",
       "3996    73597           0          3          1          1        25447   \n",
       "3997    54899           0          1          1          1          500   \n",
       "3998     3016           0          1          1          1            0   \n",
       "\n",
       "      Bonus_trans  Flight_miles_12mo  Flight_trans_12  Days_since_enroll  \n",
       "0               1                  0                0               7000  \n",
       "1               2                  0                0               6968  \n",
       "2               4                  0                0               7034  \n",
       "3               1                  0                0               6952  \n",
       "4              26               2077                4               6935  \n",
       "...           ...                ...              ...                ...  \n",
       "3994            4                200                1               1403  \n",
       "3995            5                  0                0               1395  \n",
       "3996            8                  0                0               1402  \n",
       "3997            1                500                1               1401  \n",
       "3998            0                  0                0               1398  \n",
       "\n",
       "[3999 rows x 10 columns]"
      ]
     },
     "execution_count": 565,
     "metadata": {},
     "output_type": "execute_result"
    }
   ],
   "source": [
    "air_mod"
   ]
  },
  {
   "cell_type": "markdown",
   "id": "892a815c",
   "metadata": {},
   "source": [
    "# Normalizing Data"
   ]
  },
  {
   "cell_type": "code",
   "execution_count": 567,
   "id": "143f6d1a",
   "metadata": {},
   "outputs": [
    {
     "data": {
      "text/html": [
       "<div>\n",
       "<style scoped>\n",
       "    .dataframe tbody tr th:only-of-type {\n",
       "        vertical-align: middle;\n",
       "    }\n",
       "\n",
       "    .dataframe tbody tr th {\n",
       "        vertical-align: top;\n",
       "    }\n",
       "\n",
       "    .dataframe thead th {\n",
       "        text-align: right;\n",
       "    }\n",
       "</style>\n",
       "<table border=\"1\" class=\"dataframe\">\n",
       "  <thead>\n",
       "    <tr style=\"text-align: right;\">\n",
       "      <th></th>\n",
       "      <th>Balance</th>\n",
       "      <th>Qual_miles</th>\n",
       "      <th>cc1_miles</th>\n",
       "      <th>cc2_miles</th>\n",
       "      <th>cc3_miles</th>\n",
       "      <th>Bonus_miles</th>\n",
       "      <th>Bonus_trans</th>\n",
       "      <th>Flight_miles_12mo</th>\n",
       "      <th>Flight_trans_12</th>\n",
       "      <th>Days_since_enroll</th>\n",
       "    </tr>\n",
       "  </thead>\n",
       "  <tbody>\n",
       "    <tr>\n",
       "      <th>0</th>\n",
       "      <td>0.970414</td>\n",
       "      <td>0.0</td>\n",
       "      <td>0.000034</td>\n",
       "      <td>0.000034</td>\n",
       "      <td>0.000034</td>\n",
       "      <td>0.006000</td>\n",
       "      <td>0.000034</td>\n",
       "      <td>0.000000</td>\n",
       "      <td>0.000000</td>\n",
       "      <td>0.241371</td>\n",
       "    </tr>\n",
       "    <tr>\n",
       "      <th>1</th>\n",
       "      <td>0.940209</td>\n",
       "      <td>0.0</td>\n",
       "      <td>0.000049</td>\n",
       "      <td>0.000049</td>\n",
       "      <td>0.000049</td>\n",
       "      <td>0.010504</td>\n",
       "      <td>0.000098</td>\n",
       "      <td>0.000000</td>\n",
       "      <td>0.000000</td>\n",
       "      <td>0.340437</td>\n",
       "    </tr>\n",
       "    <tr>\n",
       "      <th>2</th>\n",
       "      <td>0.981113</td>\n",
       "      <td>0.0</td>\n",
       "      <td>0.000024</td>\n",
       "      <td>0.000024</td>\n",
       "      <td>0.000024</td>\n",
       "      <td>0.097817</td>\n",
       "      <td>0.000095</td>\n",
       "      <td>0.000000</td>\n",
       "      <td>0.000000</td>\n",
       "      <td>0.166880</td>\n",
       "    </tr>\n",
       "    <tr>\n",
       "      <th>3</th>\n",
       "      <td>0.904428</td>\n",
       "      <td>0.0</td>\n",
       "      <td>0.000061</td>\n",
       "      <td>0.000061</td>\n",
       "      <td>0.000061</td>\n",
       "      <td>0.030605</td>\n",
       "      <td>0.000061</td>\n",
       "      <td>0.000000</td>\n",
       "      <td>0.000000</td>\n",
       "      <td>0.425527</td>\n",
       "    </tr>\n",
       "    <tr>\n",
       "      <th>4</th>\n",
       "      <td>0.912226</td>\n",
       "      <td>0.0</td>\n",
       "      <td>0.000037</td>\n",
       "      <td>0.000009</td>\n",
       "      <td>0.000009</td>\n",
       "      <td>0.404078</td>\n",
       "      <td>0.000243</td>\n",
       "      <td>0.019383</td>\n",
       "      <td>0.000037</td>\n",
       "      <td>0.064718</td>\n",
       "    </tr>\n",
       "  </tbody>\n",
       "</table>\n",
       "</div>"
      ],
      "text/plain": [
       "    Balance  Qual_miles  cc1_miles  cc2_miles  cc3_miles  Bonus_miles  \\\n",
       "0  0.970414         0.0   0.000034   0.000034   0.000034     0.006000   \n",
       "1  0.940209         0.0   0.000049   0.000049   0.000049     0.010504   \n",
       "2  0.981113         0.0   0.000024   0.000024   0.000024     0.097817   \n",
       "3  0.904428         0.0   0.000061   0.000061   0.000061     0.030605   \n",
       "4  0.912226         0.0   0.000037   0.000009   0.000009     0.404078   \n",
       "\n",
       "   Bonus_trans  Flight_miles_12mo  Flight_trans_12  Days_since_enroll  \n",
       "0     0.000034           0.000000         0.000000           0.241371  \n",
       "1     0.000098           0.000000         0.000000           0.340437  \n",
       "2     0.000095           0.000000         0.000000           0.166880  \n",
       "3     0.000061           0.000000         0.000000           0.425527  \n",
       "4     0.000243           0.019383         0.000037           0.064718  "
      ]
     },
     "execution_count": 567,
     "metadata": {},
     "output_type": "execute_result"
    }
   ],
   "source": [
    "air_norm=pd.DataFrame(normalize(air_mod),columns=air_mod.columns)\n",
    "air_norm.head()\n"
   ]
  },
  {
   "cell_type": "markdown",
   "id": "943cbe15",
   "metadata": {},
   "source": [
    "# 1.Hierarchical Clustering"
   ]
  },
  {
   "cell_type": "code",
   "execution_count": 568,
   "id": "dff860c9",
   "metadata": {},
   "outputs": [
    {
     "data": {
      "image/png": "[encoded data removed]",
      "text/plain": [
       "<Figure size 1440x432 with 1 Axes>"
      ]
     },
     "metadata": {
      "needs_background": "light"
     },
     "output_type": "display_data"
    },
    {
     "data": {
      "image/png": "[encoded data removed]",
      "text/plain": [
       "<Figure size 1440x432 with 1 Axes>"
      ]
     },
     "metadata": {
      "needs_background": "light"
     },
     "output_type": "display_data"
    },
    {
     "data": {
      "image/png": "[encoded data removed]",
      "text/plain": [
       "<Figure size 1440x432 with 1 Axes>"
      ]
     },
     "metadata": {
      "needs_background": "light"
     },
     "output_type": "display_data"
    }
   ],
   "source": [
    "for methods in ['single','complete','average']: \n",
    "     plt.figure(figsize =(20, 6))\n",
    "     plt.title('Visualising the data, Method- {}'.format(methods)) \n",
    "     Dendrogram = sch.dendrogram(sch.linkage(air_norm, method = methods,optimal_ordering=False))"
   ]
  },
  {
   "cell_type": "code",
   "execution_count": 569,
   "id": "b715af6c",
   "metadata": {},
   "outputs": [
    {
     "name": "stdout",
     "output_type": "stream",
     "text": [
      "Clusters = 2, linkage = single, Sc score = 0.6414807597188987\n",
      "Clusters = 2, linkage = average, Sc score = 0.6199075368947913\n",
      "Clusters = 2, linkage = complete, Sc score = 0.5414238117493092\n",
      "\n",
      "Clusters = 3, linkage = single, Sc score = 0.4980808146158188\n",
      "Clusters = 3, linkage = average, Sc score = 0.6023264073883706\n",
      "Clusters = 3, linkage = complete, Sc score = 0.5757037645688333\n",
      "\n",
      "Clusters = 4, linkage = single, Sc score = 0.45957880996099165\n",
      "Clusters = 4, linkage = average, Sc score = 0.5734105133284101\n",
      "Clusters = 4, linkage = complete, Sc score = 0.5322356437626531\n",
      "\n",
      "Clusters = 5, linkage = single, Sc score = 0.42528433822274675\n",
      "Clusters = 5, linkage = average, Sc score = 0.5687644465781913\n",
      "Clusters = 5, linkage = complete, Sc score = 0.5081755801489433\n",
      "\n",
      "Clusters = 6, linkage = single, Sc score = 0.40955584890813773\n",
      "Clusters = 6, linkage = average, Sc score = 0.5654812187325654\n",
      "Clusters = 6, linkage = complete, Sc score = 0.5072814131618931\n",
      "\n",
      "Clusters = 7, linkage = single, Sc score = 0.3199296913983993\n",
      "Clusters = 7, linkage = average, Sc score = 0.4869350433804178\n",
      "Clusters = 7, linkage = complete, Sc score = 0.5056954623037809\n",
      "\n",
      "Clusters = 8, linkage = single, Sc score = 0.26923932346805773\n",
      "Clusters = 8, linkage = average, Sc score = 0.4666074642227136\n",
      "Clusters = 8, linkage = complete, Sc score = 0.5048232543743064\n",
      "\n",
      "Clusters = 9, linkage = single, Sc score = 0.17537121191506633\n",
      "Clusters = 9, linkage = average, Sc score = 0.48056859371738203\n",
      "Clusters = 9, linkage = complete, Sc score = 0.4962945051290907\n",
      "\n"
     ]
    }
   ],
   "source": [
    "nc=[2,3,4,5,6,7,8,9]\n",
    "\n",
    "for i in nc:\n",
    "    for linkages in ['single','average','complete']:\n",
    "        hc = AgglomerativeClustering(n_clusters=i,affinity = 'euclidean',linkage = linkages)\n",
    "        y = hc.fit_predict(air_norm)\n",
    "        sc=sil(air_norm,y)\n",
    "        print('Clusters = {}, linkage = {}, Sc score = {}'.format(i,linkages,sc))\n",
    "    print()"
   ]
  },
  {
   "cell_type": "markdown",
   "id": "f71bea5e",
   "metadata": {},
   "source": [
    "# optimal number of cluster is-3"
   ]
  },
  {
   "cell_type": "markdown",
   "id": "55aa8bca",
   "metadata": {},
   "source": [
    "# COCLUSION"
   ]
  },
  {
   "cell_type": "code",
   "execution_count": 598,
   "id": "c7f5547f",
   "metadata": {},
   "outputs": [],
   "source": [
    "first_model1 = AgglomerativeClustering(n_clusters=3, affinity = 'euclidean', linkage = 'average')\n",
    "y=first_model1.fit_predict(air_norm)"
   ]
  },
  {
   "cell_type": "code",
   "execution_count": 599,
   "id": "a99b6bd9",
   "metadata": {},
   "outputs": [],
   "source": [
    "air['cluster id']=y"
   ]
  },
  {
   "cell_type": "code",
   "execution_count": 600,
   "id": "9761a821",
   "metadata": {},
   "outputs": [
    {
     "data": {
      "text/plain": [
       "array([0, 1, 2], dtype=int64)"
      ]
     },
     "execution_count": 600,
     "metadata": {},
     "output_type": "execute_result"
    }
   ],
   "source": [
    "np.unique(air[\"cluster id\"])"
   ]
  },
  {
   "cell_type": "code",
   "execution_count": 601,
   "id": "654a0527",
   "metadata": {},
   "outputs": [
    {
     "data": {
      "text/html": [
       "<div>\n",
       "<style scoped>\n",
       "    .dataframe tbody tr th:only-of-type {\n",
       "        vertical-align: middle;\n",
       "    }\n",
       "\n",
       "    .dataframe tbody tr th {\n",
       "        vertical-align: top;\n",
       "    }\n",
       "\n",
       "    .dataframe thead th {\n",
       "        text-align: right;\n",
       "    }\n",
       "</style>\n",
       "<table border=\"1\" class=\"dataframe\">\n",
       "  <thead>\n",
       "    <tr style=\"text-align: right;\">\n",
       "      <th></th>\n",
       "      <th>ID</th>\n",
       "      <th>Balance</th>\n",
       "      <th>Qual_miles</th>\n",
       "      <th>cc1_miles</th>\n",
       "      <th>cc2_miles</th>\n",
       "      <th>cc3_miles</th>\n",
       "      <th>Bonus_miles</th>\n",
       "      <th>Bonus_trans</th>\n",
       "      <th>Flight_miles_12mo</th>\n",
       "      <th>Flight_trans_12</th>\n",
       "      <th>Days_since_enroll</th>\n",
       "      <th>Award</th>\n",
       "      <th>cluster id</th>\n",
       "    </tr>\n",
       "  </thead>\n",
       "  <tbody>\n",
       "    <tr>\n",
       "      <th>0</th>\n",
       "      <td>1</td>\n",
       "      <td>28143</td>\n",
       "      <td>0</td>\n",
       "      <td>1</td>\n",
       "      <td>1</td>\n",
       "      <td>1</td>\n",
       "      <td>174</td>\n",
       "      <td>1</td>\n",
       "      <td>0</td>\n",
       "      <td>0</td>\n",
       "      <td>7000</td>\n",
       "      <td>0</td>\n",
       "      <td>2</td>\n",
       "    </tr>\n",
       "    <tr>\n",
       "      <th>1</th>\n",
       "      <td>2</td>\n",
       "      <td>19244</td>\n",
       "      <td>0</td>\n",
       "      <td>1</td>\n",
       "      <td>1</td>\n",
       "      <td>1</td>\n",
       "      <td>215</td>\n",
       "      <td>2</td>\n",
       "      <td>0</td>\n",
       "      <td>0</td>\n",
       "      <td>6968</td>\n",
       "      <td>0</td>\n",
       "      <td>2</td>\n",
       "    </tr>\n",
       "    <tr>\n",
       "      <th>2</th>\n",
       "      <td>3</td>\n",
       "      <td>41354</td>\n",
       "      <td>0</td>\n",
       "      <td>1</td>\n",
       "      <td>1</td>\n",
       "      <td>1</td>\n",
       "      <td>4123</td>\n",
       "      <td>4</td>\n",
       "      <td>0</td>\n",
       "      <td>0</td>\n",
       "      <td>7034</td>\n",
       "      <td>0</td>\n",
       "      <td>2</td>\n",
       "    </tr>\n",
       "    <tr>\n",
       "      <th>3</th>\n",
       "      <td>4</td>\n",
       "      <td>14776</td>\n",
       "      <td>0</td>\n",
       "      <td>1</td>\n",
       "      <td>1</td>\n",
       "      <td>1</td>\n",
       "      <td>500</td>\n",
       "      <td>1</td>\n",
       "      <td>0</td>\n",
       "      <td>0</td>\n",
       "      <td>6952</td>\n",
       "      <td>0</td>\n",
       "      <td>2</td>\n",
       "    </tr>\n",
       "    <tr>\n",
       "      <th>4</th>\n",
       "      <td>5</td>\n",
       "      <td>97752</td>\n",
       "      <td>0</td>\n",
       "      <td>4</td>\n",
       "      <td>1</td>\n",
       "      <td>1</td>\n",
       "      <td>43300</td>\n",
       "      <td>26</td>\n",
       "      <td>2077</td>\n",
       "      <td>4</td>\n",
       "      <td>6935</td>\n",
       "      <td>1</td>\n",
       "      <td>2</td>\n",
       "    </tr>\n",
       "  </tbody>\n",
       "</table>\n",
       "</div>"
      ],
      "text/plain": [
       "   ID  Balance  Qual_miles  cc1_miles  cc2_miles  cc3_miles  Bonus_miles  \\\n",
       "0   1    28143           0          1          1          1          174   \n",
       "1   2    19244           0          1          1          1          215   \n",
       "2   3    41354           0          1          1          1         4123   \n",
       "3   4    14776           0          1          1          1          500   \n",
       "4   5    97752           0          4          1          1        43300   \n",
       "\n",
       "   Bonus_trans  Flight_miles_12mo  Flight_trans_12  Days_since_enroll  Award  \\\n",
       "0            1                  0                0               7000      0   \n",
       "1            2                  0                0               6968      0   \n",
       "2            4                  0                0               7034      0   \n",
       "3            1                  0                0               6952      0   \n",
       "4           26               2077                4               6935      1   \n",
       "\n",
       "   cluster id  \n",
       "0           2  \n",
       "1           2  \n",
       "2           2  \n",
       "3           2  \n",
       "4           2  "
      ]
     },
     "execution_count": 601,
     "metadata": {},
     "output_type": "execute_result"
    }
   ],
   "source": [
    "air.head()"
   ]
  },
  {
   "cell_type": "code",
   "execution_count": 621,
   "id": "d5a883e9",
   "metadata": {},
   "outputs": [
    {
     "data": {
      "text/plain": [
       "cluster id\n",
       "0    (16, 42, 82, 83, 88, 94, 103, 108, 112, 166, 1...\n",
       "1    (40, 52, 144, 182, 213, 220, 282, 401, 412, 41...\n",
       "2    (1, 2, 3, 4, 5, 6, 7, 8, 9, 10, 11, 12, 13, 14...\n",
       "Name: ID, dtype: object"
      ]
     },
     "execution_count": 621,
     "metadata": {},
     "output_type": "execute_result"
    }
   ],
   "source": [
    "air.groupby([\"cluster id\"])[\"ID\"].apply(lambda x:tuple(x))\n"
   ]
  },
  {
   "cell_type": "code",
   "execution_count": 604,
   "id": "d17dfef3",
   "metadata": {},
   "outputs": [
    {
     "data": {
      "text/plain": [
       "array([2, 2, 2, ..., 2, 2, 2], dtype=int64)"
      ]
     },
     "execution_count": 604,
     "metadata": {},
     "output_type": "execute_result"
    }
   ],
   "source": [
    "first_model1.labels_"
   ]
  },
  {
   "cell_type": "markdown",
   "id": "ae0c20d7",
   "metadata": {},
   "source": [
    "# 2. K-Means"
   ]
  },
  {
   "cell_type": "code",
   "execution_count": 614,
   "id": "59b8a069",
   "metadata": {},
   "outputs": [],
   "source": [
    "#Finding optimal number of cluster for normalize data\n",
    "#using Elbow method and silhoutte method\n",
    "\n",
    "nc=[2,3,4,5,6,7,8,9]\n",
    "iner=[]\n",
    "silscore =[]\n",
    "\n",
    "for i in nc:\n",
    "    Km=KMeans(i)\n",
    "    Km.fit(air_norm)\n",
    "    iner.append(Km.inertia_)\n",
    "\n",
    "                    \n",
    "for i in nc:\n",
    "    hc = KMeans(n_clusters=i)\n",
    "    y=hc.fit_predict(air_norm)\n",
    "    silscore.append(sil(air_norm,y))"
   ]
  },
  {
   "cell_type": "code",
   "execution_count": 615,
   "id": "6a031d99",
   "metadata": {},
   "outputs": [
    {
     "data": {
      "text/plain": [
       "[267.5974093239798,\n",
       " 173.27025436241556,\n",
       " 116.32481412264534,\n",
       " 90.82424111071828,\n",
       " 70.47261152281708,\n",
       " 60.072944914088325,\n",
       " 51.93073040654503,\n",
       " 47.199758218223465]"
      ]
     },
     "execution_count": 615,
     "metadata": {},
     "output_type": "execute_result"
    }
   ],
   "source": [
    "iner"
   ]
  },
  {
   "cell_type": "code",
   "execution_count": 616,
   "id": "f8b675d6",
   "metadata": {},
   "outputs": [
    {
     "data": {
      "text/plain": [
       "[0.5555975297126332,\n",
       " 0.5722202901269124,\n",
       " 0.4931742061537133,\n",
       " 0.5017661648902353,\n",
       " 0.4780941755355571,\n",
       " 0.4319656186753706,\n",
       " 0.4373642188569387,\n",
       " 0.4423058095036654]"
      ]
     },
     "execution_count": 616,
     "metadata": {},
     "output_type": "execute_result"
    }
   ],
   "source": [
    "silscore"
   ]
  },
  {
   "cell_type": "code",
   "execution_count": 617,
   "id": "a697c4b0",
   "metadata": {},
   "outputs": [
    {
     "data": {
      "text/plain": [
       "Text(0.5, 1.0, 'Silhoutte Score')"
      ]
     },
     "execution_count": 617,
     "metadata": {},
     "output_type": "execute_result"
    },
    {
     "data": {
      "image/png": "[encoded data removed]",
      "text/plain": [
       "<Figure size 1080x576 with 2 Axes>"
      ]
     },
     "metadata": {
      "needs_background": "light"
     },
     "output_type": "display_data"
    }
   ],
   "source": [
    "plt.figure(figsize=(15,8))\n",
    "plt.subplot(1,2,1)\n",
    "plt.plot(nc,iner,color=\"black\")\n",
    "plt.scatter(nc,iner,color=\"red\")\n",
    "plt.title('Elbow Score')\n",
    "                    \n",
    "plt.subplot(1,2,2)\n",
    "plt.plot(nc,silscore,color=\"black\")\n",
    "plt.scatter(nc,silscore,color=\"red\")\n",
    "plt.title('Silhoutte Score')"
   ]
  },
  {
   "cell_type": "markdown",
   "id": "3d6dad6a",
   "metadata": {},
   "source": [
    "Conclusion:-\n",
    "\n",
    "Optimal number of clustering we get is 3 in K-Means by seeing silhoutte score and elbow method\n"
   ]
  },
  {
   "cell_type": "markdown",
   "id": "f003984b",
   "metadata": {},
   "source": [
    "# 3.DBSCAN"
   ]
  },
  {
   "cell_type": "code",
   "execution_count": 622,
   "id": "c9e3541d",
   "metadata": {},
   "outputs": [
    {
     "data": {
      "text/html": [
       "<div>\n",
       "<style scoped>\n",
       "    .dataframe tbody tr th:only-of-type {\n",
       "        vertical-align: middle;\n",
       "    }\n",
       "\n",
       "    .dataframe tbody tr th {\n",
       "        vertical-align: top;\n",
       "    }\n",
       "\n",
       "    .dataframe thead th {\n",
       "        text-align: right;\n",
       "    }\n",
       "</style>\n",
       "<table border=\"1\" class=\"dataframe\">\n",
       "  <thead>\n",
       "    <tr style=\"text-align: right;\">\n",
       "      <th></th>\n",
       "      <th>Balance</th>\n",
       "      <th>Qual_miles</th>\n",
       "      <th>cc1_miles</th>\n",
       "      <th>cc2_miles</th>\n",
       "      <th>cc3_miles</th>\n",
       "      <th>Bonus_miles</th>\n",
       "      <th>Bonus_trans</th>\n",
       "      <th>Flight_miles_12mo</th>\n",
       "      <th>Flight_trans_12</th>\n",
       "      <th>Days_since_enroll</th>\n",
       "    </tr>\n",
       "  </thead>\n",
       "  <tbody>\n",
       "    <tr>\n",
       "      <th>0</th>\n",
       "      <td>0.970414</td>\n",
       "      <td>0.0</td>\n",
       "      <td>0.000034</td>\n",
       "      <td>0.000034</td>\n",
       "      <td>0.000034</td>\n",
       "      <td>0.006000</td>\n",
       "      <td>0.000034</td>\n",
       "      <td>0.000000</td>\n",
       "      <td>0.000000</td>\n",
       "      <td>0.241371</td>\n",
       "    </tr>\n",
       "    <tr>\n",
       "      <th>1</th>\n",
       "      <td>0.940209</td>\n",
       "      <td>0.0</td>\n",
       "      <td>0.000049</td>\n",
       "      <td>0.000049</td>\n",
       "      <td>0.000049</td>\n",
       "      <td>0.010504</td>\n",
       "      <td>0.000098</td>\n",
       "      <td>0.000000</td>\n",
       "      <td>0.000000</td>\n",
       "      <td>0.340437</td>\n",
       "    </tr>\n",
       "    <tr>\n",
       "      <th>2</th>\n",
       "      <td>0.981113</td>\n",
       "      <td>0.0</td>\n",
       "      <td>0.000024</td>\n",
       "      <td>0.000024</td>\n",
       "      <td>0.000024</td>\n",
       "      <td>0.097817</td>\n",
       "      <td>0.000095</td>\n",
       "      <td>0.000000</td>\n",
       "      <td>0.000000</td>\n",
       "      <td>0.166880</td>\n",
       "    </tr>\n",
       "    <tr>\n",
       "      <th>3</th>\n",
       "      <td>0.904428</td>\n",
       "      <td>0.0</td>\n",
       "      <td>0.000061</td>\n",
       "      <td>0.000061</td>\n",
       "      <td>0.000061</td>\n",
       "      <td>0.030605</td>\n",
       "      <td>0.000061</td>\n",
       "      <td>0.000000</td>\n",
       "      <td>0.000000</td>\n",
       "      <td>0.425527</td>\n",
       "    </tr>\n",
       "    <tr>\n",
       "      <th>4</th>\n",
       "      <td>0.912226</td>\n",
       "      <td>0.0</td>\n",
       "      <td>0.000037</td>\n",
       "      <td>0.000009</td>\n",
       "      <td>0.000009</td>\n",
       "      <td>0.404078</td>\n",
       "      <td>0.000243</td>\n",
       "      <td>0.019383</td>\n",
       "      <td>0.000037</td>\n",
       "      <td>0.064718</td>\n",
       "    </tr>\n",
       "  </tbody>\n",
       "</table>\n",
       "</div>"
      ],
      "text/plain": [
       "    Balance  Qual_miles  cc1_miles  cc2_miles  cc3_miles  Bonus_miles  \\\n",
       "0  0.970414         0.0   0.000034   0.000034   0.000034     0.006000   \n",
       "1  0.940209         0.0   0.000049   0.000049   0.000049     0.010504   \n",
       "2  0.981113         0.0   0.000024   0.000024   0.000024     0.097817   \n",
       "3  0.904428         0.0   0.000061   0.000061   0.000061     0.030605   \n",
       "4  0.912226         0.0   0.000037   0.000009   0.000009     0.404078   \n",
       "\n",
       "   Bonus_trans  Flight_miles_12mo  Flight_trans_12  Days_since_enroll  \n",
       "0     0.000034           0.000000         0.000000           0.241371  \n",
       "1     0.000098           0.000000         0.000000           0.340437  \n",
       "2     0.000095           0.000000         0.000000           0.166880  \n",
       "3     0.000061           0.000000         0.000000           0.425527  \n",
       "4     0.000243           0.019383         0.000037           0.064718  "
      ]
     },
     "execution_count": 622,
     "metadata": {},
     "output_type": "execute_result"
    }
   ],
   "source": [
    "air_norm.head()"
   ]
  },
  {
   "cell_type": "code",
   "execution_count": 702,
   "id": "7b5a683c",
   "metadata": {},
   "outputs": [],
   "source": [
    "dbs=DBSCAN(eps=.1, min_samples=2)"
   ]
  },
  {
   "cell_type": "code",
   "execution_count": 703,
   "id": "ef1916b8",
   "metadata": {},
   "outputs": [],
   "source": [
    "labels=dbs.fit_predict(air_norm)"
   ]
  },
  {
   "cell_type": "code",
   "execution_count": 704,
   "id": "0d2bbd37",
   "metadata": {},
   "outputs": [
    {
     "data": {
      "text/plain": [
       "array([-1,  0,  1,  2,  3,  4,  5,  6,  7,  8,  9, 10], dtype=int64)"
      ]
     },
     "execution_count": 704,
     "metadata": {},
     "output_type": "execute_result"
    }
   ],
   "source": [
    "np.unique(labels)"
   ]
  },
  {
   "cell_type": "code",
   "execution_count": 705,
   "id": "4a8e60fb",
   "metadata": {},
   "outputs": [
    {
     "data": {
      "text/plain": [
       "array([0, 0, 0, ..., 0, 0, 0], dtype=int64)"
      ]
     },
     "execution_count": 705,
     "metadata": {},
     "output_type": "execute_result"
    }
   ],
   "source": [
    "labels"
   ]
  },
  {
   "cell_type": "code",
   "execution_count": 706,
   "id": "c0c753db",
   "metadata": {},
   "outputs": [],
   "source": [
    "air[\"cluster id\"]=labels"
   ]
  },
  {
   "cell_type": "code",
   "execution_count": 707,
   "id": "1932bccd",
   "metadata": {},
   "outputs": [
    {
     "data": {
      "text/html": [
       "<div>\n",
       "<style scoped>\n",
       "    .dataframe tbody tr th:only-of-type {\n",
       "        vertical-align: middle;\n",
       "    }\n",
       "\n",
       "    .dataframe tbody tr th {\n",
       "        vertical-align: top;\n",
       "    }\n",
       "\n",
       "    .dataframe thead th {\n",
       "        text-align: right;\n",
       "    }\n",
       "</style>\n",
       "<table border=\"1\" class=\"dataframe\">\n",
       "  <thead>\n",
       "    <tr style=\"text-align: right;\">\n",
       "      <th></th>\n",
       "      <th>ID</th>\n",
       "      <th>Balance</th>\n",
       "      <th>Qual_miles</th>\n",
       "      <th>cc1_miles</th>\n",
       "      <th>cc2_miles</th>\n",
       "      <th>cc3_miles</th>\n",
       "      <th>Bonus_miles</th>\n",
       "      <th>Bonus_trans</th>\n",
       "      <th>Flight_miles_12mo</th>\n",
       "      <th>Flight_trans_12</th>\n",
       "      <th>Days_since_enroll</th>\n",
       "      <th>Award</th>\n",
       "      <th>cluster id</th>\n",
       "    </tr>\n",
       "  </thead>\n",
       "  <tbody>\n",
       "    <tr>\n",
       "      <th>0</th>\n",
       "      <td>1</td>\n",
       "      <td>28143</td>\n",
       "      <td>0</td>\n",
       "      <td>1</td>\n",
       "      <td>1</td>\n",
       "      <td>1</td>\n",
       "      <td>174</td>\n",
       "      <td>1</td>\n",
       "      <td>0</td>\n",
       "      <td>0</td>\n",
       "      <td>7000</td>\n",
       "      <td>0</td>\n",
       "      <td>0</td>\n",
       "    </tr>\n",
       "    <tr>\n",
       "      <th>1</th>\n",
       "      <td>2</td>\n",
       "      <td>19244</td>\n",
       "      <td>0</td>\n",
       "      <td>1</td>\n",
       "      <td>1</td>\n",
       "      <td>1</td>\n",
       "      <td>215</td>\n",
       "      <td>2</td>\n",
       "      <td>0</td>\n",
       "      <td>0</td>\n",
       "      <td>6968</td>\n",
       "      <td>0</td>\n",
       "      <td>0</td>\n",
       "    </tr>\n",
       "    <tr>\n",
       "      <th>2</th>\n",
       "      <td>3</td>\n",
       "      <td>41354</td>\n",
       "      <td>0</td>\n",
       "      <td>1</td>\n",
       "      <td>1</td>\n",
       "      <td>1</td>\n",
       "      <td>4123</td>\n",
       "      <td>4</td>\n",
       "      <td>0</td>\n",
       "      <td>0</td>\n",
       "      <td>7034</td>\n",
       "      <td>0</td>\n",
       "      <td>0</td>\n",
       "    </tr>\n",
       "    <tr>\n",
       "      <th>3</th>\n",
       "      <td>4</td>\n",
       "      <td>14776</td>\n",
       "      <td>0</td>\n",
       "      <td>1</td>\n",
       "      <td>1</td>\n",
       "      <td>1</td>\n",
       "      <td>500</td>\n",
       "      <td>1</td>\n",
       "      <td>0</td>\n",
       "      <td>0</td>\n",
       "      <td>6952</td>\n",
       "      <td>0</td>\n",
       "      <td>0</td>\n",
       "    </tr>\n",
       "    <tr>\n",
       "      <th>4</th>\n",
       "      <td>5</td>\n",
       "      <td>97752</td>\n",
       "      <td>0</td>\n",
       "      <td>4</td>\n",
       "      <td>1</td>\n",
       "      <td>1</td>\n",
       "      <td>43300</td>\n",
       "      <td>26</td>\n",
       "      <td>2077</td>\n",
       "      <td>4</td>\n",
       "      <td>6935</td>\n",
       "      <td>1</td>\n",
       "      <td>0</td>\n",
       "    </tr>\n",
       "  </tbody>\n",
       "</table>\n",
       "</div>"
      ],
      "text/plain": [
       "   ID  Balance  Qual_miles  cc1_miles  cc2_miles  cc3_miles  Bonus_miles  \\\n",
       "0   1    28143           0          1          1          1          174   \n",
       "1   2    19244           0          1          1          1          215   \n",
       "2   3    41354           0          1          1          1         4123   \n",
       "3   4    14776           0          1          1          1          500   \n",
       "4   5    97752           0          4          1          1        43300   \n",
       "\n",
       "   Bonus_trans  Flight_miles_12mo  Flight_trans_12  Days_since_enroll  Award  \\\n",
       "0            1                  0                0               7000      0   \n",
       "1            2                  0                0               6968      0   \n",
       "2            4                  0                0               7034      0   \n",
       "3            1                  0                0               6952      0   \n",
       "4           26               2077                4               6935      1   \n",
       "\n",
       "   cluster id  \n",
       "0           0  \n",
       "1           0  \n",
       "2           0  \n",
       "3           0  \n",
       "4           0  "
      ]
     },
     "execution_count": 707,
     "metadata": {},
     "output_type": "execute_result"
    }
   ],
   "source": [
    "air.head()"
   ]
  },
  {
   "cell_type": "code",
   "execution_count": 708,
   "id": "b9be504c",
   "metadata": {},
   "outputs": [
    {
     "data": {
      "text/plain": [
       "cluster id\n",
       "-1     (94, 380, 448, 502, 969, 977, 1089, 1143, 1189...\n",
       " 0     (1, 2, 3, 4, 5, 6, 7, 8, 9, 10, 11, 12, 13, 14...\n",
       " 1                                      (245, 496, 2433)\n",
       " 2                                           (513, 2345)\n",
       " 3                                     (517, 1158, 2505)\n",
       " 4                                     (575, 1304, 2071)\n",
       " 5                                           (987, 3867)\n",
       " 6                                          (1275, 2007)\n",
       " 7                                          (1307, 4007)\n",
       " 8                                          (1576, 2815)\n",
       " 9                                          (2863, 3835)\n",
       " 10                                         (3720, 3770)\n",
       "Name: ID, dtype: object"
      ]
     },
     "execution_count": 708,
     "metadata": {},
     "output_type": "execute_result"
    }
   ],
   "source": [
    "air.groupby([\"cluster id\"])[\"ID\"].apply(lambda x:tuple(x))"
   ]
  },
  {
   "cell_type": "code",
   "execution_count": 709,
   "id": "0792c28f",
   "metadata": {},
   "outputs": [
    {
     "data": {
      "text/plain": [
       "<matplotlib.collections.PathCollection at 0x10b1dfde700>"
      ]
     },
     "execution_count": 709,
     "metadata": {},
     "output_type": "execute_result"
    },
    {
     "data": {
      "image/png": "[encoded data removed]",
      "text/plain": [
       "<Figure size 432x288 with 1 Axes>"
      ]
     },
     "metadata": {
      "needs_background": "light"
     },
     "output_type": "display_data"
    }
   ],
   "source": [
    "plt.scatter(air[\"ID\"],air[\"cluster id\"],s=10)"
   ]
  },
  {
   "cell_type": "code",
   "execution_count": null,
   "id": "6c312362",
   "metadata": {},
   "outputs": [],
   "source": []
  }
 ],
 "metadata": {
  "kernelspec": {
   "display_name": "Python 3 (ipykernel)",
   "language": "python",
   "name": "python3"
  },
  "language_info": {
   "codemirror_mode": {
    "name": "ipython",
    "version": 3
   },
   "file_extension": ".py",
   "mimetype": "text/x-python",
   "name": "python",
   "nbconvert_exporter": "python",
   "pygments_lexer": "ipython3",
   "version": "3.9.13"
  }
 },
 "nbformat": 4,
 "nbformat_minor": 5
}
